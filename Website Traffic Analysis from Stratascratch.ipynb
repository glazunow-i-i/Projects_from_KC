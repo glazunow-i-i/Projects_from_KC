{
 "cells": [
  {
   "cell_type": "markdown",
   "id": "c3c238f5",
   "metadata": {},
   "source": [
    "## Assignment\n",
    "\n",
    "The goal of this project is to understand this traffic better, in particular the volume and distribution of events, and to develop ideas how to increase the links' clickrates. With that in mind, please analyze the data using the Python libraries Pandas and SciPy where indicated, providing answers to the presented questions:\n",
    "\n",
    "1. How many total pageview events did the links in the provided dataset receive in the full period, how many per day?\n",
    "2. What about the other recorded events?\n",
    "3. Which countries did the pageviews come from?\n",
    "4. What was the overall click rate (clicks/pageviews)?\n",
    "5. How does the clickrate distribute across different links?\n",
    "6. Is there any correlation between clicks and previews on a link? Is it significant? How large is the effect? Make sure to at least test for potential linear as well as categorical (think binary) relationships between both variables."
   ]
  },
  {
   "cell_type": "markdown",
   "id": "7f827a2e",
   "metadata": {},
   "source": [
    "### Importing necessary libraries"
   ]
  },
  {
   "cell_type": "code",
   "execution_count": 21,
   "id": "c023c334",
   "metadata": {},
   "outputs": [],
   "source": [
    "import pandas as pd\n",
    "import numpy as np\n",
    "import phik\n",
    "from scipy import stats\n",
    "\n",
    "import matplotlib.pylab as plt\n",
    "import seaborn as sns"
   ]
  },
  {
   "cell_type": "markdown",
   "id": "fd0c268f",
   "metadata": {},
   "source": [
    "### Data importing and EDA"
   ]
  },
  {
   "cell_type": "code",
   "execution_count": 3,
   "id": "fc2752c2",
   "metadata": {},
   "outputs": [],
   "source": [
    "# import csv-file\n",
    "df = pd.read_csv('traffic.csv')"
   ]
  },
  {
   "cell_type": "code",
   "execution_count": 4,
   "id": "a0158c9d",
   "metadata": {},
   "outputs": [
    {
     "data": {
      "text/html": [
       "<div>\n",
       "<style scoped>\n",
       "    .dataframe tbody tr th:only-of-type {\n",
       "        vertical-align: middle;\n",
       "    }\n",
       "\n",
       "    .dataframe tbody tr th {\n",
       "        vertical-align: top;\n",
       "    }\n",
       "\n",
       "    .dataframe thead th {\n",
       "        text-align: right;\n",
       "    }\n",
       "</style>\n",
       "<table border=\"1\" class=\"dataframe\">\n",
       "  <thead>\n",
       "    <tr style=\"text-align: right;\">\n",
       "      <th></th>\n",
       "      <th>event</th>\n",
       "      <th>date</th>\n",
       "      <th>country</th>\n",
       "      <th>city</th>\n",
       "      <th>artist</th>\n",
       "      <th>album</th>\n",
       "      <th>track</th>\n",
       "      <th>isrc</th>\n",
       "      <th>linkid</th>\n",
       "    </tr>\n",
       "  </thead>\n",
       "  <tbody>\n",
       "    <tr>\n",
       "      <th>0</th>\n",
       "      <td>click</td>\n",
       "      <td>2021-08-21</td>\n",
       "      <td>Saudi Arabia</td>\n",
       "      <td>Jeddah</td>\n",
       "      <td>Tesher</td>\n",
       "      <td>Jalebi Baby</td>\n",
       "      <td>Jalebi Baby</td>\n",
       "      <td>QZNWQ2070741</td>\n",
       "      <td>2d896d31-97b6-4869-967b-1c5fb9cd4bb8</td>\n",
       "    </tr>\n",
       "    <tr>\n",
       "      <th>1</th>\n",
       "      <td>click</td>\n",
       "      <td>2021-08-21</td>\n",
       "      <td>Saudi Arabia</td>\n",
       "      <td>Jeddah</td>\n",
       "      <td>Tesher</td>\n",
       "      <td>Jalebi Baby</td>\n",
       "      <td>Jalebi Baby</td>\n",
       "      <td>QZNWQ2070741</td>\n",
       "      <td>2d896d31-97b6-4869-967b-1c5fb9cd4bb8</td>\n",
       "    </tr>\n",
       "    <tr>\n",
       "      <th>2</th>\n",
       "      <td>click</td>\n",
       "      <td>2021-08-21</td>\n",
       "      <td>India</td>\n",
       "      <td>Ludhiana</td>\n",
       "      <td>Reyanna Maria</td>\n",
       "      <td>So Pretty</td>\n",
       "      <td>So Pretty</td>\n",
       "      <td>USUM72100871</td>\n",
       "      <td>23199824-9cf5-4b98-942a-34965c3b0cc2</td>\n",
       "    </tr>\n",
       "    <tr>\n",
       "      <th>3</th>\n",
       "      <td>click</td>\n",
       "      <td>2021-08-21</td>\n",
       "      <td>France</td>\n",
       "      <td>Unknown</td>\n",
       "      <td>Simone &amp; Simaria, Sebastian Yatra</td>\n",
       "      <td>No Llores Más</td>\n",
       "      <td>No Llores Más</td>\n",
       "      <td>BRUM72003904</td>\n",
       "      <td>35573248-4e49-47c7-af80-08a960fa74cd</td>\n",
       "    </tr>\n",
       "    <tr>\n",
       "      <th>4</th>\n",
       "      <td>click</td>\n",
       "      <td>2021-08-21</td>\n",
       "      <td>Maldives</td>\n",
       "      <td>Malé</td>\n",
       "      <td>Tesher</td>\n",
       "      <td>Jalebi Baby</td>\n",
       "      <td>Jalebi Baby</td>\n",
       "      <td>QZNWQ2070741</td>\n",
       "      <td>2d896d31-97b6-4869-967b-1c5fb9cd4bb8</td>\n",
       "    </tr>\n",
       "  </tbody>\n",
       "</table>\n",
       "</div>"
      ],
      "text/plain": [
       "   event        date       country      city  \\\n",
       "0  click  2021-08-21  Saudi Arabia    Jeddah   \n",
       "1  click  2021-08-21  Saudi Arabia    Jeddah   \n",
       "2  click  2021-08-21         India  Ludhiana   \n",
       "3  click  2021-08-21        France   Unknown   \n",
       "4  click  2021-08-21      Maldives      Malé   \n",
       "\n",
       "                              artist          album          track  \\\n",
       "0                             Tesher    Jalebi Baby    Jalebi Baby   \n",
       "1                             Tesher    Jalebi Baby    Jalebi Baby   \n",
       "2                      Reyanna Maria      So Pretty      So Pretty   \n",
       "3  Simone & Simaria, Sebastian Yatra  No Llores Más  No Llores Más   \n",
       "4                             Tesher    Jalebi Baby    Jalebi Baby   \n",
       "\n",
       "           isrc                                linkid  \n",
       "0  QZNWQ2070741  2d896d31-97b6-4869-967b-1c5fb9cd4bb8  \n",
       "1  QZNWQ2070741  2d896d31-97b6-4869-967b-1c5fb9cd4bb8  \n",
       "2  USUM72100871  23199824-9cf5-4b98-942a-34965c3b0cc2  \n",
       "3  BRUM72003904  35573248-4e49-47c7-af80-08a960fa74cd  \n",
       "4  QZNWQ2070741  2d896d31-97b6-4869-967b-1c5fb9cd4bb8  "
      ]
     },
     "execution_count": 4,
     "metadata": {},
     "output_type": "execute_result"
    }
   ],
   "source": [
    "df.head()"
   ]
  },
  {
   "cell_type": "code",
   "execution_count": 108,
   "id": "356338a7",
   "metadata": {},
   "outputs": [
    {
     "data": {
      "text/plain": [
       "(226278, 9)"
      ]
     },
     "execution_count": 108,
     "metadata": {},
     "output_type": "execute_result"
    }
   ],
   "source": [
    "# Let's look at main dataset features: shape, NaNs\n",
    "df.shape"
   ]
  },
  {
   "cell_type": "code",
   "execution_count": 117,
   "id": "76ab786b",
   "metadata": {},
   "outputs": [
    {
     "data": {
      "text/plain": [
       "isrc       0.031470\n",
       "artist     0.000164\n",
       "country    0.000049\n",
       "city       0.000049\n",
       "album      0.000022\n",
       "track      0.000022\n",
       "event      0.000000\n",
       "date       0.000000\n",
       "linkid     0.000000\n",
       "dtype: float64"
      ]
     },
     "execution_count": 117,
     "metadata": {},
     "output_type": "execute_result"
    }
   ],
   "source": [
    "# Let's look on the proportion of NaN to the df length\n",
    "(df.isna().sum() / df.shape[0]).sort_values(ascending=False)"
   ]
  },
  {
   "cell_type": "markdown",
   "id": "a454467d",
   "metadata": {},
   "source": [
    "The biggest proportion is in the 'isrc' column ~3%. But this column is not important for our analysis now\n",
    "Other columns that have several amount of NaN will not spoil our analysis because the amount of these NaNs is statistically insignificant (no more than 0.01% of the data)"
   ]
  },
  {
   "cell_type": "code",
   "execution_count": 118,
   "id": "a2697163",
   "metadata": {},
   "outputs": [
    {
     "data": {
      "text/html": [
       "<div>\n",
       "<style scoped>\n",
       "    .dataframe tbody tr th:only-of-type {\n",
       "        vertical-align: middle;\n",
       "    }\n",
       "\n",
       "    .dataframe tbody tr th {\n",
       "        vertical-align: top;\n",
       "    }\n",
       "\n",
       "    .dataframe thead th {\n",
       "        text-align: right;\n",
       "    }\n",
       "</style>\n",
       "<table border=\"1\" class=\"dataframe\">\n",
       "  <thead>\n",
       "    <tr style=\"text-align: right;\">\n",
       "      <th></th>\n",
       "      <th>index</th>\n",
       "      <th>event</th>\n",
       "    </tr>\n",
       "  </thead>\n",
       "  <tbody>\n",
       "    <tr>\n",
       "      <th>0</th>\n",
       "      <td>pageview</td>\n",
       "      <td>142015</td>\n",
       "    </tr>\n",
       "    <tr>\n",
       "      <th>1</th>\n",
       "      <td>click</td>\n",
       "      <td>55732</td>\n",
       "    </tr>\n",
       "    <tr>\n",
       "      <th>2</th>\n",
       "      <td>preview</td>\n",
       "      <td>28531</td>\n",
       "    </tr>\n",
       "  </tbody>\n",
       "</table>\n",
       "</div>"
      ],
      "text/plain": [
       "      index   event\n",
       "0  pageview  142015\n",
       "1     click   55732\n",
       "2   preview   28531"
      ]
     },
     "execution_count": 118,
     "metadata": {},
     "output_type": "execute_result"
    },
    {
     "data": {
      "image/png": "[encoded data removed]",
      "text/plain": [
       "<Figure size 432x288 with 1 Axes>"
      ]
     },
     "metadata": {},
     "output_type": "display_data"
    }
   ],
   "source": [
    "# let's look how events are distributed\n",
    "df['event'].value_counts().plot(kind='pie')\n",
    "df['event'].value_counts().reset_index()"
   ]
  },
  {
   "cell_type": "markdown",
   "id": "1e63564d",
   "metadata": {},
   "source": [
    "Most events are pageviews"
   ]
  },
  {
   "cell_type": "code",
   "execution_count": 119,
   "id": "bc4079dc",
   "metadata": {},
   "outputs": [
    {
     "name": "stdout",
     "output_type": "stream",
     "text": [
      "Min date: 2021-08-19; Max date: 2021-08-25\n"
     ]
    }
   ],
   "source": [
    "# Let's look at min and max date\n",
    "print(f'Min date: {df.date.min()}; Max date: {df.date.max()}')"
   ]
  },
  {
   "cell_type": "code",
   "execution_count": 120,
   "id": "565166c3",
   "metadata": {},
   "outputs": [
    {
     "data": {
      "text/html": [
       "<div>\n",
       "<style scoped>\n",
       "    .dataframe tbody tr th:only-of-type {\n",
       "        vertical-align: middle;\n",
       "    }\n",
       "\n",
       "    .dataframe tbody tr th {\n",
       "        vertical-align: top;\n",
       "    }\n",
       "\n",
       "    .dataframe thead th {\n",
       "        text-align: right;\n",
       "    }\n",
       "</style>\n",
       "<table border=\"1\" class=\"dataframe\">\n",
       "  <thead>\n",
       "    <tr style=\"text-align: right;\">\n",
       "      <th>event</th>\n",
       "      <th>date</th>\n",
       "      <th>click</th>\n",
       "      <th>pageview</th>\n",
       "      <th>preview</th>\n",
       "    </tr>\n",
       "  </thead>\n",
       "  <tbody>\n",
       "    <tr>\n",
       "      <th>0</th>\n",
       "      <td>2021-08-19</td>\n",
       "      <td>9207</td>\n",
       "      <td>22366</td>\n",
       "      <td>3788</td>\n",
       "    </tr>\n",
       "    <tr>\n",
       "      <th>1</th>\n",
       "      <td>2021-08-20</td>\n",
       "      <td>8508</td>\n",
       "      <td>21382</td>\n",
       "      <td>4222</td>\n",
       "    </tr>\n",
       "    <tr>\n",
       "      <th>2</th>\n",
       "      <td>2021-08-21</td>\n",
       "      <td>8071</td>\n",
       "      <td>21349</td>\n",
       "      <td>4663</td>\n",
       "    </tr>\n",
       "    <tr>\n",
       "      <th>3</th>\n",
       "      <td>2021-08-22</td>\n",
       "      <td>7854</td>\n",
       "      <td>20430</td>\n",
       "      <td>4349</td>\n",
       "    </tr>\n",
       "    <tr>\n",
       "      <th>4</th>\n",
       "      <td>2021-08-23</td>\n",
       "      <td>7314</td>\n",
       "      <td>18645</td>\n",
       "      <td>3846</td>\n",
       "    </tr>\n",
       "    <tr>\n",
       "      <th>5</th>\n",
       "      <td>2021-08-24</td>\n",
       "      <td>7301</td>\n",
       "      <td>18685</td>\n",
       "      <td>3840</td>\n",
       "    </tr>\n",
       "    <tr>\n",
       "      <th>6</th>\n",
       "      <td>2021-08-25</td>\n",
       "      <td>7476</td>\n",
       "      <td>19149</td>\n",
       "      <td>3822</td>\n",
       "    </tr>\n",
       "  </tbody>\n",
       "</table>\n",
       "</div>"
      ],
      "text/plain": [
       "event        date  click  pageview  preview\n",
       "0      2021-08-19   9207     22366     3788\n",
       "1      2021-08-20   8508     21382     4222\n",
       "2      2021-08-21   8071     21349     4663\n",
       "3      2021-08-22   7854     20430     4349\n",
       "4      2021-08-23   7314     18645     3846\n",
       "5      2021-08-24   7301     18685     3840\n",
       "6      2021-08-25   7476     19149     3822"
      ]
     },
     "execution_count": 120,
     "metadata": {},
     "output_type": "execute_result"
    }
   ],
   "source": [
    "# Also it may be usefull to know how events were distributed over the time\n",
    "# First we will create a df for the graph\n",
    "event_by_date = df.groupby(['date', 'event'], as_index=False) \\\n",
    "                  .country.count() \\\n",
    "                  .pivot(index='date', columns='event', values='country').reset_index()\n",
    "\n",
    "event_by_date"
   ]
  },
  {
   "cell_type": "code",
   "execution_count": 121,
   "id": "b94c5f80",
   "metadata": {},
   "outputs": [
    {
     "data": {
      "image/png": "[encoded data removed]",
      "text/plain": [
       "<Figure size 1152x576 with 1 Axes>"
      ]
     },
     "metadata": {
      "needs_background": "light"
     },
     "output_type": "display_data"
    }
   ],
   "source": [
    "# Then plot stacked area plot\n",
    "y = np.array([list(event_by_date['preview']),\n",
    "              list(event_by_date['click']),\n",
    "              list(event_by_date['pageview'])])\n",
    "\n",
    "x = np.array(list(event_by_date['date']))\n",
    "\n",
    "fig = plt.figure(figsize=(16,8))\n",
    "ax1 = fig.add_subplot(111)  \n",
    "\n",
    "ax1.fill_between(x, 0, y[0,:], facecolor=\"#CC6666\", alpha=.5, label=\"preview\")\n",
    "ax1.fill_between(x, y[0,:], y[1,:], facecolor=\"#1DACD6\", alpha=.5, label=\"click\")\n",
    "ax1.fill_between(x, y[1,:], y[2,:], facecolor=\"#6E5160\", label=\"pageview\")\n",
    "\n",
    "plt.legend(loc=\"upper right\")\n",
    "plt.show()"
   ]
  },
  {
   "cell_type": "markdown",
   "id": "09bc3ab0",
   "metadata": {},
   "source": [
    "Over the time the biggest fall was in the pageviews"
   ]
  },
  {
   "cell_type": "code",
   "execution_count": 135,
   "id": "9067bdab",
   "metadata": {},
   "outputs": [
    {
     "data": {
      "text/plain": [
       "Tesher                                                          0.180520\n",
       "Anne-Marie                                                      0.047074\n",
       "Tundra Beats                                                    0.043100\n",
       "Surf Mesa, Emilee                                               0.033296\n",
       "DMNDS, Strange Fruits Music, Fallen Roses, Lujavo, Nito-Onna    0.024363\n",
       "Reyanna Maria                                                   0.024032\n",
       "Shawn Mendes, Tainy                                             0.023908\n",
       "50 Cent, Olivia                                                 0.023722\n",
       "Roddy Ricch                                                     0.022511\n",
       "Olivia Rodrigo                                                  0.018189\n",
       "Name: artist, dtype: float64"
      ]
     },
     "execution_count": 135,
     "metadata": {},
     "output_type": "execute_result"
    }
   ],
   "source": [
    "# Last one - what are the top-10 artists\n",
    "df['artist'].value_counts(normalize=True).head(10)"
   ]
  },
  {
   "cell_type": "markdown",
   "id": "6066c88a",
   "metadata": {},
   "source": [
    "Here an interesting thing is that the first place (Tesher) takes ~5 times more events than the artist on the second place (Anne-marie)"
   ]
  },
  {
   "cell_type": "markdown",
   "id": "84508274",
   "metadata": {},
   "source": [
    "### 1. How many total pageview events did the links in the provided dataset receive in the full period, how many per day?"
   ]
  },
  {
   "cell_type": "code",
   "execution_count": 143,
   "id": "a30fcb3d",
   "metadata": {},
   "outputs": [
    {
     "data": {
      "text/plain": [
       "142015"
      ]
     },
     "execution_count": 143,
     "metadata": {},
     "output_type": "execute_result"
    }
   ],
   "source": [
    "# The total pageviews during the period\n",
    "df.query('event == \"pageview\"')['event'].count()"
   ]
  },
  {
   "cell_type": "code",
   "execution_count": 148,
   "id": "3dd97af5",
   "metadata": {},
   "outputs": [
    {
     "data": {
      "text/plain": [
       "date\n",
       "2021-08-19    22366\n",
       "2021-08-20    21382\n",
       "2021-08-21    21349\n",
       "2021-08-22    20430\n",
       "2021-08-23    18646\n",
       "2021-08-24    18693\n",
       "2021-08-25    19149\n",
       "Name: event, dtype: int64"
      ]
     },
     "execution_count": 148,
     "metadata": {},
     "output_type": "execute_result"
    }
   ],
   "source": [
    "# Pageviews per day\n",
    "df.query('event == \"pageview\"').groupby('date')['event'].count()"
   ]
  },
  {
   "cell_type": "code",
   "execution_count": 151,
   "id": "37bf9227",
   "metadata": {},
   "outputs": [
    {
     "data": {
      "text/plain": [
       "date\n",
       "2021-08-19    13006\n",
       "2021-08-20    11088\n",
       "2021-08-21     9939\n",
       "2021-08-22     9982\n",
       "2021-08-23     9722\n",
       "2021-08-24     9705\n",
       "2021-08-25     9918\n",
       "Name: event, dtype: int64"
      ]
     },
     "execution_count": 151,
     "metadata": {},
     "output_type": "execute_result"
    }
   ],
   "source": [
    "# Also it may be important to see on the data without full duplicates\n",
    "df.drop_duplicates().query('event == \"pageview\"').groupby('date')['event'].count()"
   ]
  },
  {
   "cell_type": "markdown",
   "id": "a1910328",
   "metadata": {},
   "source": [
    "~ The data pattern looks same, but twice as smaller in terms of recorded events"
   ]
  },
  {
   "cell_type": "markdown",
   "id": "8da6d739",
   "metadata": {},
   "source": [
    "### 2. What about the other recorded events?"
   ]
  },
  {
   "cell_type": "code",
   "execution_count": 157,
   "id": "d7f3cda9",
   "metadata": {},
   "outputs": [
    {
     "data": {
      "text/html": [
       "<div>\n",
       "<style scoped>\n",
       "    .dataframe tbody tr th:only-of-type {\n",
       "        vertical-align: middle;\n",
       "    }\n",
       "\n",
       "    .dataframe tbody tr th {\n",
       "        vertical-align: top;\n",
       "    }\n",
       "\n",
       "    .dataframe thead th {\n",
       "        text-align: right;\n",
       "    }\n",
       "</style>\n",
       "<table border=\"1\" class=\"dataframe\">\n",
       "  <thead>\n",
       "    <tr style=\"text-align: right;\">\n",
       "      <th></th>\n",
       "      <th>event</th>\n",
       "      <th>date</th>\n",
       "    </tr>\n",
       "  </thead>\n",
       "  <tbody>\n",
       "    <tr>\n",
       "      <th>0</th>\n",
       "      <td>click</td>\n",
       "      <td>55732</td>\n",
       "    </tr>\n",
       "    <tr>\n",
       "      <th>1</th>\n",
       "      <td>preview</td>\n",
       "      <td>28531</td>\n",
       "    </tr>\n",
       "  </tbody>\n",
       "</table>\n",
       "</div>"
      ],
      "text/plain": [
       "     event   date\n",
       "0    click  55732\n",
       "1  preview  28531"
      ]
     },
     "execution_count": 157,
     "metadata": {},
     "output_type": "execute_result"
    }
   ],
   "source": [
    "df.query('event != \"pageview\"').groupby('event', as_index=False).date.count()"
   ]
  },
  {
   "cell_type": "code",
   "execution_count": 160,
   "id": "be9c9501",
   "metadata": {},
   "outputs": [
    {
     "name": "stdout",
     "output_type": "stream",
     "text": [
      "Event type: click\n",
      "date\n",
      "2021-08-19    9207\n",
      "2021-08-20    8508\n",
      "2021-08-21    8071\n",
      "2021-08-22    7854\n",
      "2021-08-23    7315\n",
      "2021-08-24    7301\n",
      "2021-08-25    7476\n",
      "Name: event, dtype: int64\n",
      "\n",
      "Event type: preview\n",
      "date\n",
      "2021-08-19    3788\n",
      "2021-08-20    4222\n",
      "2021-08-21    4663\n",
      "2021-08-22    4349\n",
      "2021-08-23    3847\n",
      "2021-08-24    3840\n",
      "2021-08-25    3822\n",
      "Name: event, dtype: int64\n"
     ]
    }
   ],
   "source": [
    "print('Event type: click')\n",
    "print(df.query('event == \"click\"').groupby('date')['event'].count())\n",
    "print('\\nEvent type: preview')\n",
    "print(df.query('event == \"preview\"').groupby('date')['event'].count())"
   ]
  },
  {
   "cell_type": "markdown",
   "id": "a0a514d2",
   "metadata": {},
   "source": [
    "### 3. Which countries did the pageviews come from?"
   ]
  },
  {
   "cell_type": "code",
   "execution_count": 166,
   "id": "b78bd03a",
   "metadata": {},
   "outputs": [
    {
     "name": "stdout",
     "output_type": "stream",
     "text": [
      "Saudi Arabia            0.219093\n",
      "India                   0.186397\n",
      "United States           0.139080\n",
      "France                  0.071053\n",
      "Iraq                    0.039912\n",
      "Pakistan                0.028863\n",
      "United Kingdom          0.025219\n",
      "Germany                 0.019618\n",
      "United Arab Emirates    0.016223\n",
      "Kuwait                  0.014467\n",
      "Name: country, dtype: float64\n",
      "\n",
      "Top-10 countries give: 75.99% of traffic\n"
     ]
    }
   ],
   "source": [
    "countries_preview = df.query('event != \"pageview\"')['country'].value_counts(normalize=True).head(10)\n",
    "\n",
    "print(countries_preview)\n",
    "print(f'\\nTop-10 countries give: {round(countries_preview.sum()*100,2)}% of traffic')"
   ]
  },
  {
   "cell_type": "markdown",
   "id": "98292abc",
   "metadata": {},
   "source": [
    "### 4. What was the overall click rate (clicks/pageviews)?"
   ]
  },
  {
   "cell_type": "code",
   "execution_count": 183,
   "id": "b2f6c8a5",
   "metadata": {},
   "outputs": [
    {
     "name": "stdout",
     "output_type": "stream",
     "text": [
      "Overall click rate: 0.39\n"
     ]
    }
   ],
   "source": [
    "overall_clicks = len(df.query('event == \"click\"')['event'])\n",
    "overall_pageviews = len(df.query('event == \"pageview\"')['event'])\n",
    "\n",
    "print(f'Overall click rate: {round(overall_clicks / overall_pageviews, 2)}')"
   ]
  },
  {
   "cell_type": "markdown",
   "id": "c260ddc1",
   "metadata": {},
   "source": [
    "### 5. How does the clickrate distribute across different links?"
   ]
  },
  {
   "cell_type": "markdown",
   "id": "01f24b13",
   "metadata": {},
   "source": [
    "That will be harder. First we will count the amount of clicks and views by link. Then we will count the clickrate and make further analysis"
   ]
  },
  {
   "cell_type": "code",
   "execution_count": 219,
   "id": "ae7339f0",
   "metadata": {},
   "outputs": [
    {
     "data": {
      "text/html": [
       "<div>\n",
       "<style scoped>\n",
       "    .dataframe tbody tr th:only-of-type {\n",
       "        vertical-align: middle;\n",
       "    }\n",
       "\n",
       "    .dataframe tbody tr th {\n",
       "        vertical-align: top;\n",
       "    }\n",
       "\n",
       "    .dataframe thead th {\n",
       "        text-align: right;\n",
       "    }\n",
       "</style>\n",
       "<table border=\"1\" class=\"dataframe\">\n",
       "  <thead>\n",
       "    <tr style=\"text-align: right;\">\n",
       "      <th>event</th>\n",
       "      <th>linkid</th>\n",
       "      <th>click</th>\n",
       "      <th>pageview</th>\n",
       "      <th>preview</th>\n",
       "    </tr>\n",
       "  </thead>\n",
       "  <tbody>\n",
       "    <tr>\n",
       "      <th>0</th>\n",
       "      <td>00073307-ae96-5089-a117-4783afb42f8e</td>\n",
       "      <td>0.0</td>\n",
       "      <td>2.0</td>\n",
       "      <td>0.0</td>\n",
       "    </tr>\n",
       "    <tr>\n",
       "      <th>1</th>\n",
       "      <td>00126b32-0c35-507b-981c-02c80d2aa8e7</td>\n",
       "      <td>2.0</td>\n",
       "      <td>2.0</td>\n",
       "      <td>0.0</td>\n",
       "    </tr>\n",
       "    <tr>\n",
       "      <th>2</th>\n",
       "      <td>0018cfff-50a1-5984-9715-01ef2d11a49a</td>\n",
       "      <td>0.0</td>\n",
       "      <td>1.0</td>\n",
       "      <td>0.0</td>\n",
       "    </tr>\n",
       "    <tr>\n",
       "      <th>3</th>\n",
       "      <td>0033934b-5d16-5a06-af58-d087bcdd3680</td>\n",
       "      <td>0.0</td>\n",
       "      <td>1.0</td>\n",
       "      <td>0.0</td>\n",
       "    </tr>\n",
       "    <tr>\n",
       "      <th>4</th>\n",
       "      <td>0034d6cf-3bd8-5ffe-aafc-b3959fc48608</td>\n",
       "      <td>0.0</td>\n",
       "      <td>1.0</td>\n",
       "      <td>0.0</td>\n",
       "    </tr>\n",
       "  </tbody>\n",
       "</table>\n",
       "</div>"
      ],
      "text/plain": [
       "event                                linkid  click  pageview  preview\n",
       "0      00073307-ae96-5089-a117-4783afb42f8e    0.0       2.0      0.0\n",
       "1      00126b32-0c35-507b-981c-02c80d2aa8e7    2.0       2.0      0.0\n",
       "2      0018cfff-50a1-5984-9715-01ef2d11a49a    0.0       1.0      0.0\n",
       "3      0033934b-5d16-5a06-af58-d087bcdd3680    0.0       1.0      0.0\n",
       "4      0034d6cf-3bd8-5ffe-aafc-b3959fc48608    0.0       1.0      0.0"
      ]
     },
     "execution_count": 219,
     "metadata": {},
     "output_type": "execute_result"
    }
   ],
   "source": [
    "# Calculating clicks and views\n",
    "cnt_by_link = df.groupby(['linkid', 'event'], as_index=False).date.count() \\\n",
    "    .pivot(index='linkid', columns='event', values='date').fillna(0).reset_index()\n",
    "\n",
    "cnt_by_link.head()"
   ]
  },
  {
   "cell_type": "code",
   "execution_count": 222,
   "id": "30a2a857",
   "metadata": {},
   "outputs": [],
   "source": [
    "# Calculating clickrate by link\n",
    "\n",
    "cnt_by_link['click_rate'] = cnt_by_link['click'] / cnt_by_link['pageview']"
   ]
  },
  {
   "cell_type": "code",
   "execution_count": 227,
   "id": "20b443d7",
   "metadata": {},
   "outputs": [
    {
     "data": {
      "text/html": [
       "<div>\n",
       "<style scoped>\n",
       "    .dataframe tbody tr th:only-of-type {\n",
       "        vertical-align: middle;\n",
       "    }\n",
       "\n",
       "    .dataframe tbody tr th {\n",
       "        vertical-align: top;\n",
       "    }\n",
       "\n",
       "    .dataframe thead th {\n",
       "        text-align: right;\n",
       "    }\n",
       "</style>\n",
       "<table border=\"1\" class=\"dataframe\">\n",
       "  <thead>\n",
       "    <tr style=\"text-align: right;\">\n",
       "      <th>event</th>\n",
       "      <th>linkid</th>\n",
       "      <th>click</th>\n",
       "      <th>pageview</th>\n",
       "      <th>preview</th>\n",
       "      <th>click_rate</th>\n",
       "    </tr>\n",
       "  </thead>\n",
       "  <tbody>\n",
       "    <tr>\n",
       "      <th>2669</th>\n",
       "      <td>aee2b83d-5f50-4309-9e62-200c404d4751</td>\n",
       "      <td>1.0</td>\n",
       "      <td>0.0</td>\n",
       "      <td>0.0</td>\n",
       "      <td>inf</td>\n",
       "    </tr>\n",
       "    <tr>\n",
       "      <th>1280</th>\n",
       "      <td>54166799-1895-4f35-9b2f-b249c2f7a351</td>\n",
       "      <td>1.0</td>\n",
       "      <td>0.0</td>\n",
       "      <td>0.0</td>\n",
       "      <td>inf</td>\n",
       "    </tr>\n",
       "    <tr>\n",
       "      <th>3029</th>\n",
       "      <td>c95f1fc1-fab0-4c74-b3f5-52bd3684a713</td>\n",
       "      <td>923.0</td>\n",
       "      <td>10.0</td>\n",
       "      <td>0.0</td>\n",
       "      <td>92.3</td>\n",
       "    </tr>\n",
       "    <tr>\n",
       "      <th>792</th>\n",
       "      <td>330773a6-f22a-5c7a-a3e4-7809fe8539b9</td>\n",
       "      <td>3.0</td>\n",
       "      <td>1.0</td>\n",
       "      <td>0.0</td>\n",
       "      <td>3.0</td>\n",
       "    </tr>\n",
       "    <tr>\n",
       "      <th>614</th>\n",
       "      <td>27a91fe1-9fc0-5c28-9e9e-19ff0e7357a7</td>\n",
       "      <td>3.0</td>\n",
       "      <td>1.0</td>\n",
       "      <td>0.0</td>\n",
       "      <td>3.0</td>\n",
       "    </tr>\n",
       "    <tr>\n",
       "      <th>...</th>\n",
       "      <td>...</td>\n",
       "      <td>...</td>\n",
       "      <td>...</td>\n",
       "      <td>...</td>\n",
       "      <td>...</td>\n",
       "    </tr>\n",
       "    <tr>\n",
       "      <th>2457</th>\n",
       "      <td>a05d8198-7043-5b88-b7f5-f0f6b73d07da</td>\n",
       "      <td>0.0</td>\n",
       "      <td>1.0</td>\n",
       "      <td>0.0</td>\n",
       "      <td>0.0</td>\n",
       "    </tr>\n",
       "    <tr>\n",
       "      <th>1024</th>\n",
       "      <td>4246b78a-42c3-5f6c-88ac-e3724724f30d</td>\n",
       "      <td>0.0</td>\n",
       "      <td>1.0</td>\n",
       "      <td>0.0</td>\n",
       "      <td>0.0</td>\n",
       "    </tr>\n",
       "    <tr>\n",
       "      <th>1008</th>\n",
       "      <td>4168d994-e55d-58c7-8783-8bc0ca30900c</td>\n",
       "      <td>0.0</td>\n",
       "      <td>1.0</td>\n",
       "      <td>0.0</td>\n",
       "      <td>0.0</td>\n",
       "    </tr>\n",
       "    <tr>\n",
       "      <th>2516</th>\n",
       "      <td>a42a1db6-652e-522d-bbb5-ec29b37eec06</td>\n",
       "      <td>0.0</td>\n",
       "      <td>1.0</td>\n",
       "      <td>0.0</td>\n",
       "      <td>0.0</td>\n",
       "    </tr>\n",
       "    <tr>\n",
       "      <th>2</th>\n",
       "      <td>0018cfff-50a1-5984-9715-01ef2d11a49a</td>\n",
       "      <td>0.0</td>\n",
       "      <td>1.0</td>\n",
       "      <td>0.0</td>\n",
       "      <td>0.0</td>\n",
       "    </tr>\n",
       "  </tbody>\n",
       "</table>\n",
       "<p>3837 rows × 5 columns</p>\n",
       "</div>"
      ],
      "text/plain": [
       "event                                linkid  click  pageview  preview  \\\n",
       "2669   aee2b83d-5f50-4309-9e62-200c404d4751    1.0       0.0      0.0   \n",
       "1280   54166799-1895-4f35-9b2f-b249c2f7a351    1.0       0.0      0.0   \n",
       "3029   c95f1fc1-fab0-4c74-b3f5-52bd3684a713  923.0      10.0      0.0   \n",
       "792    330773a6-f22a-5c7a-a3e4-7809fe8539b9    3.0       1.0      0.0   \n",
       "614    27a91fe1-9fc0-5c28-9e9e-19ff0e7357a7    3.0       1.0      0.0   \n",
       "...                                     ...    ...       ...      ...   \n",
       "2457   a05d8198-7043-5b88-b7f5-f0f6b73d07da    0.0       1.0      0.0   \n",
       "1024   4246b78a-42c3-5f6c-88ac-e3724724f30d    0.0       1.0      0.0   \n",
       "1008   4168d994-e55d-58c7-8783-8bc0ca30900c    0.0       1.0      0.0   \n",
       "2516   a42a1db6-652e-522d-bbb5-ec29b37eec06    0.0       1.0      0.0   \n",
       "2      0018cfff-50a1-5984-9715-01ef2d11a49a    0.0       1.0      0.0   \n",
       "\n",
       "event  click_rate  \n",
       "2669          inf  \n",
       "1280          inf  \n",
       "3029         92.3  \n",
       "792           3.0  \n",
       "614           3.0  \n",
       "...           ...  \n",
       "2457          0.0  \n",
       "1024          0.0  \n",
       "1008          0.0  \n",
       "2516          0.0  \n",
       "2             0.0  \n",
       "\n",
       "[3837 rows x 5 columns]"
      ]
     },
     "execution_count": 227,
     "metadata": {},
     "output_type": "execute_result"
    }
   ],
   "source": [
    "cnt_by_link = cnt_by_link.sort_values('click_rate', ascending=False)\n",
    "cnt_by_link"
   ]
  },
  {
   "cell_type": "markdown",
   "id": "0dbc015a",
   "metadata": {},
   "source": [
    "There are 3 outliers.  \n",
    "2 have infinite click rate - that's look like a mistake, because we received one click without being on a page, we will remove these two rows in order two have more valid results.  \n",
    "The third one is also extremely suspecious, looks like bot attack or smth like that"
   ]
  },
  {
   "cell_type": "code",
   "execution_count": 229,
   "id": "fce21477",
   "metadata": {},
   "outputs": [],
   "source": [
    "# First let's remove 2 infinite results\n",
    "cnt_by_link = cnt_by_link.query('click_rate < 100')"
   ]
  },
  {
   "cell_type": "code",
   "execution_count": 240,
   "id": "08ad71e4",
   "metadata": {},
   "outputs": [
    {
     "data": {
      "text/html": [
       "<div>\n",
       "<style scoped>\n",
       "    .dataframe tbody tr th:only-of-type {\n",
       "        vertical-align: middle;\n",
       "    }\n",
       "\n",
       "    .dataframe tbody tr th {\n",
       "        vertical-align: top;\n",
       "    }\n",
       "\n",
       "    .dataframe thead th {\n",
       "        text-align: right;\n",
       "    }\n",
       "</style>\n",
       "<table border=\"1\" class=\"dataframe\">\n",
       "  <thead>\n",
       "    <tr style=\"text-align: right;\">\n",
       "      <th></th>\n",
       "      <th>event</th>\n",
       "      <th>date</th>\n",
       "      <th>country</th>\n",
       "      <th>city</th>\n",
       "      <th>artist</th>\n",
       "      <th>album</th>\n",
       "      <th>track</th>\n",
       "      <th>isrc</th>\n",
       "      <th>linkid</th>\n",
       "    </tr>\n",
       "  </thead>\n",
       "  <tbody>\n",
       "    <tr>\n",
       "      <th>91</th>\n",
       "      <td>click</td>\n",
       "      <td>2021-08-23</td>\n",
       "      <td>India</td>\n",
       "      <td>Ludhiana</td>\n",
       "      <td>Sidhu Moose Wala</td>\n",
       "      <td>Akhian</td>\n",
       "      <td>Akhian</td>\n",
       "      <td>QZQLR2005915</td>\n",
       "      <td>c95f1fc1-fab0-4c74-b3f5-52bd3684a713</td>\n",
       "    </tr>\n",
       "    <tr>\n",
       "      <th>92</th>\n",
       "      <td>click</td>\n",
       "      <td>2021-08-23</td>\n",
       "      <td>India</td>\n",
       "      <td>Ludhiana</td>\n",
       "      <td>Sidhu Moose Wala</td>\n",
       "      <td>Akhian</td>\n",
       "      <td>Akhian</td>\n",
       "      <td>QZQLR2005915</td>\n",
       "      <td>c95f1fc1-fab0-4c74-b3f5-52bd3684a713</td>\n",
       "    </tr>\n",
       "    <tr>\n",
       "      <th>105</th>\n",
       "      <td>click</td>\n",
       "      <td>2021-08-23</td>\n",
       "      <td>Pakistan</td>\n",
       "      <td>Faisalabad</td>\n",
       "      <td>Sidhu Moose Wala</td>\n",
       "      <td>Akhian</td>\n",
       "      <td>Akhian</td>\n",
       "      <td>QZQLR2005915</td>\n",
       "      <td>c95f1fc1-fab0-4c74-b3f5-52bd3684a713</td>\n",
       "    </tr>\n",
       "    <tr>\n",
       "      <th>277</th>\n",
       "      <td>click</td>\n",
       "      <td>2021-08-20</td>\n",
       "      <td>Pakistan</td>\n",
       "      <td>Multan</td>\n",
       "      <td>Sidhu Moose Wala</td>\n",
       "      <td>Akhian</td>\n",
       "      <td>Akhian</td>\n",
       "      <td>QZQLR2005915</td>\n",
       "      <td>c95f1fc1-fab0-4c74-b3f5-52bd3684a713</td>\n",
       "    </tr>\n",
       "    <tr>\n",
       "      <th>335</th>\n",
       "      <td>click</td>\n",
       "      <td>2021-08-21</td>\n",
       "      <td>India</td>\n",
       "      <td>Gurgaon</td>\n",
       "      <td>Sidhu Moose Wala</td>\n",
       "      <td>Akhian</td>\n",
       "      <td>Akhian</td>\n",
       "      <td>QZQLR2005915</td>\n",
       "      <td>c95f1fc1-fab0-4c74-b3f5-52bd3684a713</td>\n",
       "    </tr>\n",
       "  </tbody>\n",
       "</table>\n",
       "</div>"
      ],
      "text/plain": [
       "     event        date   country        city            artist   album  \\\n",
       "91   click  2021-08-23     India    Ludhiana  Sidhu Moose Wala  Akhian   \n",
       "92   click  2021-08-23     India    Ludhiana  Sidhu Moose Wala  Akhian   \n",
       "105  click  2021-08-23  Pakistan  Faisalabad  Sidhu Moose Wala  Akhian   \n",
       "277  click  2021-08-20  Pakistan      Multan  Sidhu Moose Wala  Akhian   \n",
       "335  click  2021-08-21     India     Gurgaon  Sidhu Moose Wala  Akhian   \n",
       "\n",
       "      track          isrc                                linkid  \n",
       "91   Akhian  QZQLR2005915  c95f1fc1-fab0-4c74-b3f5-52bd3684a713  \n",
       "92   Akhian  QZQLR2005915  c95f1fc1-fab0-4c74-b3f5-52bd3684a713  \n",
       "105  Akhian  QZQLR2005915  c95f1fc1-fab0-4c74-b3f5-52bd3684a713  \n",
       "277  Akhian  QZQLR2005915  c95f1fc1-fab0-4c74-b3f5-52bd3684a713  \n",
       "335  Akhian  QZQLR2005915  c95f1fc1-fab0-4c74-b3f5-52bd3684a713  "
      ]
     },
     "execution_count": 240,
     "metadata": {},
     "output_type": "execute_result"
    }
   ],
   "source": [
    "# Examine clicks of link c95f1fc1-fab0-4c74-b3f5-52bd3684a713\n",
    "outlier = df.query('linkid == \"c95f1fc1-fab0-4c74-b3f5-52bd3684a713\" and event != \"preview\"')\n",
    "outlier.head()"
   ]
  },
  {
   "cell_type": "code",
   "execution_count": 241,
   "id": "8e32c3de",
   "metadata": {},
   "outputs": [
    {
     "data": {
      "text/plain": [
       "date        event   \n",
       "2021-08-19  click       177\n",
       "            pageview      1\n",
       "2021-08-20  click       110\n",
       "            pageview      1\n",
       "2021-08-21  click       118\n",
       "2021-08-22  click       154\n",
       "2021-08-23  click       100\n",
       "2021-08-24  click       133\n",
       "            pageview      3\n",
       "2021-08-25  click       131\n",
       "            pageview      5\n",
       "Name: linkid, dtype: int64"
      ]
     },
     "execution_count": 241,
     "metadata": {},
     "output_type": "execute_result"
    }
   ],
   "source": [
    "outlier.groupby(['date', 'event']).linkid.count()"
   ]
  },
  {
   "cell_type": "markdown",
   "id": "8aef1584",
   "metadata": {},
   "source": [
    "We see that 1 view create more than 100 clicks, looks like an error in data, moreover there are three dates without even views but with >100 clicks.\n",
    "This row I will also remove from the data"
   ]
  },
  {
   "cell_type": "code",
   "execution_count": 242,
   "id": "1e0934e1",
   "metadata": {},
   "outputs": [
    {
     "data": {
      "text/html": [
       "<div>\n",
       "<style scoped>\n",
       "    .dataframe tbody tr th:only-of-type {\n",
       "        vertical-align: middle;\n",
       "    }\n",
       "\n",
       "    .dataframe tbody tr th {\n",
       "        vertical-align: top;\n",
       "    }\n",
       "\n",
       "    .dataframe thead th {\n",
       "        text-align: right;\n",
       "    }\n",
       "</style>\n",
       "<table border=\"1\" class=\"dataframe\">\n",
       "  <thead>\n",
       "    <tr style=\"text-align: right;\">\n",
       "      <th>event</th>\n",
       "      <th>linkid</th>\n",
       "      <th>click</th>\n",
       "      <th>pageview</th>\n",
       "      <th>preview</th>\n",
       "      <th>click_rate</th>\n",
       "    </tr>\n",
       "  </thead>\n",
       "  <tbody>\n",
       "    <tr>\n",
       "      <th>792</th>\n",
       "      <td>330773a6-f22a-5c7a-a3e4-7809fe8539b9</td>\n",
       "      <td>3.0</td>\n",
       "      <td>1.0</td>\n",
       "      <td>0.0</td>\n",
       "      <td>3.0</td>\n",
       "    </tr>\n",
       "    <tr>\n",
       "      <th>614</th>\n",
       "      <td>27a91fe1-9fc0-5c28-9e9e-19ff0e7357a7</td>\n",
       "      <td>3.0</td>\n",
       "      <td>1.0</td>\n",
       "      <td>0.0</td>\n",
       "      <td>3.0</td>\n",
       "    </tr>\n",
       "    <tr>\n",
       "      <th>956</th>\n",
       "      <td>3e7fb196-61dc-4d8e-b296-925e9c9c778e</td>\n",
       "      <td>2.0</td>\n",
       "      <td>1.0</td>\n",
       "      <td>0.0</td>\n",
       "      <td>2.0</td>\n",
       "    </tr>\n",
       "    <tr>\n",
       "      <th>299</th>\n",
       "      <td>132c744a-d87b-5ed6-aff2-d9b8c718a4ea</td>\n",
       "      <td>2.0</td>\n",
       "      <td>1.0</td>\n",
       "      <td>0.0</td>\n",
       "      <td>2.0</td>\n",
       "    </tr>\n",
       "    <tr>\n",
       "      <th>3003</th>\n",
       "      <td>c722cabc-3e9b-5ab5-9243-c0dc23524e42</td>\n",
       "      <td>2.0</td>\n",
       "      <td>1.0</td>\n",
       "      <td>0.0</td>\n",
       "      <td>2.0</td>\n",
       "    </tr>\n",
       "  </tbody>\n",
       "</table>\n",
       "</div>"
      ],
      "text/plain": [
       "event                                linkid  click  pageview  preview  \\\n",
       "792    330773a6-f22a-5c7a-a3e4-7809fe8539b9    3.0       1.0      0.0   \n",
       "614    27a91fe1-9fc0-5c28-9e9e-19ff0e7357a7    3.0       1.0      0.0   \n",
       "956    3e7fb196-61dc-4d8e-b296-925e9c9c778e    2.0       1.0      0.0   \n",
       "299    132c744a-d87b-5ed6-aff2-d9b8c718a4ea    2.0       1.0      0.0   \n",
       "3003   c722cabc-3e9b-5ab5-9243-c0dc23524e42    2.0       1.0      0.0   \n",
       "\n",
       "event  click_rate  \n",
       "792           3.0  \n",
       "614           3.0  \n",
       "956           2.0  \n",
       "299           2.0  \n",
       "3003          2.0  "
      ]
     },
     "execution_count": 242,
     "metadata": {},
     "output_type": "execute_result"
    }
   ],
   "source": [
    "cnt_by_link = cnt_by_link[1:]\n",
    "cnt_by_link.head()"
   ]
  },
  {
   "cell_type": "code",
   "execution_count": 256,
   "id": "d5bbe057",
   "metadata": {},
   "outputs": [
    {
     "data": {
      "text/plain": [
       "<AxesSubplot:>"
      ]
     },
     "execution_count": 256,
     "metadata": {},
     "output_type": "execute_result"
    },
    {
     "data": {
      "image/png": "[encoded data removed]",
      "text/plain": [
       "<Figure size 1080x360 with 2 Axes>"
      ]
     },
     "metadata": {
      "needs_background": "light"
     },
     "output_type": "display_data"
    }
   ],
   "source": [
    "# Let's plot the graphs\n",
    "fig, ax = plt.subplots(nrows=2, ncols=1, figsize=(15, 5))\n",
    "\n",
    "cnt_by_link['click_rate'].hist(bins=50, ax=ax[0])\n",
    "cnt_by_link.boxplot(column='click_rate', vert=False,ax=ax[1])"
   ]
  },
  {
   "cell_type": "markdown",
   "id": "172d18e4",
   "metadata": {},
   "source": [
    "Main conclusions are:\n",
    "- 3 peaks - 0, 0.5, 1\n",
    "- several outliers up to click rate == 3\n",
    "- if we will remove outliers and values at 0 and 1 distribution will be close to normal"
   ]
  },
  {
   "cell_type": "code",
   "execution_count": 267,
   "id": "c22effc8",
   "metadata": {},
   "outputs": [
    {
     "data": {
      "text/plain": [
       "<AxesSubplot:>"
      ]
     },
     "execution_count": 267,
     "metadata": {},
     "output_type": "execute_result"
    },
    {
     "data": {
      "image/png": "[encoded data removed]",
      "text/plain": [
       "<Figure size 432x288 with 1 Axes>"
      ]
     },
     "metadata": {
      "needs_background": "light"
     },
     "output_type": "display_data"
    }
   ],
   "source": [
    "# graph without outliers, zeros and ones\n",
    "cnt_by_link.query('click_rate > 0 and click_rate < 1')['click_rate'].hist()"
   ]
  },
  {
   "cell_type": "markdown",
   "id": "b866eaac",
   "metadata": {},
   "source": [
    "### 6. Is there any correlation between clicks and previews on a link? Is it significant? How large is the effect? Make sure to at least test for potential linear as well as categorical (think binary) relationships between both variables"
   ]
  },
  {
   "cell_type": "code",
   "execution_count": 282,
   "id": "c17fe05b",
   "metadata": {},
   "outputs": [
    {
     "data": {
      "text/plain": [
       "<AxesSubplot:xlabel='preview', ylabel='click'>"
      ]
     },
     "execution_count": 282,
     "metadata": {},
     "output_type": "execute_result"
    },
    {
     "data": {
      "image/png": "[encoded data removed]",
      "text/plain": [
       "<Figure size 1080x360 with 1 Axes>"
      ]
     },
     "metadata": {
      "needs_background": "light"
     },
     "output_type": "display_data"
    }
   ],
   "source": [
    "# let's plot the data first and see the distribuion on the scatterplot\n",
    "fig = plt.figure(figsize=(15,5))\n",
    "\n",
    "sns.scatterplot(data=cnt_by_link, x=\"preview\", y=\"click\")"
   ]
  },
  {
   "cell_type": "markdown",
   "id": "ade24409",
   "metadata": {},
   "source": [
    "Not the perfect one, let's add log to our data in order to receive better visualization of this correlation"
   ]
  },
  {
   "cell_type": "code",
   "execution_count": 275,
   "id": "250a716a",
   "metadata": {},
   "outputs": [
    {
     "data": {
      "image/png": "[encoded data removed]",
      "text/plain": [
       "<Figure size 1080x360 with 1 Axes>"
      ]
     },
     "metadata": {
      "needs_background": "light"
     },
     "output_type": "display_data"
    }
   ],
   "source": [
    "fig = plt.figure(figsize=(15,5))\n",
    "\n",
    "sns.scatterplot(data=cnt_by_link, x=\"preview\", y=\"click\")\n",
    "plt.xscale('log')\n",
    "plt.yscale('log')"
   ]
  },
  {
   "cell_type": "markdown",
   "id": "5b089897",
   "metadata": {},
   "source": [
    "Looks like that there is a positive correcaltion between these two veriables. Let's count the correlation coefficient"
   ]
  },
  {
   "cell_type": "code",
   "execution_count": 285,
   "id": "e61ad490",
   "metadata": {},
   "outputs": [
    {
     "name": "stdout",
     "output_type": "stream",
     "text": [
      "Correlation coef: 0.9921173316434555\n",
      "P-value: 0.0\n"
     ]
    }
   ],
   "source": [
    "print(f'Correlation coef: {stats.pearsonr(cnt_by_link[\"preview\"], cnt_by_link[\"click\"])[0]}')\n",
    "print(f'P-value: {stats.pearsonr(cnt_by_link[\"preview\"], cnt_by_link[\"click\"])[1]}')                          "
   ]
  }
 ],
 "metadata": {
  "kernelspec": {
   "display_name": "Python 3 (ipykernel)",
   "language": "python",
   "name": "python3"
  },
  "language_info": {
   "codemirror_mode": {
    "name": "ipython",
    "version": 3
   },
   "file_extension": ".py",
   "mimetype": "text/x-python",
   "name": "python",
   "nbconvert_exporter": "python",
   "pygments_lexer": "ipython3",
   "version": "3.9.12"
  }
 },
 "nbformat": 4,
 "nbformat_minor": 5
}
