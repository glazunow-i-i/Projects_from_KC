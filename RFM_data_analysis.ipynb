{
 "cells": [
  {
   "cell_type": "markdown",
   "id": "b8653cbb",
   "metadata": {},
   "source": [
    "### Task description"
   ]
  },
  {
   "cell_type": "markdown",
   "id": "48579204",
   "metadata": {},
   "source": [
    "Download the dataset and **perform RFM analysis**. In each sub-segment, divide the users into 4 classes.\n",
    "Count the number of days that have passed since the last purchase, from the maximum purchase date in the dataset.\n",
    "\n",
    "1. What is the maximum number of purchases made by one user?\n",
    "2. What is the upper bound for the amount of purchases from users with class 4 in the M sub-segment? (In other words: users whose purchase amount is from 0 to X fall into the 4th class in the M sub-segment)\n",
    "3. What is the lower bound for the number of purchases from users with class 1 in the F sub-segment?\n",
    "4. What is the upper limit for the number of purchases from users with class 2 in the R sub-segment?\n",
    "5. How many customers are in the 111 and 311 segments?\n",
    "6. In which RFM segment is the largest and smallest number of users?"
   ]
  },
  {
   "cell_type": "markdown",
   "id": "17747a28",
   "metadata": {},
   "source": [
    "### Importing libraries"
   ]
  },
  {
   "cell_type": "code",
   "execution_count": 409,
   "id": "ac479ae5",
   "metadata": {},
   "outputs": [],
   "source": [
    "import pandas as pd\n",
    "import numpy as np\n",
    "import seaborn as sns\n",
    "import researchpy as rp"
   ]
  },
  {
   "cell_type": "markdown",
   "id": "492845d1",
   "metadata": {},
   "source": [
    "### Uploading data and primary EDA"
   ]
  },
  {
   "cell_type": "code",
   "execution_count": 410,
   "id": "c37ec234",
   "metadata": {},
   "outputs": [],
   "source": [
    "# uploading dataset for RFM with specifying columns data types\n",
    "df = pd.read_csv('RFM_data.csv', parse_dates=['InvoiceDate'], dtype={'InvoiceNo': str,\n",
    "                                                                     'CustomerCode': str,\n",
    "                                                                     'Amount': float})"
   ]
  },
  {
   "cell_type": "code",
   "execution_count": 411,
   "id": "a43f35d1",
   "metadata": {},
   "outputs": [
    {
     "data": {
      "text/html": [
       "<div>\n",
       "<style scoped>\n",
       "    .dataframe tbody tr th:only-of-type {\n",
       "        vertical-align: middle;\n",
       "    }\n",
       "\n",
       "    .dataframe tbody tr th {\n",
       "        vertical-align: top;\n",
       "    }\n",
       "\n",
       "    .dataframe thead th {\n",
       "        text-align: right;\n",
       "    }\n",
       "</style>\n",
       "<table border=\"1\" class=\"dataframe\">\n",
       "  <thead>\n",
       "    <tr style=\"text-align: right;\">\n",
       "      <th></th>\n",
       "      <th>InvoiceNo</th>\n",
       "      <th>CustomerCode</th>\n",
       "      <th>InvoiceDate</th>\n",
       "      <th>Amount</th>\n",
       "    </tr>\n",
       "  </thead>\n",
       "  <tbody>\n",
       "    <tr>\n",
       "      <th>317141</th>\n",
       "      <td>D0471810300119</td>\n",
       "      <td>13168768</td>\n",
       "      <td>2020-09-30</td>\n",
       "      <td>481.60</td>\n",
       "    </tr>\n",
       "    <tr>\n",
       "      <th>304654</th>\n",
       "      <td>D0131810290013</td>\n",
       "      <td>13076290</td>\n",
       "      <td>2020-09-29</td>\n",
       "      <td>467.36</td>\n",
       "    </tr>\n",
       "    <tr>\n",
       "      <th>69552</th>\n",
       "      <td>D0801810060086</td>\n",
       "      <td>35074464</td>\n",
       "      <td>2020-09-06</td>\n",
       "      <td>490.00</td>\n",
       "    </tr>\n",
       "    <tr>\n",
       "      <th>53006</th>\n",
       "      <td>D0611810050045</td>\n",
       "      <td>13151142</td>\n",
       "      <td>2020-09-05</td>\n",
       "      <td>3223.48</td>\n",
       "    </tr>\n",
       "    <tr>\n",
       "      <th>308395</th>\n",
       "      <td>D0581810290409</td>\n",
       "      <td>19081432</td>\n",
       "      <td>2020-09-29</td>\n",
       "      <td>780.00</td>\n",
       "    </tr>\n",
       "  </tbody>\n",
       "</table>\n",
       "</div>"
      ],
      "text/plain": [
       "             InvoiceNo CustomerCode InvoiceDate   Amount\n",
       "317141  D0471810300119     13168768  2020-09-30   481.60\n",
       "304654  D0131810290013     13076290  2020-09-29   467.36\n",
       "69552   D0801810060086     35074464  2020-09-06   490.00\n",
       "53006   D0611810050045     13151142  2020-09-05  3223.48\n",
       "308395  D0581810290409     19081432  2020-09-29   780.00"
      ]
     },
     "execution_count": 411,
     "metadata": {},
     "output_type": "execute_result"
    }
   ],
   "source": [
    "df.sample(n=5, random_state=0)"
   ]
  },
  {
   "cell_type": "code",
   "execution_count": 412,
   "id": "de83350c",
   "metadata": {},
   "outputs": [],
   "source": [
    "# Also let's rename all columns into more usefull snakecase like names\n",
    "df = df.rename(columns={'InvoiceNo': 'invoice_no',\n",
    "                        'CustomerCode': 'customer_code',\n",
    "                        'InvoiceDate': 'invoice_date',\n",
    "                        'Amount': 'amount'})"
   ]
  },
  {
   "cell_type": "code",
   "execution_count": 413,
   "id": "e3377eb3",
   "metadata": {},
   "outputs": [
    {
     "data": {
      "text/html": [
       "<div>\n",
       "<style scoped>\n",
       "    .dataframe tbody tr th:only-of-type {\n",
       "        vertical-align: middle;\n",
       "    }\n",
       "\n",
       "    .dataframe tbody tr th {\n",
       "        vertical-align: top;\n",
       "    }\n",
       "\n",
       "    .dataframe thead th {\n",
       "        text-align: right;\n",
       "    }\n",
       "</style>\n",
       "<table border=\"1\" class=\"dataframe\">\n",
       "  <thead>\n",
       "    <tr style=\"text-align: right;\">\n",
       "      <th></th>\n",
       "      <th>invoice_no</th>\n",
       "      <th>customer_code</th>\n",
       "      <th>invoice_date</th>\n",
       "      <th>amount</th>\n",
       "    </tr>\n",
       "  </thead>\n",
       "  <tbody>\n",
       "    <tr>\n",
       "      <th>317141</th>\n",
       "      <td>D0471810300119</td>\n",
       "      <td>13168768</td>\n",
       "      <td>2020-09-30</td>\n",
       "      <td>481.60</td>\n",
       "    </tr>\n",
       "    <tr>\n",
       "      <th>304654</th>\n",
       "      <td>D0131810290013</td>\n",
       "      <td>13076290</td>\n",
       "      <td>2020-09-29</td>\n",
       "      <td>467.36</td>\n",
       "    </tr>\n",
       "    <tr>\n",
       "      <th>69552</th>\n",
       "      <td>D0801810060086</td>\n",
       "      <td>35074464</td>\n",
       "      <td>2020-09-06</td>\n",
       "      <td>490.00</td>\n",
       "    </tr>\n",
       "    <tr>\n",
       "      <th>53006</th>\n",
       "      <td>D0611810050045</td>\n",
       "      <td>13151142</td>\n",
       "      <td>2020-09-05</td>\n",
       "      <td>3223.48</td>\n",
       "    </tr>\n",
       "    <tr>\n",
       "      <th>308395</th>\n",
       "      <td>D0581810290409</td>\n",
       "      <td>19081432</td>\n",
       "      <td>2020-09-29</td>\n",
       "      <td>780.00</td>\n",
       "    </tr>\n",
       "  </tbody>\n",
       "</table>\n",
       "</div>"
      ],
      "text/plain": [
       "            invoice_no customer_code invoice_date   amount\n",
       "317141  D0471810300119      13168768   2020-09-30   481.60\n",
       "304654  D0131810290013      13076290   2020-09-29   467.36\n",
       "69552   D0801810060086      35074464   2020-09-06   490.00\n",
       "53006   D0611810050045      13151142   2020-09-05  3223.48\n",
       "308395  D0581810290409      19081432   2020-09-29   780.00"
      ]
     },
     "execution_count": 413,
     "metadata": {},
     "output_type": "execute_result"
    }
   ],
   "source": [
    "df.sample(n=5, random_state=0)"
   ]
  },
  {
   "cell_type": "code",
   "execution_count": 414,
   "id": "c722659b",
   "metadata": {},
   "outputs": [
    {
     "data": {
      "text/plain": [
       "(332730, 4)"
      ]
     },
     "execution_count": 414,
     "metadata": {},
     "output_type": "execute_result"
    }
   ],
   "source": [
    "df.shape"
   ]
  },
  {
   "cell_type": "code",
   "execution_count": 415,
   "id": "473fe234",
   "metadata": {},
   "outputs": [
    {
     "data": {
      "text/plain": [
       "invoice_no       0\n",
       "customer_code    0\n",
       "invoice_date     0\n",
       "amount           0\n",
       "dtype: int64"
      ]
     },
     "execution_count": 415,
     "metadata": {},
     "output_type": "execute_result"
    }
   ],
   "source": [
    "# Count missing values\n",
    "df.isna().sum()"
   ]
  },
  {
   "cell_type": "code",
   "execution_count": 416,
   "id": "6300af2f",
   "metadata": {},
   "outputs": [
    {
     "name": "stdout",
     "output_type": "stream",
     "text": [
      "First date: 2020-09-01 00:00:00\n",
      "Last date: 2020-09-30 00:00:00\n"
     ]
    }
   ],
   "source": [
    "# Also it may be usefull to look at min and max date in the dataframe\n",
    "print(f'First date: {df[\"invoice_date\"].min()}')\n",
    "print(f'Last date: {df[\"invoice_date\"].max()}')"
   ]
  },
  {
   "cell_type": "markdown",
   "id": "542cd264",
   "metadata": {},
   "source": [
    "#### Count some basic descriptive statistics"
   ]
  },
  {
   "cell_type": "code",
   "execution_count": 417,
   "id": "e1d98d18",
   "metadata": {},
   "outputs": [],
   "source": [
    "unique_cust = df[\"customer_code\"].nunique()\n",
    "purchase_by_cust = round(df.shape[0] / df[\"customer_code\"].nunique(), 2)\n",
    "average_check = df[\"amount\"].mean()"
   ]
  },
  {
   "cell_type": "code",
   "execution_count": 418,
   "id": "fee40b56",
   "metadata": {},
   "outputs": [
    {
     "name": "stdout",
     "output_type": "stream",
     "text": [
      "Numbers of unique customers: 123733\n",
      "Average amount of purchases by customer: 2.69\n",
      "Average check size: 1239.03\n"
     ]
    }
   ],
   "source": [
    "print(f'Numbers of unique customers: {unique_cust}')\n",
    "print(f'Average amount of purchases by customer: {purchase_by_cust}')\n",
    "print(f'Average check size: {round(average_check, 2)}')"
   ]
  },
  {
   "cell_type": "markdown",
   "id": "4dad71c8",
   "metadata": {},
   "source": [
    "### 1. What is the maximum number of purchases made by one user?"
   ]
  },
  {
   "cell_type": "code",
   "execution_count": 419,
   "id": "324cc9f0",
   "metadata": {},
   "outputs": [
    {
     "data": {
      "text/plain": [
       "<AxesSubplot:>"
      ]
     },
     "execution_count": 419,
     "metadata": {},
     "output_type": "execute_result"
    },
    {
     "data": {
      "image/png": "[encoded data removed]",
      "text/plain": [
       "<Figure size 432x288 with 1 Axes>"
      ]
     },
     "metadata": {
      "needs_background": "light"
     },
     "output_type": "display_data"
    }
   ],
   "source": [
    "# Let's first look at overall distribution of the purchases number by customer\n",
    "purchases_count = df['customer_code'].value_counts().reset_index()\n",
    "purchases_count['customer_code'].hist(bins=20)"
   ]
  },
  {
   "cell_type": "markdown",
   "id": "89eead31",
   "metadata": {},
   "source": [
    "Not very informative. What we can say is that most customers made only sevaral purchases and there are some champions who made more than 20.  \n",
    "In order to get more information let's split our data into groups and than build one more graph with distribution of these groups"
   ]
  },
  {
   "cell_type": "code",
   "execution_count": 420,
   "id": "aad0e100",
   "metadata": {},
   "outputs": [],
   "source": [
    "purchases_count['bins'] = pd.cut(purchases_count['customer_code'], bins=[0, 1, 5, 20, 100, np.inf])"
   ]
  },
  {
   "cell_type": "code",
   "execution_count": 421,
   "id": "431bbf3f",
   "metadata": {},
   "outputs": [
    {
     "data": {
      "text/plain": [
       "(1.0, 5.0]       58549\n",
       "(0.0, 1.0]       52837\n",
       "(5.0, 20.0]      12013\n",
       "(20.0, 100.0]      331\n",
       "(100.0, inf]         3\n",
       "Name: bins, dtype: int64"
      ]
     },
     "execution_count": 421,
     "metadata": {},
     "output_type": "execute_result"
    }
   ],
   "source": [
    "purchases_count['bins'].value_counts()"
   ]
  },
  {
   "cell_type": "code",
   "execution_count": 422,
   "id": "6faf29b4",
   "metadata": {},
   "outputs": [
    {
     "data": {
      "text/plain": [
       "<AxesSubplot:>"
      ]
     },
     "execution_count": 422,
     "metadata": {},
     "output_type": "execute_result"
    },
    {
     "data": {
      "image/png": "[encoded data removed]",
      "text/plain": [
       "<Figure size 432x288 with 1 Axes>"
      ]
     },
     "metadata": {
      "needs_background": "light"
     },
     "output_type": "display_data"
    }
   ],
   "source": [
    "purchases_count['bins'].value_counts().plot(kind='bar')"
   ]
  },
  {
   "cell_type": "markdown",
   "id": "9dad259b",
   "metadata": {},
   "source": [
    "Most customers made from 1 to 5 purchases, there are only 3 customers who made more than 100 purchases"
   ]
  },
  {
   "cell_type": "code",
   "execution_count": 423,
   "id": "bf936214",
   "metadata": {},
   "outputs": [],
   "source": [
    "# Now let's count the maximum purchases made by one customer\n",
    "max_purchases_by_cust = df['customer_code'].value_counts().max()"
   ]
  },
  {
   "cell_type": "code",
   "execution_count": 424,
   "id": "86224373",
   "metadata": {},
   "outputs": [
    {
     "name": "stdout",
     "output_type": "stream",
     "text": [
      "Max amount by customer: 204\n"
     ]
    }
   ],
   "source": [
    "print(f'Max amount by customer: {max_purchases_by_cust}')"
   ]
  },
  {
   "cell_type": "markdown",
   "id": "75e3d878",
   "metadata": {},
   "source": [
    "### 2. What is the upper bound for the amount of purchases from users with class 4 in the M sub-segment? (In other words: users whose purchase amount is from 0 to X fall into the 4th class in the M sub-segment)"
   ]
  },
  {
   "cell_type": "markdown",
   "id": "6584810c",
   "metadata": {},
   "source": [
    "In order to continue to work with the questions we will provide here the split by RFM groups.  \n",
    "There are a lot of possible ways to make an RFM score and RFM bins, in this project I will provide the split by quantiles.\n",
    "Here is the logic that will be behind the splitting:\n",
    "- 0.00-0.25, 0.25-0.50, 0.50-0.75, 0.75-1.00 - will be the groups\n",
    "- R - based on the diff between max date and last purchase\n",
    "- M - based on the sum of all purchases\n",
    "- F - based on the count of all purchases\n",
    "\n",
    "Based on this data 1 will be given for the best indicators and 4 for the worst. For R less is better, for F and M - bigger is better "
   ]
  },
  {
   "cell_type": "code",
   "execution_count": 425,
   "id": "8831e77c",
   "metadata": {},
   "outputs": [
    {
     "data": {
      "text/html": [
       "<div>\n",
       "<style scoped>\n",
       "    .dataframe tbody tr th:only-of-type {\n",
       "        vertical-align: middle;\n",
       "    }\n",
       "\n",
       "    .dataframe tbody tr th {\n",
       "        vertical-align: top;\n",
       "    }\n",
       "\n",
       "    .dataframe thead th {\n",
       "        text-align: right;\n",
       "    }\n",
       "</style>\n",
       "<table border=\"1\" class=\"dataframe\">\n",
       "  <thead>\n",
       "    <tr style=\"text-align: right;\">\n",
       "      <th></th>\n",
       "      <th>invoice_no</th>\n",
       "      <th>customer_code</th>\n",
       "      <th>invoice_date</th>\n",
       "      <th>amount</th>\n",
       "    </tr>\n",
       "  </thead>\n",
       "  <tbody>\n",
       "    <tr>\n",
       "      <th>317141</th>\n",
       "      <td>D0471810300119</td>\n",
       "      <td>13168768</td>\n",
       "      <td>2020-09-30</td>\n",
       "      <td>481.60</td>\n",
       "    </tr>\n",
       "    <tr>\n",
       "      <th>304654</th>\n",
       "      <td>D0131810290013</td>\n",
       "      <td>13076290</td>\n",
       "      <td>2020-09-29</td>\n",
       "      <td>467.36</td>\n",
       "    </tr>\n",
       "    <tr>\n",
       "      <th>69552</th>\n",
       "      <td>D0801810060086</td>\n",
       "      <td>35074464</td>\n",
       "      <td>2020-09-06</td>\n",
       "      <td>490.00</td>\n",
       "    </tr>\n",
       "    <tr>\n",
       "      <th>53006</th>\n",
       "      <td>D0611810050045</td>\n",
       "      <td>13151142</td>\n",
       "      <td>2020-09-05</td>\n",
       "      <td>3223.48</td>\n",
       "    </tr>\n",
       "    <tr>\n",
       "      <th>308395</th>\n",
       "      <td>D0581810290409</td>\n",
       "      <td>19081432</td>\n",
       "      <td>2020-09-29</td>\n",
       "      <td>780.00</td>\n",
       "    </tr>\n",
       "  </tbody>\n",
       "</table>\n",
       "</div>"
      ],
      "text/plain": [
       "            invoice_no customer_code invoice_date   amount\n",
       "317141  D0471810300119      13168768   2020-09-30   481.60\n",
       "304654  D0131810290013      13076290   2020-09-29   467.36\n",
       "69552   D0801810060086      35074464   2020-09-06   490.00\n",
       "53006   D0611810050045      13151142   2020-09-05  3223.48\n",
       "308395  D0581810290409      19081432   2020-09-29   780.00"
      ]
     },
     "execution_count": 425,
     "metadata": {},
     "output_type": "execute_result"
    }
   ],
   "source": [
    "df.sample(n=5, random_state=0)"
   ]
  },
  {
   "cell_type": "code",
   "execution_count": 426,
   "id": "04a4985d",
   "metadata": {},
   "outputs": [
    {
     "data": {
      "text/html": [
       "<div>\n",
       "<style scoped>\n",
       "    .dataframe tbody tr th:only-of-type {\n",
       "        vertical-align: middle;\n",
       "    }\n",
       "\n",
       "    .dataframe tbody tr th {\n",
       "        vertical-align: top;\n",
       "    }\n",
       "\n",
       "    .dataframe thead th {\n",
       "        text-align: right;\n",
       "    }\n",
       "</style>\n",
       "<table border=\"1\" class=\"dataframe\">\n",
       "  <thead>\n",
       "    <tr style=\"text-align: right;\">\n",
       "      <th></th>\n",
       "      <th>invoice_no</th>\n",
       "      <th>customer_code</th>\n",
       "      <th>invoice_date</th>\n",
       "      <th>amount</th>\n",
       "      <th>days_since_last_purchase</th>\n",
       "    </tr>\n",
       "  </thead>\n",
       "  <tbody>\n",
       "    <tr>\n",
       "      <th>317141</th>\n",
       "      <td>D0471810300119</td>\n",
       "      <td>13168768</td>\n",
       "      <td>2020-09-30</td>\n",
       "      <td>481.60</td>\n",
       "      <td>0</td>\n",
       "    </tr>\n",
       "    <tr>\n",
       "      <th>304654</th>\n",
       "      <td>D0131810290013</td>\n",
       "      <td>13076290</td>\n",
       "      <td>2020-09-29</td>\n",
       "      <td>467.36</td>\n",
       "      <td>1</td>\n",
       "    </tr>\n",
       "    <tr>\n",
       "      <th>69552</th>\n",
       "      <td>D0801810060086</td>\n",
       "      <td>35074464</td>\n",
       "      <td>2020-09-06</td>\n",
       "      <td>490.00</td>\n",
       "      <td>24</td>\n",
       "    </tr>\n",
       "    <tr>\n",
       "      <th>53006</th>\n",
       "      <td>D0611810050045</td>\n",
       "      <td>13151142</td>\n",
       "      <td>2020-09-05</td>\n",
       "      <td>3223.48</td>\n",
       "      <td>25</td>\n",
       "    </tr>\n",
       "    <tr>\n",
       "      <th>308395</th>\n",
       "      <td>D0581810290409</td>\n",
       "      <td>19081432</td>\n",
       "      <td>2020-09-29</td>\n",
       "      <td>780.00</td>\n",
       "      <td>1</td>\n",
       "    </tr>\n",
       "  </tbody>\n",
       "</table>\n",
       "</div>"
      ],
      "text/plain": [
       "            invoice_no customer_code invoice_date   amount  \\\n",
       "317141  D0471810300119      13168768   2020-09-30   481.60   \n",
       "304654  D0131810290013      13076290   2020-09-29   467.36   \n",
       "69552   D0801810060086      35074464   2020-09-06   490.00   \n",
       "53006   D0611810050045      13151142   2020-09-05  3223.48   \n",
       "308395  D0581810290409      19081432   2020-09-29   780.00   \n",
       "\n",
       "        days_since_last_purchase  \n",
       "317141                         0  \n",
       "304654                         1  \n",
       "69552                         24  \n",
       "53006                         25  \n",
       "308395                         1  "
      ]
     },
     "execution_count": 426,
     "metadata": {},
     "output_type": "execute_result"
    }
   ],
   "source": [
    "# Count the new column with diff between invoice_date and last date in the dataset\n",
    "df['days_since_last_purchase'] = (df['invoice_date'].max() - df['invoice_date']).dt.days.astype(int)\n",
    "df.sample(n=5, random_state=0)"
   ]
  },
  {
   "cell_type": "code",
   "execution_count": 427,
   "id": "761f41c8",
   "metadata": {},
   "outputs": [
    {
     "data": {
      "text/html": [
       "<div>\n",
       "<style scoped>\n",
       "    .dataframe tbody tr th:only-of-type {\n",
       "        vertical-align: middle;\n",
       "    }\n",
       "\n",
       "    .dataframe tbody tr th {\n",
       "        vertical-align: top;\n",
       "    }\n",
       "\n",
       "    .dataframe thead th {\n",
       "        text-align: right;\n",
       "    }\n",
       "</style>\n",
       "<table border=\"1\" class=\"dataframe\">\n",
       "  <thead>\n",
       "    <tr style=\"text-align: right;\">\n",
       "      <th></th>\n",
       "      <th>customer_code</th>\n",
       "      <th>amount</th>\n",
       "      <th>invoice_date</th>\n",
       "      <th>days_since_last_purchase</th>\n",
       "    </tr>\n",
       "  </thead>\n",
       "  <tbody>\n",
       "    <tr>\n",
       "      <th>0</th>\n",
       "      <td>02213019</td>\n",
       "      <td>1609.20</td>\n",
       "      <td>1</td>\n",
       "      <td>19</td>\n",
       "    </tr>\n",
       "    <tr>\n",
       "      <th>1</th>\n",
       "      <td>02213042</td>\n",
       "      <td>9685.48</td>\n",
       "      <td>3</td>\n",
       "      <td>22</td>\n",
       "    </tr>\n",
       "    <tr>\n",
       "      <th>2</th>\n",
       "      <td>02213071</td>\n",
       "      <td>415.00</td>\n",
       "      <td>1</td>\n",
       "      <td>29</td>\n",
       "    </tr>\n",
       "    <tr>\n",
       "      <th>3</th>\n",
       "      <td>02213088</td>\n",
       "      <td>305.00</td>\n",
       "      <td>1</td>\n",
       "      <td>23</td>\n",
       "    </tr>\n",
       "    <tr>\n",
       "      <th>4</th>\n",
       "      <td>02213092</td>\n",
       "      <td>1412.88</td>\n",
       "      <td>1</td>\n",
       "      <td>25</td>\n",
       "    </tr>\n",
       "  </tbody>\n",
       "</table>\n",
       "</div>"
      ],
      "text/plain": [
       "  customer_code   amount  invoice_date  days_since_last_purchase\n",
       "0      02213019  1609.20             1                        19\n",
       "1      02213042  9685.48             3                        22\n",
       "2      02213071   415.00             1                        29\n",
       "3      02213088   305.00             1                        23\n",
       "4      02213092  1412.88             1                        25"
      ]
     },
     "execution_count": 427,
     "metadata": {},
     "output_type": "execute_result"
    }
   ],
   "source": [
    "# Group the data by columns for RFM with corresponding agg functions\n",
    "rfm_table = df.groupby('customer_code', as_index=False) \\\n",
    "                .agg({'amount': 'sum',\n",
    "                      'invoice_date': 'count',\n",
    "                      'days_since_last_purchase': 'min'})\n",
    "rfm_table.head()"
   ]
  },
  {
   "cell_type": "code",
   "execution_count": 428,
   "id": "72b13f99",
   "metadata": {},
   "outputs": [],
   "source": [
    "# With the help of qcut method we will made R M columns\n",
    "rfm_table['m_score'] = pd.qcut(rfm_table['amount'], q=4, labels=[4, 3, 2, 1])\n",
    "rfm_table['r_score'] = pd.qcut(rfm_table['days_since_last_purchase'], q=4, labels=[1, 2, 3, 4])"
   ]
  },
  {
   "cell_type": "markdown",
   "id": "37f2e3a5",
   "metadata": {},
   "source": [
    "There is a problem with invoice date, as we know from the previous analysis most people are buying 1 product, so if we will use qcut() method fot this - people will receice their groups randomly, because amount of 1 in the whole dataset is too big  \n",
    "Let's look at the amount of 1-10 in this data"
   ]
  },
  {
   "cell_type": "code",
   "execution_count": 429,
   "id": "b49eb896",
   "metadata": {},
   "outputs": [
    {
     "data": {
      "text/plain": [
       "invoice_date\n",
       "1               52837\n",
       "2               27577\n",
       "3               15619\n",
       "4                9491\n",
       "5                5862\n",
       "6                3834\n",
       "7                2509\n",
       "8                1622\n",
       "9                1119\n",
       "10                783\n",
       "dtype: int64"
      ]
     },
     "execution_count": 429,
     "metadata": {},
     "output_type": "execute_result"
    }
   ],
   "source": [
    "rfm_table[['invoice_date']].query('invoice_date <= 10').value_counts()"
   ]
  },
  {
   "cell_type": "code",
   "execution_count": 430,
   "id": "4e9cf766",
   "metadata": {},
   "outputs": [
    {
     "data": {
      "text/plain": [
       "<AxesSubplot:xlabel='invoice_date'>"
      ]
     },
     "execution_count": 430,
     "metadata": {},
     "output_type": "execute_result"
    },
    {
     "data": {
      "image/png": "[encoded data removed]",
      "text/plain": [
       "<Figure size 432x288 with 1 Axes>"
      ]
     },
     "metadata": {
      "needs_background": "light"
     },
     "output_type": "display_data"
    }
   ],
   "source": [
    "(rfm_table[['invoice_date']].query('invoice_date <= 10').value_counts() / rfm_table.shape[0]).plot(grid=True)"
   ]
  },
  {
   "cell_type": "markdown",
   "id": "93a380f5",
   "metadata": {},
   "source": [
    "42% of our data equals to 1 - so splitting by quantiles is pretty pointless. Let's look at data one more time in order to give more logical splitting"
   ]
  },
  {
   "cell_type": "code",
   "execution_count": 431,
   "id": "b7fc2241",
   "metadata": {},
   "outputs": [
    {
     "data": {
      "text/plain": [
       "<AxesSubplot:>"
      ]
     },
     "execution_count": 431,
     "metadata": {},
     "output_type": "execute_result"
    },
    {
     "data": {
      "image/png": "[encoded data removed]",
      "text/plain": [
       "<Figure size 1080x360 with 1 Axes>"
      ]
     },
     "metadata": {
      "needs_background": "light"
     },
     "output_type": "display_data"
    }
   ],
   "source": [
    "rfm_table['invoice_date'].hist(bins=50, figsize=(15, 5))"
   ]
  },
  {
   "cell_type": "markdown",
   "id": "31325099",
   "metadata": {},
   "source": [
    "So what conclusions we can make now:\n",
    "- 42% made only 1 purchase\n",
    "- Only several customers made more than 20 purchases\n",
    "- After 4 purchases we see that the graph is pretty flat\n",
    "\n",
    "So I will make next split:\n",
    "[0:1], [2:4], [5:20], [20:inf]\n",
    "\n",
    "We will make it with the help of cut() method:"
   ]
  },
  {
   "cell_type": "code",
   "execution_count": 432,
   "id": "6c271fcd",
   "metadata": {},
   "outputs": [],
   "source": [
    "rfm_table['f_score'] = pd.cut(rfm_table['invoice_date'], bins=[0, 1, 4, 20, np.inf], labels=[4, 3, 2, 1])"
   ]
  },
  {
   "cell_type": "code",
   "execution_count": 433,
   "id": "02131d35",
   "metadata": {},
   "outputs": [
    {
     "data": {
      "text/html": [
       "<div>\n",
       "<style scoped>\n",
       "    .dataframe tbody tr th:only-of-type {\n",
       "        vertical-align: middle;\n",
       "    }\n",
       "\n",
       "    .dataframe tbody tr th {\n",
       "        vertical-align: top;\n",
       "    }\n",
       "\n",
       "    .dataframe thead th {\n",
       "        text-align: right;\n",
       "    }\n",
       "</style>\n",
       "<table border=\"1\" class=\"dataframe\">\n",
       "  <thead>\n",
       "    <tr style=\"text-align: right;\">\n",
       "      <th></th>\n",
       "      <th>customer_code</th>\n",
       "      <th>amount</th>\n",
       "      <th>invoice_date</th>\n",
       "      <th>days_since_last_purchase</th>\n",
       "      <th>m_score</th>\n",
       "      <th>r_score</th>\n",
       "      <th>f_score</th>\n",
       "    </tr>\n",
       "  </thead>\n",
       "  <tbody>\n",
       "    <tr>\n",
       "      <th>25661</th>\n",
       "      <td>13120031</td>\n",
       "      <td>70.00</td>\n",
       "      <td>1</td>\n",
       "      <td>19</td>\n",
       "      <td>4</td>\n",
       "      <td>4</td>\n",
       "      <td>4</td>\n",
       "    </tr>\n",
       "    <tr>\n",
       "      <th>62697</th>\n",
       "      <td>14018178</td>\n",
       "      <td>1190.00</td>\n",
       "      <td>1</td>\n",
       "      <td>14</td>\n",
       "      <td>3</td>\n",
       "      <td>3</td>\n",
       "      <td>4</td>\n",
       "    </tr>\n",
       "    <tr>\n",
       "      <th>13529</th>\n",
       "      <td>13051775</td>\n",
       "      <td>4087.42</td>\n",
       "      <td>1</td>\n",
       "      <td>27</td>\n",
       "      <td>1</td>\n",
       "      <td>4</td>\n",
       "      <td>4</td>\n",
       "    </tr>\n",
       "    <tr>\n",
       "      <th>31094</th>\n",
       "      <td>13144508</td>\n",
       "      <td>325.00</td>\n",
       "      <td>1</td>\n",
       "      <td>25</td>\n",
       "      <td>4</td>\n",
       "      <td>4</td>\n",
       "      <td>4</td>\n",
       "    </tr>\n",
       "    <tr>\n",
       "      <th>4292</th>\n",
       "      <td>13000765</td>\n",
       "      <td>3262.44</td>\n",
       "      <td>5</td>\n",
       "      <td>2</td>\n",
       "      <td>2</td>\n",
       "      <td>1</td>\n",
       "      <td>2</td>\n",
       "    </tr>\n",
       "  </tbody>\n",
       "</table>\n",
       "</div>"
      ],
      "text/plain": [
       "      customer_code   amount  invoice_date  days_since_last_purchase m_score  \\\n",
       "25661      13120031    70.00             1                        19       4   \n",
       "62697      14018178  1190.00             1                        14       3   \n",
       "13529      13051775  4087.42             1                        27       1   \n",
       "31094      13144508   325.00             1                        25       4   \n",
       "4292       13000765  3262.44             5                         2       2   \n",
       "\n",
       "      r_score f_score  \n",
       "25661       4       4  \n",
       "62697       3       4  \n",
       "13529       4       4  \n",
       "31094       4       4  \n",
       "4292        1       2  "
      ]
     },
     "execution_count": 433,
     "metadata": {},
     "output_type": "execute_result"
    }
   ],
   "source": [
    "# Table with all scores\n",
    "rfm_table.sample(n=5, random_state=0)"
   ]
  },
  {
   "cell_type": "code",
   "execution_count": 434,
   "id": "3048d77d",
   "metadata": {},
   "outputs": [
    {
     "data": {
      "text/plain": [
       "customer_code                 object\n",
       "amount                       float64\n",
       "invoice_date                   int64\n",
       "days_since_last_purchase       int32\n",
       "m_score                     category\n",
       "r_score                     category\n",
       "f_score                     category\n",
       "dtype: object"
      ]
     },
     "execution_count": 434,
     "metadata": {},
     "output_type": "execute_result"
    }
   ],
   "source": [
    "rfm_table.dtypes"
   ]
  },
  {
   "cell_type": "markdown",
   "id": "2631b8a7",
   "metadata": {},
   "source": [
    "Our score are category dtype, that's is not very convenient for our purposes, so let's change them into string"
   ]
  },
  {
   "cell_type": "code",
   "execution_count": 435,
   "id": "f8609c36",
   "metadata": {},
   "outputs": [
    {
     "data": {
      "text/plain": [
       "customer_code                 object\n",
       "amount                       float64\n",
       "invoice_date                   int64\n",
       "days_since_last_purchase       int32\n",
       "m_score                     category\n",
       "r_score                     category\n",
       "f_score                     category\n",
       "dtype: object"
      ]
     },
     "execution_count": 435,
     "metadata": {},
     "output_type": "execute_result"
    }
   ],
   "source": [
    "rfm_table.dtypes"
   ]
  },
  {
   "cell_type": "code",
   "execution_count": 436,
   "id": "5ac2d1d2",
   "metadata": {},
   "outputs": [],
   "source": [
    "rfm_table['r_score'] = rfm_table['r_score'].astype(int)\n",
    "rfm_table['f_score'] = rfm_table['f_score'].astype(int)\n",
    "rfm_table['m_score'] = rfm_table['m_score'].astype(int)"
   ]
  },
  {
   "cell_type": "code",
   "execution_count": 437,
   "id": "091fcd67",
   "metadata": {},
   "outputs": [],
   "source": [
    "# Combining all scores into one RFM-score\n",
    "rfm_table['rfm_score'] = rfm_table['r_score'].map(str) + rfm_table['f_score'].map(str) + rfm_table['m_score'].map(str)"
   ]
  },
  {
   "cell_type": "code",
   "execution_count": 438,
   "id": "9e39c61f",
   "metadata": {},
   "outputs": [
    {
     "data": {
      "text/html": [
       "<div>\n",
       "<style scoped>\n",
       "    .dataframe tbody tr th:only-of-type {\n",
       "        vertical-align: middle;\n",
       "    }\n",
       "\n",
       "    .dataframe tbody tr th {\n",
       "        vertical-align: top;\n",
       "    }\n",
       "\n",
       "    .dataframe thead th {\n",
       "        text-align: right;\n",
       "    }\n",
       "</style>\n",
       "<table border=\"1\" class=\"dataframe\">\n",
       "  <thead>\n",
       "    <tr style=\"text-align: right;\">\n",
       "      <th></th>\n",
       "      <th>customer_code</th>\n",
       "      <th>amount</th>\n",
       "      <th>invoice_date</th>\n",
       "      <th>days_since_last_purchase</th>\n",
       "      <th>m_score</th>\n",
       "      <th>r_score</th>\n",
       "      <th>f_score</th>\n",
       "      <th>rfm_score</th>\n",
       "    </tr>\n",
       "  </thead>\n",
       "  <tbody>\n",
       "    <tr>\n",
       "      <th>25661</th>\n",
       "      <td>13120031</td>\n",
       "      <td>70.00</td>\n",
       "      <td>1</td>\n",
       "      <td>19</td>\n",
       "      <td>4</td>\n",
       "      <td>4</td>\n",
       "      <td>4</td>\n",
       "      <td>444</td>\n",
       "    </tr>\n",
       "    <tr>\n",
       "      <th>62697</th>\n",
       "      <td>14018178</td>\n",
       "      <td>1190.00</td>\n",
       "      <td>1</td>\n",
       "      <td>14</td>\n",
       "      <td>3</td>\n",
       "      <td>3</td>\n",
       "      <td>4</td>\n",
       "      <td>343</td>\n",
       "    </tr>\n",
       "    <tr>\n",
       "      <th>13529</th>\n",
       "      <td>13051775</td>\n",
       "      <td>4087.42</td>\n",
       "      <td>1</td>\n",
       "      <td>27</td>\n",
       "      <td>1</td>\n",
       "      <td>4</td>\n",
       "      <td>4</td>\n",
       "      <td>441</td>\n",
       "    </tr>\n",
       "    <tr>\n",
       "      <th>31094</th>\n",
       "      <td>13144508</td>\n",
       "      <td>325.00</td>\n",
       "      <td>1</td>\n",
       "      <td>25</td>\n",
       "      <td>4</td>\n",
       "      <td>4</td>\n",
       "      <td>4</td>\n",
       "      <td>444</td>\n",
       "    </tr>\n",
       "    <tr>\n",
       "      <th>4292</th>\n",
       "      <td>13000765</td>\n",
       "      <td>3262.44</td>\n",
       "      <td>5</td>\n",
       "      <td>2</td>\n",
       "      <td>2</td>\n",
       "      <td>1</td>\n",
       "      <td>2</td>\n",
       "      <td>122</td>\n",
       "    </tr>\n",
       "  </tbody>\n",
       "</table>\n",
       "</div>"
      ],
      "text/plain": [
       "      customer_code   amount  invoice_date  days_since_last_purchase  m_score  \\\n",
       "25661      13120031    70.00             1                        19        4   \n",
       "62697      14018178  1190.00             1                        14        3   \n",
       "13529      13051775  4087.42             1                        27        1   \n",
       "31094      13144508   325.00             1                        25        4   \n",
       "4292       13000765  3262.44             5                         2        2   \n",
       "\n",
       "       r_score  f_score rfm_score  \n",
       "25661        4        4       444  \n",
       "62697        3        4       343  \n",
       "13529        4        4       441  \n",
       "31094        4        4       444  \n",
       "4292         1        2       122  "
      ]
     },
     "execution_count": 438,
     "metadata": {},
     "output_type": "execute_result"
    }
   ],
   "source": [
    "rfm_table.sample(n=5, random_state=0)"
   ]
  },
  {
   "cell_type": "markdown",
   "id": "aa3a134f",
   "metadata": {},
   "source": [
    "Now we can go further and give answers to other questions.  \n",
    "The second one was to indicate the upper bound for the amount of purchases from users with class 4 in the M sub-segment"
   ]
  },
  {
   "cell_type": "code",
   "execution_count": 439,
   "id": "e7ad26d9",
   "metadata": {},
   "outputs": [
    {
     "data": {
      "text/plain": [
       "765.0"
      ]
     },
     "execution_count": 439,
     "metadata": {},
     "output_type": "execute_result"
    }
   ],
   "source": [
    "rfm_table.query('m_score == 4')['amount'].max()"
   ]
  },
  {
   "cell_type": "markdown",
   "id": "03dcd0d8",
   "metadata": {},
   "source": [
    "### 3. What is the lower bound for the number of purchases from users with class 1 in the F sub-segment?"
   ]
  },
  {
   "cell_type": "code",
   "execution_count": 440,
   "id": "8b047a28",
   "metadata": {},
   "outputs": [
    {
     "data": {
      "text/plain": [
       "21"
      ]
     },
     "execution_count": 440,
     "metadata": {},
     "output_type": "execute_result"
    }
   ],
   "source": [
    "rfm_table.query('f_score == 1')['invoice_date'].min()"
   ]
  },
  {
   "cell_type": "markdown",
   "id": "96a6d623",
   "metadata": {},
   "source": [
    "### 4. What is the upper bound for the number of purchases from users with class 2 in the R sub-segment?"
   ]
  },
  {
   "cell_type": "code",
   "execution_count": 441,
   "id": "877beaa3",
   "metadata": {},
   "outputs": [
    {
     "data": {
      "text/plain": [
       "49"
      ]
     },
     "execution_count": 441,
     "metadata": {},
     "output_type": "execute_result"
    }
   ],
   "source": [
    "rfm_table.query('r_score == 2')['invoice_date'].max()"
   ]
  },
  {
   "cell_type": "markdown",
   "id": "5e9a07ec",
   "metadata": {},
   "source": [
    "### 5. How many customers are in the 111 and 311 segments?"
   ]
  },
  {
   "cell_type": "code",
   "execution_count": 442,
   "id": "e4c678f5",
   "metadata": {},
   "outputs": [
    {
     "data": {
      "text/html": [
       "<div>\n",
       "<style scoped>\n",
       "    .dataframe tbody tr th:only-of-type {\n",
       "        vertical-align: middle;\n",
       "    }\n",
       "\n",
       "    .dataframe tbody tr th {\n",
       "        vertical-align: top;\n",
       "    }\n",
       "\n",
       "    .dataframe thead th {\n",
       "        text-align: right;\n",
       "    }\n",
       "</style>\n",
       "<table border=\"1\" class=\"dataframe\">\n",
       "  <thead>\n",
       "    <tr style=\"text-align: right;\">\n",
       "      <th></th>\n",
       "      <th>customer_code</th>\n",
       "      <th>amount</th>\n",
       "      <th>invoice_date</th>\n",
       "      <th>days_since_last_purchase</th>\n",
       "      <th>m_score</th>\n",
       "      <th>r_score</th>\n",
       "      <th>f_score</th>\n",
       "      <th>rfm_score</th>\n",
       "    </tr>\n",
       "  </thead>\n",
       "  <tbody>\n",
       "    <tr>\n",
       "      <th>25661</th>\n",
       "      <td>13120031</td>\n",
       "      <td>70.00</td>\n",
       "      <td>1</td>\n",
       "      <td>19</td>\n",
       "      <td>4</td>\n",
       "      <td>4</td>\n",
       "      <td>4</td>\n",
       "      <td>444</td>\n",
       "    </tr>\n",
       "    <tr>\n",
       "      <th>62697</th>\n",
       "      <td>14018178</td>\n",
       "      <td>1190.00</td>\n",
       "      <td>1</td>\n",
       "      <td>14</td>\n",
       "      <td>3</td>\n",
       "      <td>3</td>\n",
       "      <td>4</td>\n",
       "      <td>343</td>\n",
       "    </tr>\n",
       "    <tr>\n",
       "      <th>13529</th>\n",
       "      <td>13051775</td>\n",
       "      <td>4087.42</td>\n",
       "      <td>1</td>\n",
       "      <td>27</td>\n",
       "      <td>1</td>\n",
       "      <td>4</td>\n",
       "      <td>4</td>\n",
       "      <td>441</td>\n",
       "    </tr>\n",
       "    <tr>\n",
       "      <th>31094</th>\n",
       "      <td>13144508</td>\n",
       "      <td>325.00</td>\n",
       "      <td>1</td>\n",
       "      <td>25</td>\n",
       "      <td>4</td>\n",
       "      <td>4</td>\n",
       "      <td>4</td>\n",
       "      <td>444</td>\n",
       "    </tr>\n",
       "    <tr>\n",
       "      <th>4292</th>\n",
       "      <td>13000765</td>\n",
       "      <td>3262.44</td>\n",
       "      <td>5</td>\n",
       "      <td>2</td>\n",
       "      <td>2</td>\n",
       "      <td>1</td>\n",
       "      <td>2</td>\n",
       "      <td>122</td>\n",
       "    </tr>\n",
       "  </tbody>\n",
       "</table>\n",
       "</div>"
      ],
      "text/plain": [
       "      customer_code   amount  invoice_date  days_since_last_purchase  m_score  \\\n",
       "25661      13120031    70.00             1                        19        4   \n",
       "62697      14018178  1190.00             1                        14        3   \n",
       "13529      13051775  4087.42             1                        27        1   \n",
       "31094      13144508   325.00             1                        25        4   \n",
       "4292       13000765  3262.44             5                         2        2   \n",
       "\n",
       "       r_score  f_score rfm_score  \n",
       "25661        4        4       444  \n",
       "62697        3        4       343  \n",
       "13529        4        4       441  \n",
       "31094        4        4       444  \n",
       "4292         1        2       122  "
      ]
     },
     "execution_count": 442,
     "metadata": {},
     "output_type": "execute_result"
    }
   ],
   "source": [
    "# Let's look more close into RFM data\n",
    "rfm_table.sample(n=5, random_state=0)"
   ]
  },
  {
   "cell_type": "code",
   "execution_count": 443,
   "id": "19e9d25a",
   "metadata": {},
   "outputs": [
    {
     "data": {
      "text/html": [
       "<div>\n",
       "<style scoped>\n",
       "    .dataframe tbody tr th:only-of-type {\n",
       "        vertical-align: middle;\n",
       "    }\n",
       "\n",
       "    .dataframe tbody tr th {\n",
       "        vertical-align: top;\n",
       "    }\n",
       "\n",
       "    .dataframe thead th {\n",
       "        text-align: right;\n",
       "    }\n",
       "</style>\n",
       "<table border=\"1\" class=\"dataframe\">\n",
       "  <thead>\n",
       "    <tr style=\"text-align: right;\">\n",
       "      <th></th>\n",
       "      <th>rfm_score</th>\n",
       "      <th>cnt</th>\n",
       "    </tr>\n",
       "  </thead>\n",
       "  <tbody>\n",
       "    <tr>\n",
       "      <th>50</th>\n",
       "      <td>443</td>\n",
       "      <td>6729</td>\n",
       "    </tr>\n",
       "    <tr>\n",
       "      <th>24</th>\n",
       "      <td>242</td>\n",
       "      <td>1722</td>\n",
       "    </tr>\n",
       "    <tr>\n",
       "      <th>27</th>\n",
       "      <td>311</td>\n",
       "      <td>2</td>\n",
       "    </tr>\n",
       "    <tr>\n",
       "      <th>41</th>\n",
       "      <td>421</td>\n",
       "      <td>124</td>\n",
       "    </tr>\n",
       "    <tr>\n",
       "      <th>8</th>\n",
       "      <td>133</td>\n",
       "      <td>3743</td>\n",
       "    </tr>\n",
       "  </tbody>\n",
       "</table>\n",
       "</div>"
      ],
      "text/plain": [
       "   rfm_score   cnt\n",
       "50       443  6729\n",
       "24       242  1722\n",
       "27       311     2\n",
       "41       421   124\n",
       "8        133  3743"
      ]
     },
     "execution_count": 443,
     "metadata": {},
     "output_type": "execute_result"
    }
   ],
   "source": [
    "cust_by_score = rfm_table.groupby('rfm_score')['customer_code'].count().reset_index() \\\n",
    "    .rename(columns={'customer_code': 'cnt'})\n",
    "\n",
    "cust_by_score.sample(5)"
   ]
  },
  {
   "cell_type": "code",
   "execution_count": 444,
   "id": "f8286856",
   "metadata": {},
   "outputs": [
    {
     "data": {
      "text/html": [
       "<div>\n",
       "<style scoped>\n",
       "    .dataframe tbody tr th:only-of-type {\n",
       "        vertical-align: middle;\n",
       "    }\n",
       "\n",
       "    .dataframe tbody tr th {\n",
       "        vertical-align: top;\n",
       "    }\n",
       "\n",
       "    .dataframe thead th {\n",
       "        text-align: right;\n",
       "    }\n",
       "</style>\n",
       "<table border=\"1\" class=\"dataframe\">\n",
       "  <thead>\n",
       "    <tr style=\"text-align: right;\">\n",
       "      <th></th>\n",
       "      <th>rfm_score</th>\n",
       "      <th>cnt</th>\n",
       "    </tr>\n",
       "  </thead>\n",
       "  <tbody>\n",
       "    <tr>\n",
       "      <th>0</th>\n",
       "      <td>111</td>\n",
       "      <td>312</td>\n",
       "    </tr>\n",
       "    <tr>\n",
       "      <th>27</th>\n",
       "      <td>311</td>\n",
       "      <td>2</td>\n",
       "    </tr>\n",
       "  </tbody>\n",
       "</table>\n",
       "</div>"
      ],
      "text/plain": [
       "   rfm_score  cnt\n",
       "0        111  312\n",
       "27       311    2"
      ]
     },
     "execution_count": 444,
     "metadata": {},
     "output_type": "execute_result"
    }
   ],
   "source": [
    "cust_by_score.query('rfm_score in(\"111\", \"311\")')"
   ]
  },
  {
   "cell_type": "markdown",
   "id": "5a119c56",
   "metadata": {},
   "source": [
    "The amount of most active customers is 312"
   ]
  },
  {
   "cell_type": "markdown",
   "id": "4392440b",
   "metadata": {},
   "source": [
    "### 6. Which RFM segments have the largest and lowest number of users?"
   ]
  },
  {
   "cell_type": "code",
   "execution_count": 445,
   "id": "5e379f6f",
   "metadata": {},
   "outputs": [
    {
     "data": {
      "text/html": [
       "<div>\n",
       "<style scoped>\n",
       "    .dataframe tbody tr th:only-of-type {\n",
       "        vertical-align: middle;\n",
       "    }\n",
       "\n",
       "    .dataframe tbody tr th {\n",
       "        vertical-align: top;\n",
       "    }\n",
       "\n",
       "    .dataframe thead th {\n",
       "        text-align: right;\n",
       "    }\n",
       "</style>\n",
       "<table border=\"1\" class=\"dataframe\">\n",
       "  <thead>\n",
       "    <tr style=\"text-align: right;\">\n",
       "      <th></th>\n",
       "      <th>rfm_score</th>\n",
       "      <th>cnt</th>\n",
       "    </tr>\n",
       "  </thead>\n",
       "  <tbody>\n",
       "    <tr>\n",
       "      <th>51</th>\n",
       "      <td>444</td>\n",
       "      <td>10624</td>\n",
       "    </tr>\n",
       "  </tbody>\n",
       "</table>\n",
       "</div>"
      ],
      "text/plain": [
       "   rfm_score    cnt\n",
       "51       444  10624"
      ]
     },
     "execution_count": 445,
     "metadata": {},
     "output_type": "execute_result"
    }
   ],
   "source": [
    "cust_by_score[cust_by_score['cnt'] == cust_by_score['cnt'].max()]"
   ]
  },
  {
   "cell_type": "markdown",
   "id": "8364bc90",
   "metadata": {},
   "source": [
    "Most customers are more or less passive, that is expected"
   ]
  },
  {
   "cell_type": "code",
   "execution_count": 446,
   "id": "1e693179",
   "metadata": {},
   "outputs": [
    {
     "data": {
      "text/html": [
       "<div>\n",
       "<style scoped>\n",
       "    .dataframe tbody tr th:only-of-type {\n",
       "        vertical-align: middle;\n",
       "    }\n",
       "\n",
       "    .dataframe tbody tr th {\n",
       "        vertical-align: top;\n",
       "    }\n",
       "\n",
       "    .dataframe thead th {\n",
       "        text-align: right;\n",
       "    }\n",
       "</style>\n",
       "<table border=\"1\" class=\"dataframe\">\n",
       "  <thead>\n",
       "    <tr style=\"text-align: right;\">\n",
       "      <th></th>\n",
       "      <th>rfm_score</th>\n",
       "      <th>cnt</th>\n",
       "    </tr>\n",
       "  </thead>\n",
       "  <tbody>\n",
       "    <tr>\n",
       "      <th>1</th>\n",
       "      <td>112</td>\n",
       "      <td>2</td>\n",
       "    </tr>\n",
       "    <tr>\n",
       "      <th>27</th>\n",
       "      <td>311</td>\n",
       "      <td>2</td>\n",
       "    </tr>\n",
       "    <tr>\n",
       "      <th>40</th>\n",
       "      <td>411</td>\n",
       "      <td>2</td>\n",
       "    </tr>\n",
       "  </tbody>\n",
       "</table>\n",
       "</div>"
      ],
      "text/plain": [
       "   rfm_score  cnt\n",
       "1        112    2\n",
       "27       311    2\n",
       "40       411    2"
      ]
     },
     "execution_count": 446,
     "metadata": {},
     "output_type": "execute_result"
    }
   ],
   "source": [
    "cust_by_score[cust_by_score['cnt'] == cust_by_score['cnt'].min()]"
   ]
  },
  {
   "cell_type": "markdown",
   "id": "b8628141",
   "metadata": {},
   "source": [
    "As for the lowest number: we can interpret it in the way that it is very uncommon for the customer to be in the very different groups."
   ]
  }
 ],
 "metadata": {
  "kernelspec": {
   "display_name": "Python 3 (ipykernel)",
   "language": "python",
   "name": "python3"
  },
  "language_info": {
   "codemirror_mode": {
    "name": "ipython",
    "version": 3
   },
   "file_extension": ".py",
   "mimetype": "text/x-python",
   "name": "python",
   "nbconvert_exporter": "python",
   "pygments_lexer": "ipython3",
   "version": "3.9.12"
  }
 },
 "nbformat": 4,
 "nbformat_minor": 5
}
