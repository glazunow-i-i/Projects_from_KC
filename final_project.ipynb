{
 "cells": [
  {
   "cell_type": "code",
   "execution_count": 558,
   "id": "503799cd-01ce-4404-aa23-7035c65753bf",
   "metadata": {},
   "outputs": [],
   "source": [
    "import numpy as np\n",
    "import pandas as pd\n",
    "from scipy.stats import norm, mannwhitneyu, shapiro\n",
    "import scipy.stats as stats\n",
    "import matplotlib.pyplot as plt\n",
    "import seaborn as sns\n",
    "import statsmodels.api as sm\n",
    "import plotly.graph_objects as go\n",
    "\n",
    "from tqdm.auto import tqdm"
   ]
  },
  {
   "cell_type": "markdown",
   "id": "33e9a3a9-26f4-499f-a563-5b8d14093d2a",
   "metadata": {},
   "source": [
    "### Задание 1"
   ]
  },
  {
   "cell_type": "markdown",
   "id": "bed060a0-62de-47cd-9530-75eac8f20649",
   "metadata": {},
   "source": [
    "#### Описание файлов\n",
    "**groups.csv** - файл с информацией о принадлежности пользователя к контрольной или экспериментальной группе (А – контроль, B – целевая группа)  \n",
    "**groups_add.csv** - дополнительный файл с пользователями, который вам прислали спустя 2 дня после передачи данных  \n",
    "**active_studs.csv** - файл с информацией о пользователях, которые зашли на платформу в дни проведения эксперимента  \n",
    "**checks.csv** - файл с информацией об оплатах пользователей в дни проведения эксперимента"
   ]
  },
  {
   "cell_type": "code",
   "execution_count": 424,
   "id": "5a384961-c71c-44d8-9c4c-b71cf4e4f41d",
   "metadata": {},
   "outputs": [],
   "source": [
    "groups = pd.read_csv('groups.csv', delimiter=';')\n",
    "checks = pd.read_csv('checks.csv', delimiter=';')\n",
    "active_studs = pd.read_csv('active_studs.csv', delimiter=';')\n",
    "group_add = pd.read_csv('group_add.csv')"
   ]
  },
  {
   "cell_type": "markdown",
   "id": "75f5ed51-3e2a-412f-b967-5c140a282961",
   "metadata": {},
   "source": [
    "#### PRELIMINARY EDA\n",
    "Проведем предварительный анализ всех таблиц, которые даны по условию\n"
   ]
  },
  {
   "cell_type": "code",
   "execution_count": 425,
   "id": "6f8f47a9-e554-406a-868a-7fd4e7a868cc",
   "metadata": {},
   "outputs": [
    {
     "data": {
      "text/html": [
       "<div>\n",
       "<style scoped>\n",
       "    .dataframe tbody tr th:only-of-type {\n",
       "        vertical-align: middle;\n",
       "    }\n",
       "\n",
       "    .dataframe tbody tr th {\n",
       "        vertical-align: top;\n",
       "    }\n",
       "\n",
       "    .dataframe thead th {\n",
       "        text-align: right;\n",
       "    }\n",
       "</style>\n",
       "<table border=\"1\" class=\"dataframe\">\n",
       "  <thead>\n",
       "    <tr style=\"text-align: right;\">\n",
       "      <th></th>\n",
       "      <th>id</th>\n",
       "      <th>grp</th>\n",
       "    </tr>\n",
       "  </thead>\n",
       "  <tbody>\n",
       "    <tr>\n",
       "      <th>0</th>\n",
       "      <td>1489</td>\n",
       "      <td>B</td>\n",
       "    </tr>\n",
       "    <tr>\n",
       "      <th>1</th>\n",
       "      <td>1627</td>\n",
       "      <td>A</td>\n",
       "    </tr>\n",
       "    <tr>\n",
       "      <th>2</th>\n",
       "      <td>1768</td>\n",
       "      <td>B</td>\n",
       "    </tr>\n",
       "  </tbody>\n",
       "</table>\n",
       "</div>"
      ],
      "text/plain": [
       "     id grp\n",
       "0  1489   B\n",
       "1  1627   A\n",
       "2  1768   B"
      ]
     },
     "execution_count": 425,
     "metadata": {},
     "output_type": "execute_result"
    }
   ],
   "source": [
    "# Посмотрим на датафрейм groups\n",
    "groups.head(3)"
   ]
  },
  {
   "cell_type": "code",
   "execution_count": 426,
   "id": "34784ccc-3b7a-4cfa-9f59-cff03bccebd4",
   "metadata": {},
   "outputs": [
    {
     "data": {
      "text/plain": [
       "74484"
      ]
     },
     "execution_count": 426,
     "metadata": {},
     "output_type": "execute_result"
    }
   ],
   "source": [
    "# Посмотрим на длину таблицы, количество пользователей в контрольной (А) и тестовой (В) группе\n",
    "len(groups)"
   ]
  },
  {
   "cell_type": "code",
   "execution_count": 427,
   "id": "93423664-9b2e-4fd4-8158-a1e89fa25849",
   "metadata": {},
   "outputs": [
    {
     "data": {
      "text/plain": [
       "B    80.303152\n",
       "A    19.696848\n",
       "Name: grp, dtype: float64"
      ]
     },
     "execution_count": 427,
     "metadata": {},
     "output_type": "execute_result"
    }
   ],
   "source": [
    "groups.grp.value_counts(normalize=True) * 100"
   ]
  },
  {
   "cell_type": "markdown",
   "id": "45a9d9cd-4831-4963-9653-d263bab757a2",
   "metadata": {},
   "source": [
    "Разбивка пользователей перекошена в сторону тестовой группы - 80% против 20%. Немного необычное решение для проведения А/В теста, обычно ситуация обратная"
   ]
  },
  {
   "cell_type": "code",
   "execution_count": 428,
   "id": "bd63a512-96d0-401f-9a1c-4a04f797e170",
   "metadata": {},
   "outputs": [
    {
     "data": {
      "text/html": [
       "<div>\n",
       "<style scoped>\n",
       "    .dataframe tbody tr th:only-of-type {\n",
       "        vertical-align: middle;\n",
       "    }\n",
       "\n",
       "    .dataframe tbody tr th {\n",
       "        vertical-align: top;\n",
       "    }\n",
       "\n",
       "    .dataframe thead th {\n",
       "        text-align: right;\n",
       "    }\n",
       "</style>\n",
       "<table border=\"1\" class=\"dataframe\">\n",
       "  <thead>\n",
       "    <tr style=\"text-align: right;\">\n",
       "      <th></th>\n",
       "      <th>student_id</th>\n",
       "    </tr>\n",
       "  </thead>\n",
       "  <tbody>\n",
       "    <tr>\n",
       "      <th>0</th>\n",
       "      <td>581585</td>\n",
       "    </tr>\n",
       "    <tr>\n",
       "      <th>1</th>\n",
       "      <td>5723133</td>\n",
       "    </tr>\n",
       "    <tr>\n",
       "      <th>2</th>\n",
       "      <td>3276743</td>\n",
       "    </tr>\n",
       "  </tbody>\n",
       "</table>\n",
       "</div>"
      ],
      "text/plain": [
       "   student_id\n",
       "0      581585\n",
       "1     5723133\n",
       "2     3276743"
      ]
     },
     "execution_count": 428,
     "metadata": {},
     "output_type": "execute_result"
    }
   ],
   "source": [
    "# Посмотрим на датафрейм active_studs\n",
    "active_studs.head(3)"
   ]
  },
  {
   "cell_type": "code",
   "execution_count": 429,
   "id": "79b7ee92-aaef-4750-b793-11fc92e0b704",
   "metadata": {},
   "outputs": [
    {
     "data": {
      "text/plain": [
       "8341"
      ]
     },
     "execution_count": 429,
     "metadata": {},
     "output_type": "execute_result"
    }
   ],
   "source": [
    "len(active_studs)"
   ]
  },
  {
   "cell_type": "markdown",
   "id": "43ff73b2-a17e-4449-a489-f0e2639ae11f",
   "metadata": {},
   "source": [
    "Таблица состоит из одного столбца, в котором указаны id тех, кто зашел на платформу. Всего таких пользователей было 8341"
   ]
  },
  {
   "cell_type": "code",
   "execution_count": 430,
   "id": "e589dd83-cb49-4500-933d-89bd0549405d",
   "metadata": {},
   "outputs": [
    {
     "data": {
      "text/plain": [
       "8341"
      ]
     },
     "execution_count": 430,
     "metadata": {},
     "output_type": "execute_result"
    }
   ],
   "source": [
    "# На всякий случай уточним, являются ли id уникальными в этой таблице. Возможно учитывался каждый заход пользователя\n",
    "len(active_studs.student_id.value_counts())"
   ]
  },
  {
   "cell_type": "markdown",
   "id": "9c0df4ea-d2b4-4fea-9fef-b832bae43aa1",
   "metadata": {},
   "source": [
    "Групировка по id дала таблицу такой же блины, как и исходный - значения уникальные"
   ]
  },
  {
   "cell_type": "code",
   "execution_count": 431,
   "id": "d51b89dd-25b3-4f05-84c1-ad18ecb98e9b",
   "metadata": {},
   "outputs": [
    {
     "data": {
      "text/html": [
       "<div>\n",
       "<style scoped>\n",
       "    .dataframe tbody tr th:only-of-type {\n",
       "        vertical-align: middle;\n",
       "    }\n",
       "\n",
       "    .dataframe tbody tr th {\n",
       "        vertical-align: top;\n",
       "    }\n",
       "\n",
       "    .dataframe thead th {\n",
       "        text-align: right;\n",
       "    }\n",
       "</style>\n",
       "<table border=\"1\" class=\"dataframe\">\n",
       "  <thead>\n",
       "    <tr style=\"text-align: right;\">\n",
       "      <th></th>\n",
       "      <th>student_id</th>\n",
       "      <th>rev</th>\n",
       "    </tr>\n",
       "  </thead>\n",
       "  <tbody>\n",
       "    <tr>\n",
       "      <th>0</th>\n",
       "      <td>1627</td>\n",
       "      <td>990.0</td>\n",
       "    </tr>\n",
       "    <tr>\n",
       "      <th>1</th>\n",
       "      <td>3185</td>\n",
       "      <td>690.0</td>\n",
       "    </tr>\n",
       "    <tr>\n",
       "      <th>2</th>\n",
       "      <td>25973</td>\n",
       "      <td>690.0</td>\n",
       "    </tr>\n",
       "  </tbody>\n",
       "</table>\n",
       "</div>"
      ],
      "text/plain": [
       "   student_id    rev\n",
       "0        1627  990.0\n",
       "1        3185  690.0\n",
       "2       25973  690.0"
      ]
     },
     "execution_count": 431,
     "metadata": {},
     "output_type": "execute_result"
    }
   ],
   "source": [
    "# Посмотрим на датафрейм active_studs\n",
    "checks.head(3)"
   ]
  },
  {
   "cell_type": "code",
   "execution_count": 432,
   "id": "3b7b9653-085f-4329-a456-540627426f58",
   "metadata": {},
   "outputs": [],
   "source": [
    "# Переведем float значения в int, чтобы убрать ненужные нули после запятой\n",
    "checks['rev'] = checks.rev.astype(int)"
   ]
  },
  {
   "cell_type": "code",
   "execution_count": 433,
   "id": "103a0c48-b402-45b0-9715-42098a6a0fa2",
   "metadata": {},
   "outputs": [
    {
     "data": {
      "text/plain": [
       "541"
      ]
     },
     "execution_count": 433,
     "metadata": {},
     "output_type": "execute_result"
    }
   ],
   "source": [
    "len(checks)"
   ]
  },
  {
   "cell_type": "markdown",
   "id": "275640a4-f8a5-4fb2-b38e-db7612339419",
   "metadata": {},
   "source": [
    "Всего за 2 дня проведения эксперимента покупку совершил 541 пользователь"
   ]
  },
  {
   "cell_type": "code",
   "execution_count": 434,
   "id": "90484df7-c2a2-48e7-8bae-69b4b16aad2e",
   "metadata": {},
   "outputs": [
    {
     "data": {
      "text/plain": [
       "count     541.000000\n",
       "mean     1059.752311\n",
       "std       762.712351\n",
       "min       199.000000\n",
       "25%       290.000000\n",
       "50%       840.000000\n",
       "75%      1900.000000\n",
       "max      4650.000000\n",
       "Name: rev, dtype: float64"
      ]
     },
     "execution_count": 434,
     "metadata": {},
     "output_type": "execute_result"
    }
   ],
   "source": [
    "# Посмотрим на базовые статистики покупок за эти дни\n",
    "checks.rev.describe()"
   ]
  },
  {
   "cell_type": "code",
   "execution_count": 435,
   "id": "92a1d3d3-1dbd-4b24-bd48-6b84c634da7b",
   "metadata": {},
   "outputs": [
    {
     "data": {
      "text/plain": [
       "0"
      ]
     },
     "execution_count": 435,
     "metadata": {},
     "output_type": "execute_result"
    }
   ],
   "source": [
    "# Проверим были ли те пользователи, кто совершил несколько покупок за эти дни\n",
    "len(checks.groupby('student_id', as_index=False)\n",
    "        .count()\n",
    "        .query('rev > 1')\n",
    "   )"
   ]
  },
  {
   "cell_type": "markdown",
   "id": "8daa227d-4108-4b07-9f66-1edba804e77b",
   "metadata": {},
   "source": [
    "Все покупали только 1 раз, тех, кто делал покупку дважды и более раз - нет"
   ]
  },
  {
   "cell_type": "code",
   "execution_count": 436,
   "id": "29ab0ee3-393e-4749-ae00-be494730330b",
   "metadata": {},
   "outputs": [
    {
     "data": {
      "text/html": [
       "<div>\n",
       "<style scoped>\n",
       "    .dataframe tbody tr th:only-of-type {\n",
       "        vertical-align: middle;\n",
       "    }\n",
       "\n",
       "    .dataframe tbody tr th {\n",
       "        vertical-align: top;\n",
       "    }\n",
       "\n",
       "    .dataframe thead th {\n",
       "        text-align: right;\n",
       "    }\n",
       "</style>\n",
       "<table border=\"1\" class=\"dataframe\">\n",
       "  <thead>\n",
       "    <tr style=\"text-align: right;\">\n",
       "      <th></th>\n",
       "      <th>index</th>\n",
       "      <th>rev</th>\n",
       "    </tr>\n",
       "  </thead>\n",
       "  <tbody>\n",
       "    <tr>\n",
       "      <th>0</th>\n",
       "      <td>1900</td>\n",
       "      <td>133</td>\n",
       "    </tr>\n",
       "    <tr>\n",
       "      <th>1</th>\n",
       "      <td>290</td>\n",
       "      <td>94</td>\n",
       "    </tr>\n",
       "    <tr>\n",
       "      <th>2</th>\n",
       "      <td>690</td>\n",
       "      <td>78</td>\n",
       "    </tr>\n",
       "    <tr>\n",
       "      <th>3</th>\n",
       "      <td>199</td>\n",
       "      <td>46</td>\n",
       "    </tr>\n",
       "    <tr>\n",
       "      <th>4</th>\n",
       "      <td>990</td>\n",
       "      <td>41</td>\n",
       "    </tr>\n",
       "  </tbody>\n",
       "</table>\n",
       "</div>"
      ],
      "text/plain": [
       "   index  rev\n",
       "0   1900  133\n",
       "1    290   94\n",
       "2    690   78\n",
       "3    199   46\n",
       "4    990   41"
      ]
     },
     "execution_count": 436,
     "metadata": {},
     "output_type": "execute_result"
    }
   ],
   "source": [
    "# Чуть более подробно посмотрим на тип покупок по их размеру\n",
    "checks_cnt = checks.rev.value_counts().reset_index()\n",
    "\n",
    "checks_cnt.head()"
   ]
  },
  {
   "cell_type": "code",
   "execution_count": 437,
   "id": "b57fb15f-413b-46e9-840a-19146407f146",
   "metadata": {},
   "outputs": [
    {
     "data": {
      "image/png": "[encoded data removed]",
      "text/plain": [
       "<Figure size 1440x432 with 1 Axes>"
      ]
     },
     "metadata": {
      "needs_background": "light"
     },
     "output_type": "display_data"
    }
   ],
   "source": [
    "plt.figure(figsize=(20,6))\n",
    "\n",
    "ax = sns.barplot(data=checks_cnt, x='index', y='rev')"
   ]
  },
  {
   "cell_type": "markdown",
   "id": "0831f17f-2756-4b60-95da-e02460500fac",
   "metadata": {},
   "source": [
    "#### Подготовка данных для оценки А/В теста"
   ]
  },
  {
   "cell_type": "markdown",
   "id": "832096d5-23d8-4b3c-aac7-794d1f2d3b26",
   "metadata": {},
   "source": [
    "Вначале необходимо распредилить по группам тех пользователей, кто заходил на сайт"
   ]
  },
  {
   "cell_type": "code",
   "execution_count": 438,
   "id": "7bca2841-ff58-4c8b-a4b6-79b4e8ed51f6",
   "metadata": {},
   "outputs": [
    {
     "data": {
      "text/html": [
       "<div>\n",
       "<style scoped>\n",
       "    .dataframe tbody tr th:only-of-type {\n",
       "        vertical-align: middle;\n",
       "    }\n",
       "\n",
       "    .dataframe tbody tr th {\n",
       "        vertical-align: top;\n",
       "    }\n",
       "\n",
       "    .dataframe thead th {\n",
       "        text-align: right;\n",
       "    }\n",
       "</style>\n",
       "<table border=\"1\" class=\"dataframe\">\n",
       "  <thead>\n",
       "    <tr style=\"text-align: right;\">\n",
       "      <th></th>\n",
       "      <th>id</th>\n",
       "      <th>grp</th>\n",
       "    </tr>\n",
       "  </thead>\n",
       "  <tbody>\n",
       "    <tr>\n",
       "      <th>0</th>\n",
       "      <td>581585</td>\n",
       "      <td>A</td>\n",
       "    </tr>\n",
       "    <tr>\n",
       "      <th>1</th>\n",
       "      <td>3276743</td>\n",
       "      <td>B</td>\n",
       "    </tr>\n",
       "    <tr>\n",
       "      <th>2</th>\n",
       "      <td>4238589</td>\n",
       "      <td>A</td>\n",
       "    </tr>\n",
       "    <tr>\n",
       "      <th>3</th>\n",
       "      <td>4475369</td>\n",
       "      <td>B</td>\n",
       "    </tr>\n",
       "    <tr>\n",
       "      <th>4</th>\n",
       "      <td>5481015</td>\n",
       "      <td>B</td>\n",
       "    </tr>\n",
       "  </tbody>\n",
       "</table>\n",
       "</div>"
      ],
      "text/plain": [
       "        id grp\n",
       "0   581585   A\n",
       "1  3276743   B\n",
       "2  4238589   A\n",
       "3  4475369   B\n",
       "4  5481015   B"
      ]
     },
     "execution_count": 438,
     "metadata": {},
     "output_type": "execute_result"
    }
   ],
   "source": [
    "# Добавим к списку с теми, кто зашел на сайт разбивку на группы\n",
    "active_groups = active_studs.merge(groups, how='inner', left_on='student_id', right_on='id')[['id', 'grp']]\n",
    "\n",
    "active_groups.head()"
   ]
  },
  {
   "cell_type": "code",
   "execution_count": 439,
   "id": "59aedd43-5471-4206-8b59-9e09b3af7c47",
   "metadata": {},
   "outputs": [
    {
     "name": "stdout",
     "output_type": "stream",
     "text": [
      "Количество записей в датафрейме = 8328\n",
      "\n",
      "Распределение пользователей по тестовой и контрольной группе:\n"
     ]
    },
    {
     "data": {
      "text/plain": [
       "B    0.815682\n",
       "A    0.184318\n",
       "Name: grp, dtype: float64"
      ]
     },
     "execution_count": 439,
     "metadata": {},
     "output_type": "execute_result"
    }
   ],
   "source": [
    "# Посмотрим на размер датафрейма и распределение по группам тех, кто заходил на сайт\n",
    "\n",
    "print(f'Количество записей в датафрейме = {len(active_groups)}')\n",
    "print('\\nРаспределение пользователей по тестовой и контрольной группе:')\n",
    "active_groups.grp.value_counts(normalize=True)"
   ]
  },
  {
   "cell_type": "markdown",
   "id": "8b36c18b-d28d-47c4-b0f5-fc51523b452e",
   "metadata": {},
   "source": [
    "Распределение по группам среди тех, кто заходил на сайт примерно равно изначальному распределению по группам: 82% против 18%.  \n",
    "При этом нас интересует поседение этих пользователей с точки зрения оплаты, поэтому необходимо добавить данные об оплатах к получившейся таблице active_groups"
   ]
  },
  {
   "cell_type": "code",
   "execution_count": 440,
   "id": "6a2bff5a-1617-4569-9b49-7aab4123e162",
   "metadata": {},
   "outputs": [
    {
     "data": {
      "text/html": [
       "<div>\n",
       "<style scoped>\n",
       "    .dataframe tbody tr th:only-of-type {\n",
       "        vertical-align: middle;\n",
       "    }\n",
       "\n",
       "    .dataframe tbody tr th {\n",
       "        vertical-align: top;\n",
       "    }\n",
       "\n",
       "    .dataframe thead th {\n",
       "        text-align: right;\n",
       "    }\n",
       "</style>\n",
       "<table border=\"1\" class=\"dataframe\">\n",
       "  <thead>\n",
       "    <tr style=\"text-align: right;\">\n",
       "      <th></th>\n",
       "      <th>grp</th>\n",
       "      <th>id</th>\n",
       "      <th>rev</th>\n",
       "    </tr>\n",
       "  </thead>\n",
       "  <tbody>\n",
       "    <tr>\n",
       "      <th>0</th>\n",
       "      <td>A</td>\n",
       "      <td>581585</td>\n",
       "      <td>NaN</td>\n",
       "    </tr>\n",
       "    <tr>\n",
       "      <th>1</th>\n",
       "      <td>B</td>\n",
       "      <td>3276743</td>\n",
       "      <td>NaN</td>\n",
       "    </tr>\n",
       "    <tr>\n",
       "      <th>2</th>\n",
       "      <td>A</td>\n",
       "      <td>4238589</td>\n",
       "      <td>NaN</td>\n",
       "    </tr>\n",
       "    <tr>\n",
       "      <th>3</th>\n",
       "      <td>B</td>\n",
       "      <td>4475369</td>\n",
       "      <td>NaN</td>\n",
       "    </tr>\n",
       "    <tr>\n",
       "      <th>4</th>\n",
       "      <td>B</td>\n",
       "      <td>5481015</td>\n",
       "      <td>NaN</td>\n",
       "    </tr>\n",
       "  </tbody>\n",
       "</table>\n",
       "</div>"
      ],
      "text/plain": [
       "  grp       id  rev\n",
       "0   A   581585  NaN\n",
       "1   B  3276743  NaN\n",
       "2   A  4238589  NaN\n",
       "3   B  4475369  NaN\n",
       "4   B  5481015  NaN"
      ]
     },
     "execution_count": 440,
     "metadata": {},
     "output_type": "execute_result"
    }
   ],
   "source": [
    "# Соединим два датафрейма и оставим только нужные нам столбцы в удобном порядке\n",
    "df = active_groups.merge(checks, left_on='id', right_on='student_id', how='left')[['grp', 'id', 'rev']]\n",
    "\n",
    "df.head()"
   ]
  },
  {
   "cell_type": "code",
   "execution_count": 441,
   "id": "17015356-cbe4-4020-ba41-c8e79f8e6f8e",
   "metadata": {},
   "outputs": [
    {
     "name": "stdout",
     "output_type": "stream",
     "text": [
      "<class 'pandas.core.frame.DataFrame'>\n",
      "Int64Index: 8328 entries, 0 to 8327\n",
      "Data columns (total 3 columns):\n",
      " #   Column  Non-Null Count  Dtype  \n",
      "---  ------  --------------  -----  \n",
      " 0   grp     8328 non-null   object \n",
      " 1   id      8328 non-null   int64  \n",
      " 2   rev     391 non-null    float64\n",
      "dtypes: float64(1), int64(1), object(1)\n",
      "memory usage: 260.2+ KB\n"
     ]
    }
   ],
   "source": [
    "# Посмотрим на описание датафрейма и базовые статистики\n",
    "df.info()"
   ]
  },
  {
   "cell_type": "markdown",
   "id": "a2d8eb0b-3f14-4794-8b00-2a3e9f905d2e",
   "metadata": {},
   "source": [
    "Мы видим, что только 391 пользователь из тех, кто зашел на сайт и совершили покупку. Исходя из задания следует, что менялась именно механика оплаты, поэтому в данном исследовании я предполагаю, что основная метрика, которая нас интересует - конверсия захода на сайт в покупку, а не средний чек, так как если меняется именно механика оплаты, то основное влияние должно быть на конверсию, а не на средний чек.  \n",
    "\n",
    "Средний чек мы отследим как побочную метрику, но только на тех, кто в итоге совершил покупку, смотреть на средний чек на всех зашедших на сайт не имеет смысла, так как конверсия является тем, что драйвит средний чек, если мы его считаем на всех пользователях."
   ]
  },
  {
   "cell_type": "code",
   "execution_count": 442,
   "id": "a8b55ae3-e402-4c06-8fb7-0935defeeb22",
   "metadata": {},
   "outputs": [],
   "source": [
    "# Добавим столбец с меткой о покупке\n",
    "df['is_purchase'] = df.rev.apply(lambda x: True if x >=0 else False)\n",
    "df['is_purchase'] = df.is_purchase.apply(lambda x: 0 if x == False else 1)"
   ]
  },
  {
   "cell_type": "code",
   "execution_count": 443,
   "id": "eabe32cb-587b-4085-8350-5b3ac91e973f",
   "metadata": {},
   "outputs": [
    {
     "data": {
      "text/html": [
       "<div>\n",
       "<style scoped>\n",
       "    .dataframe tbody tr th:only-of-type {\n",
       "        vertical-align: middle;\n",
       "    }\n",
       "\n",
       "    .dataframe tbody tr th {\n",
       "        vertical-align: top;\n",
       "    }\n",
       "\n",
       "    .dataframe thead th {\n",
       "        text-align: right;\n",
       "    }\n",
       "</style>\n",
       "<table border=\"1\" class=\"dataframe\">\n",
       "  <thead>\n",
       "    <tr style=\"text-align: right;\">\n",
       "      <th></th>\n",
       "      <th>grp</th>\n",
       "      <th>id</th>\n",
       "      <th>rev</th>\n",
       "      <th>is_purchase</th>\n",
       "    </tr>\n",
       "  </thead>\n",
       "  <tbody>\n",
       "    <tr>\n",
       "      <th>8323</th>\n",
       "      <td>B</td>\n",
       "      <td>1794344</td>\n",
       "      <td>NaN</td>\n",
       "      <td>0</td>\n",
       "    </tr>\n",
       "    <tr>\n",
       "      <th>8324</th>\n",
       "      <td>B</td>\n",
       "      <td>296883</td>\n",
       "      <td>NaN</td>\n",
       "      <td>0</td>\n",
       "    </tr>\n",
       "    <tr>\n",
       "      <th>8325</th>\n",
       "      <td>B</td>\n",
       "      <td>3598448</td>\n",
       "      <td>NaN</td>\n",
       "      <td>0</td>\n",
       "    </tr>\n",
       "    <tr>\n",
       "      <th>8326</th>\n",
       "      <td>B</td>\n",
       "      <td>3610547</td>\n",
       "      <td>290.0</td>\n",
       "      <td>1</td>\n",
       "    </tr>\n",
       "    <tr>\n",
       "      <th>8327</th>\n",
       "      <td>B</td>\n",
       "      <td>205705</td>\n",
       "      <td>NaN</td>\n",
       "      <td>0</td>\n",
       "    </tr>\n",
       "  </tbody>\n",
       "</table>\n",
       "</div>"
      ],
      "text/plain": [
       "     grp       id    rev  is_purchase\n",
       "8323   B  1794344    NaN            0\n",
       "8324   B   296883    NaN            0\n",
       "8325   B  3598448    NaN            0\n",
       "8326   B  3610547  290.0            1\n",
       "8327   B   205705    NaN            0"
      ]
     },
     "execution_count": 443,
     "metadata": {},
     "output_type": "execute_result"
    }
   ],
   "source": [
    "df.tail()"
   ]
  },
  {
   "cell_type": "markdown",
   "id": "a19c2b4c-d085-4d7c-a6af-7f8c088d467d",
   "metadata": {},
   "source": [
    "#### Проведение A/B тестов"
   ]
  },
  {
   "cell_type": "code",
   "execution_count": 444,
   "id": "68d16340-2778-46a5-8a14-5dfe0ffe51b9",
   "metadata": {},
   "outputs": [
    {
     "data": {
      "text/plain": [
       "grp\n",
       "A    0.050814\n",
       "B    0.046077\n",
       "Name: is_purchase, dtype: float64"
      ]
     },
     "execution_count": 444,
     "metadata": {},
     "output_type": "execute_result"
    }
   ],
   "source": [
    "# Посмотрим на конверсию в контрольной и целевой группах\n",
    "df.groupby('grp').is_purchase.mean()"
   ]
  },
  {
   "cell_type": "code",
   "execution_count": 445,
   "id": "28b47306-da3c-4806-aa66-0d462b43484d",
   "metadata": {},
   "outputs": [],
   "source": [
    "control_conv = df.query('grp == \"A\"')[['is_purchase']]\n",
    "treatment_conv = df.query('grp == \"B\"')[['is_purchase']]"
   ]
  },
  {
   "cell_type": "markdown",
   "id": "592c2e50-2687-4448-be6e-c3e6d78d18de",
   "metadata": {},
   "source": [
    "Так как значение покупки бинарно: 1-покупка, 0-отсутствие покупки. При проведении теста применим бутстрап"
   ]
  },
  {
   "cell_type": "code",
   "execution_count": 446,
   "id": "28629368-cee4-4a36-aec8-f7fdee2a5a62",
   "metadata": {},
   "outputs": [
    {
     "data": {
      "application/vnd.jupyter.widget-view+json": {
       "model_id": "3af69f3d2ab544a980868cbb4ef63daa",
       "version_major": 2,
       "version_minor": 0
      },
      "text/plain": [
       "  0%|          | 0/1000 [00:00<?, ?it/s]"
      ]
     },
     "metadata": {},
     "output_type": "display_data"
    },
    {
     "name": "stdout",
     "output_type": "stream",
     "text": [
      "P-value: 0.438\n"
     ]
    }
   ],
   "source": [
    "result = []\n",
    "boot_it = 1000\n",
    "base_diff = abs(np.mean(control_conv) - np.mean(treatment_conv))\n",
    "\n",
    "for _ in tqdm(range(boot_it)):\n",
    "        samples_1 = df['is_purchase'].sample(len(control_conv), replace=True).mean()\n",
    "        samples_2 = df['is_purchase'].sample(len(treatment_conv), replace=True).mean()\n",
    "        result.append(np.abs(samples_1 - samples_2) >= base_diff)\n",
    "        \n",
    "print(f'P-value: {np.mean(result)}')"
   ]
  },
  {
   "cell_type": "markdown",
   "id": "b242e18f-9c57-4351-b40e-57eae17c2217",
   "metadata": {},
   "source": [
    "Вероятность получить такую и большую разницу составляет 0.404.\n",
    "Мы не можем отбросить нулевую гипотезу о том, что между конверсиями групп существует статистически значимая разница.\n",
    "\n",
    "Теперь проверим статистическую разницу в побочной метрике - среднем чеке"
   ]
  },
  {
   "cell_type": "code",
   "execution_count": 447,
   "id": "bc65e977-6a04-4b8c-aeca-d3f6719da754",
   "metadata": {},
   "outputs": [
    {
     "data": {
      "text/html": [
       "<div>\n",
       "<style scoped>\n",
       "    .dataframe tbody tr th:only-of-type {\n",
       "        vertical-align: middle;\n",
       "    }\n",
       "\n",
       "    .dataframe tbody tr th {\n",
       "        vertical-align: top;\n",
       "    }\n",
       "\n",
       "    .dataframe thead th {\n",
       "        text-align: right;\n",
       "    }\n",
       "</style>\n",
       "<table border=\"1\" class=\"dataframe\">\n",
       "  <thead>\n",
       "    <tr style=\"text-align: right;\">\n",
       "      <th></th>\n",
       "      <th>grp</th>\n",
       "      <th>id</th>\n",
       "      <th>rev</th>\n",
       "      <th>is_purchase</th>\n",
       "    </tr>\n",
       "  </thead>\n",
       "  <tbody>\n",
       "    <tr>\n",
       "      <th>61</th>\n",
       "      <td>A</td>\n",
       "      <td>1184303</td>\n",
       "      <td>1530.0</td>\n",
       "      <td>1</td>\n",
       "    </tr>\n",
       "    <tr>\n",
       "      <th>66</th>\n",
       "      <td>B</td>\n",
       "      <td>3354191</td>\n",
       "      <td>1900.0</td>\n",
       "      <td>1</td>\n",
       "    </tr>\n",
       "    <tr>\n",
       "      <th>76</th>\n",
       "      <td>B</td>\n",
       "      <td>3278734</td>\n",
       "      <td>1900.0</td>\n",
       "      <td>1</td>\n",
       "    </tr>\n",
       "    <tr>\n",
       "      <th>98</th>\n",
       "      <td>A</td>\n",
       "      <td>720651</td>\n",
       "      <td>1980.0</td>\n",
       "      <td>1</td>\n",
       "    </tr>\n",
       "    <tr>\n",
       "      <th>191</th>\n",
       "      <td>B</td>\n",
       "      <td>1232221</td>\n",
       "      <td>1900.0</td>\n",
       "      <td>1</td>\n",
       "    </tr>\n",
       "  </tbody>\n",
       "</table>\n",
       "</div>"
      ],
      "text/plain": [
       "    grp       id     rev  is_purchase\n",
       "61    A  1184303  1530.0            1\n",
       "66    B  3354191  1900.0            1\n",
       "76    B  3278734  1900.0            1\n",
       "98    A   720651  1980.0            1\n",
       "191   B  1232221  1900.0            1"
      ]
     },
     "execution_count": 447,
     "metadata": {},
     "output_type": "execute_result"
    }
   ],
   "source": [
    "# Сделаем отдельный датафрейм, где мы будем учитывать только пользователей с совершенными покупками,\n",
    "# для подсчета среднего по двум тестовым группам\n",
    "\n",
    "df_purchase = df.query('is_purchase == True')\n",
    "df_purchase.head()"
   ]
  },
  {
   "cell_type": "code",
   "execution_count": 448,
   "id": "d0668cc4-c243-4dfa-8a2f-825fb231a816",
   "metadata": {},
   "outputs": [
    {
     "data": {
      "text/html": [
       "<div>\n",
       "<style scoped>\n",
       "    .dataframe tbody tr th:only-of-type {\n",
       "        vertical-align: middle;\n",
       "    }\n",
       "\n",
       "    .dataframe tbody tr th {\n",
       "        vertical-align: top;\n",
       "    }\n",
       "\n",
       "    .dataframe thead th {\n",
       "        text-align: right;\n",
       "    }\n",
       "</style>\n",
       "<table border=\"1\" class=\"dataframe\">\n",
       "  <thead>\n",
       "    <tr style=\"text-align: right;\">\n",
       "      <th></th>\n",
       "      <th>mean</th>\n",
       "      <th>count</th>\n",
       "    </tr>\n",
       "    <tr>\n",
       "      <th>grp</th>\n",
       "      <th></th>\n",
       "      <th></th>\n",
       "    </tr>\n",
       "  </thead>\n",
       "  <tbody>\n",
       "    <tr>\n",
       "      <th>A</th>\n",
       "      <td>933.589744</td>\n",
       "      <td>78</td>\n",
       "    </tr>\n",
       "    <tr>\n",
       "      <th>B</th>\n",
       "      <td>1255.827476</td>\n",
       "      <td>313</td>\n",
       "    </tr>\n",
       "  </tbody>\n",
       "</table>\n",
       "</div>"
      ],
      "text/plain": [
       "            mean  count\n",
       "grp                    \n",
       "A     933.589744     78\n",
       "B    1255.827476    313"
      ]
     },
     "execution_count": 448,
     "metadata": {},
     "output_type": "execute_result"
    }
   ],
   "source": [
    "df_purchase.groupby('grp').rev.agg(['mean', 'count'])"
   ]
  },
  {
   "cell_type": "markdown",
   "id": "57d66ca7-65da-4508-b294-1b943e7af2c0",
   "metadata": {},
   "source": [
    "Разобьем исходный датафрейм на два, согласно группам, по покупкам"
   ]
  },
  {
   "cell_type": "code",
   "execution_count": 449,
   "id": "472963e3-1a9c-4a43-b5a6-e4c397075632",
   "metadata": {},
   "outputs": [],
   "source": [
    "control_rev = df_purchase.query('grp == \"A\"')[['rev']]\n",
    "treatment_rev = df_purchase.query('grp == \"B\"')[['rev']]"
   ]
  },
  {
   "cell_type": "markdown",
   "id": "533f89c9-3202-4f6f-9564-06baf11ae3fa",
   "metadata": {},
   "source": [
    "Проверим датафреймы на нормальность распределения"
   ]
  },
  {
   "cell_type": "code",
   "execution_count": 450,
   "id": "5ab63394-ced5-4598-bdc1-73bce7fada5a",
   "metadata": {},
   "outputs": [
    {
     "name": "stdout",
     "output_type": "stream",
     "text": [
      "Результаты теста Шапиро–Уилка:\n",
      "Control group p-value: 1.4986822893803264e-10\n",
      "Treatment group p-value: 1.756778758085431e-16\n"
     ]
    }
   ],
   "source": [
    "print('Результаты теста Шапиро–Уилка:');\n",
    "print(f'Control group p-value: {shapiro(control_rev)[1]}');\n",
    "print(f'Treatment group p-value: {shapiro(treatment_rev)[1]}')"
   ]
  },
  {
   "cell_type": "code",
   "execution_count": 451,
   "id": "6963edb1-79c9-4a60-a14b-cbeb0a2176e8",
   "metadata": {},
   "outputs": [
    {
     "data": {
      "text/plain": [
       "array([[<AxesSubplot:title={'center':'rev'}>]], dtype=object)"
      ]
     },
     "execution_count": 451,
     "metadata": {},
     "output_type": "execute_result"
    },
    {
     "data": {
      "image/png": "[encoded data removed]",
      "text/plain": [
       "<Figure size 432x288 with 1 Axes>"
      ]
     },
     "metadata": {
      "needs_background": "light"
     },
     "output_type": "display_data"
    },
    {
     "data": {
      "image/png": "[encoded data removed]",
      "text/plain": [
       "<Figure size 432x288 with 1 Axes>"
      ]
     },
     "metadata": {
      "needs_background": "light"
     },
     "output_type": "display_data"
    }
   ],
   "source": [
    "control_rev.hist()\n",
    "treatment_rev.hist()"
   ]
  },
  {
   "cell_type": "markdown",
   "id": "5efb98d6-6a26-473e-8afe-035533a201f7",
   "metadata": {},
   "source": [
    "Распределение размера покупок не является нормальным для обеих групп, поэтому при проведении А/В теста будем использовать метод бутстрапа"
   ]
  },
  {
   "cell_type": "code",
   "execution_count": 452,
   "id": "6f039aa5-40b6-40d9-9364-2e36b23c84db",
   "metadata": {
    "scrolled": true,
    "tags": []
   },
   "outputs": [
    {
     "data": {
      "application/vnd.jupyter.widget-view+json": {
       "model_id": "2bb731b7ee18411482c9de5ca71068e4",
       "version_major": 2,
       "version_minor": 0
      },
      "text/plain": [
       "  0%|          | 0/1000 [00:00<?, ?it/s]"
      ]
     },
     "metadata": {},
     "output_type": "display_data"
    },
    {
     "name": "stdout",
     "output_type": "stream",
     "text": [
      "P-value: 0.002\n"
     ]
    }
   ],
   "source": [
    "result = []\n",
    "boot_it = 1000\n",
    "base_diff = abs(np.mean(control_rev) - np.mean(treatment_rev))\n",
    "\n",
    "for _ in tqdm(range(boot_it)):\n",
    "        samples_1 = df_purchase['rev'].sample(len(control_rev), replace=True).mean()\n",
    "        samples_2 = df_purchase['rev'].sample(len(treatment_rev), replace=True).mean()\n",
    "        result.append(np.abs(samples_1 - samples_2) >= base_diff)\n",
    "        \n",
    "print(f'P-value: {np.mean(result)}')"
   ]
  },
  {
   "cell_type": "markdown",
   "id": "d87de9d0-1379-4830-920a-b92720f4e7c1",
   "metadata": {},
   "source": [
    "Вероятность получить такую и большую разницу в среднем чеке составляет 0.001. Мы можем отклонить нулевую гипотезу о том, что средние не различаются. Разница в размере среднего чека является статистически значимой.\n",
    "\n",
    "При этом, так как основная метрика, которая нас интересует, была конверсией, то в таком случае, **мы должны отказаться от запуска новой механики на всех пользователей**, так как основная задача (повышение конверсии) дорстигнута не была."
   ]
  },
  {
   "cell_type": "markdown",
   "id": "d1422fbf-0f55-4ddb-906f-85eb6fc4e153",
   "metadata": {},
   "source": [
    "### Задание 2"
   ]
  },
  {
   "cell_type": "code",
   "execution_count": null,
   "id": "b056ed93-3c0b-459e-a259-1bb0063b08c2",
   "metadata": {},
   "outputs": [],
   "source": [
    "Задание выполняется при помощи SQL запроса в базу данных, в которой со"
   ]
  },
  {
   "cell_type": "code",
   "execution_count": 453,
   "id": "9b1dc9c0-5c31-4bbb-9d3c-d8baa1384115",
   "metadata": {},
   "outputs": [],
   "source": [
    "import pandahouse as ph"
   ]
  },
  {
   "cell_type": "code",
   "execution_count": 454,
   "id": "811d2a53-0bae-41d5-8a46-2719a0510cd1",
   "metadata": {},
   "outputs": [],
   "source": [
    "connection_default = {'host': 'http://clickhouse.beslan.pro:8080',\n",
    "                      'database':'default',\n",
    "                      'user':'student', \n",
    "                      'password':'dpo_python_2020'\n",
    "                     }"
   ]
  },
  {
   "cell_type": "markdown",
   "id": "b37ec01f-b6eb-437f-a0bb-cea3f428e377",
   "metadata": {},
   "source": [
    "#### Задание 2.1"
   ]
  },
  {
   "cell_type": "markdown",
   "id": "539bb83d-9197-42a6-9c3b-0c821d7c55e3",
   "metadata": {},
   "source": [
    "Образовательные курсы состоят из различных уроков, каждый из которых состоит из нескольких маленьких заданий. Каждое такое маленькое задание называется \"горошиной\".  \n",
    "Назовём очень усердным учеником того пользователя, который хотя бы раз за текущий месяц правильно решил 20 горошин.\n",
    "\n",
    "**Задание:** Необходимо написать оптимальный запрос, который даст информацию о количестве очень усердных студентов."
   ]
  },
  {
   "cell_type": "code",
   "execution_count": 456,
   "id": "d57f6b7b-326c-4f6b-84f8-ecaa6b766b64",
   "metadata": {},
   "outputs": [
    {
     "data": {
      "text/html": [
       "<div>\n",
       "<style scoped>\n",
       "    .dataframe tbody tr th:only-of-type {\n",
       "        vertical-align: middle;\n",
       "    }\n",
       "\n",
       "    .dataframe tbody tr th {\n",
       "        vertical-align: top;\n",
       "    }\n",
       "\n",
       "    .dataframe thead th {\n",
       "        text-align: right;\n",
       "    }\n",
       "</style>\n",
       "<table border=\"1\" class=\"dataframe\">\n",
       "  <thead>\n",
       "    <tr style=\"text-align: right;\">\n",
       "      <th></th>\n",
       "      <th>hard_workers</th>\n",
       "    </tr>\n",
       "  </thead>\n",
       "  <tbody>\n",
       "    <tr>\n",
       "      <th>0</th>\n",
       "      <td>136</td>\n",
       "    </tr>\n",
       "  </tbody>\n",
       "</table>\n",
       "</div>"
      ],
      "text/plain": [
       "   hard_workers\n",
       "0           136"
      ]
     },
     "execution_count": 456,
     "metadata": {},
     "output_type": "execute_result"
    }
   ],
   "source": [
    "q = '''\n",
    "    SELECT COUNT(*) AS hard_workers\n",
    "    FROM (\n",
    "            SELECT st_id\n",
    "                 , SUM(correct) AS amount_solved\n",
    "              FROM default.peas\n",
    "             GROUP BY st_id\n",
    "            HAVING amount_solved >= 20\n",
    "             ORDER BY amount_solved DESC\n",
    "    ) AS t\n",
    "    '''\n",
    "\n",
    "ph.read_clickhouse(query=q, connection=connection_default)"
   ]
  },
  {
   "cell_type": "markdown",
   "id": "e989775d-ccec-4388-a6c7-331ffaef69b3",
   "metadata": {},
   "source": [
    "#### Задание 2.2\n",
    "\n",
    "Образовательная платформа предлагает пройти студентам курсы по модели trial: студент может решить бесплатно лишь 30 горошин в день. Для неограниченного количества заданий в определенной дисциплине студенту необходимо приобрести полный доступ. Команда провела эксперимент, где был протестирован новый экран оплаты.\n",
    "\n",
    "Необходимо в одном запросе выгрузить следующую информацию о группах пользователей:\n",
    "- ARPU  \n",
    "- ARPAU  \n",
    "- CR в покупку  \n",
    "- СR активного пользователя в покупку  \n",
    "- CR пользователя из активности по математике (subject = ’math’) в покупку курса по математике  \n",
    "- ARPU считается относительно всех пользователей, попавших в группы.\n",
    "\n",
    "**Активным** считается пользователь, за все время решивший больше 10 задач правильно в любых дисциплинах.\n",
    "**Активным по математике** считается пользователь, за все время решивший 2 или больше задач правильно по математике."
   ]
  },
  {
   "cell_type": "code",
   "execution_count": 459,
   "id": "83546788-e6c3-4ed0-b8cb-30efeda65038",
   "metadata": {},
   "outputs": [
    {
     "data": {
      "text/html": [
       "<div>\n",
       "<style scoped>\n",
       "    .dataframe tbody tr th:only-of-type {\n",
       "        vertical-align: middle;\n",
       "    }\n",
       "\n",
       "    .dataframe tbody tr th {\n",
       "        vertical-align: top;\n",
       "    }\n",
       "\n",
       "    .dataframe thead th {\n",
       "        text-align: right;\n",
       "    }\n",
       "</style>\n",
       "<table border=\"1\" class=\"dataframe\">\n",
       "  <thead>\n",
       "    <tr style=\"text-align: right;\">\n",
       "      <th></th>\n",
       "      <th>test_grp</th>\n",
       "      <th>ARPU</th>\n",
       "      <th>ARPAU</th>\n",
       "      <th>CR_to_purchase</th>\n",
       "      <th>CR_to_purchase_active</th>\n",
       "      <th>CR_in_math_active</th>\n",
       "    </tr>\n",
       "  </thead>\n",
       "  <tbody>\n",
       "    <tr>\n",
       "      <th>0</th>\n",
       "      <td>control</td>\n",
       "      <td>4540.983607</td>\n",
       "      <td>10000.000000</td>\n",
       "      <td>4.918033</td>\n",
       "      <td>10.606061</td>\n",
       "      <td>6.122449</td>\n",
       "    </tr>\n",
       "    <tr>\n",
       "      <th>1</th>\n",
       "      <td>pilot</td>\n",
       "      <td>11508.474576</td>\n",
       "      <td>28267.326733</td>\n",
       "      <td>10.847458</td>\n",
       "      <td>24.752475</td>\n",
       "      <td>9.523810</td>\n",
       "    </tr>\n",
       "  </tbody>\n",
       "</table>\n",
       "</div>"
      ],
      "text/plain": [
       "  test_grp          ARPU         ARPAU  CR_to_purchase  CR_to_purchase_active  \\\n",
       "0  control   4540.983607  10000.000000        4.918033              10.606061   \n",
       "1    pilot  11508.474576  28267.326733       10.847458              24.752475   \n",
       "\n",
       "   CR_in_math_active  \n",
       "0           6.122449  \n",
       "1           9.523810  "
      ]
     },
     "execution_count": 459,
     "metadata": {},
     "output_type": "execute_result"
    }
   ],
   "source": [
    "q = '''\n",
    "    SELECT test_grp\n",
    "         , SUM(payments) /\n",
    "           COUNT(st_id) AS ARPU\n",
    "         , SUM(CASE WHEN correct_cnt >= 10 THEN payments Else 0 END) /\n",
    "           COUNT(CASE WHEN correct_cnt >= 10 THEN st_id Else NULL END) AS ARPAU\n",
    "         , COUNT(CASE WHEN payments > 0 THEN st_id Else NULL END) /\n",
    "           COUNT(st_id) * 100 AS CR_to_purchase\n",
    "         , COUNT(CASE WHEN payments > 0 AND correct_cnt >= 10 THEN st_id Else NULL END) /\n",
    "           COUNT(CASE WHEN correct_cnt >= 10 THEN st_id Else NULL END) * 100 AS CR_to_purchase_active\n",
    "         , SUM(CASE WHEN math_active = 1 THEN buy_math ELSE 0 END) /\n",
    "           SUM(math_active) * 100 AS CR_in_math_active\n",
    "      FROM (\n",
    "                SELECT l.st_id AS st_id\n",
    "                     , test_grp\n",
    "                     , correct_cnt\n",
    "                     , payments\n",
    "                     , CASE WHEN LENGTH(r3.math) > 0 THEN 1 ELSE 0 END AS buy_math\n",
    "                     , CASE WHEN LENGTH(r4.math_active) > 0 THEN 1 ELSE 0 END AS math_active\n",
    "                  FROM studs AS l\n",
    "             LEFT JOIN (\n",
    "                         SELECT st_id, SUM(correct) AS correct_cnt\n",
    "                         FROM peas\n",
    "                         GROUP BY st_id\n",
    "                       ) AS r\n",
    "                    ON l.st_id = r.st_id\n",
    "             LEFT JOIN (\n",
    "                         SELECT st_id, SUM(money) AS payments\n",
    "                         FROM final_project_check\n",
    "                         GROUP BY st_id\n",
    "                       ) AS r2\n",
    "                    ON l.st_id = r2.st_id\n",
    "             LEFT JOIN (\n",
    "                         SELECT st_id AS math\n",
    "                           FROM final_project_check\n",
    "                          WHERE subject = 'Math'\n",
    "                       ) AS r3\n",
    "                    ON l.st_id = r3.math\n",
    "             LEFT JOIN (\n",
    "                         SELECT st_id AS math_active, SUM(correct) AS cnt\n",
    "                           FROM peas\n",
    "                          WHERE subject = 'Math'\n",
    "                          GROUP BY st_id\n",
    "                         HAVING cnt >= 2\n",
    "                       ) AS r4\n",
    "                    ON l.st_id = r4.math_active\n",
    "           ) AS t\n",
    "     GROUP BY test_grp\n",
    "    '''\n",
    "\n",
    "df_ch = ph.read_clickhouse(query=q, connection=connection_default)\n",
    "\n",
    "df_ch"
   ]
  },
  {
   "cell_type": "markdown",
   "id": "fa7ee84d-6a18-4ddb-8161-aacea16c4028",
   "metadata": {},
   "source": [
    "### Задача 3"
   ]
  },
  {
   "cell_type": "markdown",
   "id": "07a90edf-44ee-44af-b606-2eca8dd42d13",
   "metadata": {},
   "source": [
    "1) Реализуйте функцию, которая будет автоматически подгружать информацию из дополнительного файла groups_add.csv (заголовки могут отличаться) и на основании дополнительных параметров пересчитывать метрики\n",
    "2) Реализуйте функцию, которая будет строить графики по получаемым метрикам"
   ]
  },
  {
   "cell_type": "code",
   "execution_count": 637,
   "id": "0adc2b8b-2ca3-4a1e-b8a7-a2e9f1217ce6",
   "metadata": {},
   "outputs": [],
   "source": [
    "# Функция для подсчета метрик\n",
    "def metrics_counter(main_df, additional_df, activity_df, checks_df):\n",
    "    # Объединим два датафрейма\n",
    "    full_df = main_df.append(additional_df)\n",
    "    # Добавим данные о покупках для активных пользователей\n",
    "    full_df = activity_df.merge(full_df, how='inner', left_on='student_id', right_on='id')[['id', 'grp']]\n",
    "    full_df = full_df.merge(checks_df, left_on='id', right_on='student_id', how='left')[['grp', 'id', 'rev']]\n",
    "    full_df['is_purchase'] = full_df.rev.apply(lambda x: True if x >=0 else False)\n",
    "    full_df['is_purchase'] = full_df.is_purchase.apply(lambda x: 0 if x == False else 1)\n",
    "    # Посчитаем необходимые метрики (в данном случае нас интересует средний чек и конверсия в покупку)\n",
    "    metrics = full_df.groupby('grp') \\\n",
    "                    .agg({'is_purchase': 'mean', 'rev': 'mean'}) \\\n",
    "                    .reset_index() \\\n",
    "                    .rename(columns={'is_purchase': 'CR', 'rev': 'avg_check'})\n",
    "    # Выведем данные метрик\n",
    "    return metrics"
   ]
  },
  {
   "cell_type": "code",
   "execution_count": 638,
   "id": "4dfde301-c888-4032-83ba-f0b5d4b382d6",
   "metadata": {},
   "outputs": [],
   "source": [
    "# Функция для создания графиков\n",
    "def metrics_graph_builder(main_df, additional_df, activity_df, checks_df):\n",
    "    # Объединим два датафрейма\n",
    "    full_df = main_df.append(additional_df)\n",
    "    # Добавим данные о покупках для активных пользователей\n",
    "    full_df = activity_df.merge(full_df, how='inner', left_on='student_id', right_on='id')[['id', 'grp']]\n",
    "    full_df = full_df.merge(checks_df, left_on='id', right_on='student_id', how='left')[['grp', 'id', 'rev']]\n",
    "    full_df['is_purchase'] = full_df.rev.apply(lambda x: True if x >=0 else False)\n",
    "    full_df['is_purchase'] = full_df.is_purchase.apply(lambda x: 0 if x == False else 1)\n",
    "    # Подготовим данные для построения графиков\n",
    "    df_cr = full_df[['grp','is_purchase']].groupby('grp').agg({'is_purchase': ['sum', 'count']})\n",
    "    df_cr.columns = df_cr.columns.droplevel(level=0)\n",
    "    df_cr = df_cr.reset_index()\n",
    "    \n",
    "    # Выведем графики\n",
    "    plt.title(\"Average check by group\")\n",
    "    sns.boxplot(data=full_df, x=\"grp\", y=\"rev\")\n",
    "    \n",
    "    plt.title(\"CR into purchase by group\")\n",
    "    df_cr.plot.bar(x='grp', stacked=True, title='CR in purchase')\n",
    "\n",
    "    plt.tight_layout()"
   ]
  },
  {
   "cell_type": "code",
   "execution_count": 639,
   "id": "5a0fc41f-c862-43cb-a2f7-9c1839d832c4",
   "metadata": {},
   "outputs": [
    {
     "data": {
      "text/html": [
       "<div>\n",
       "<style scoped>\n",
       "    .dataframe tbody tr th:only-of-type {\n",
       "        vertical-align: middle;\n",
       "    }\n",
       "\n",
       "    .dataframe tbody tr th {\n",
       "        vertical-align: top;\n",
       "    }\n",
       "\n",
       "    .dataframe thead th {\n",
       "        text-align: right;\n",
       "    }\n",
       "</style>\n",
       "<table border=\"1\" class=\"dataframe\">\n",
       "  <thead>\n",
       "    <tr style=\"text-align: right;\">\n",
       "      <th></th>\n",
       "      <th>grp</th>\n",
       "      <th>CR</th>\n",
       "      <th>avg_check</th>\n",
       "    </tr>\n",
       "  </thead>\n",
       "  <tbody>\n",
       "    <tr>\n",
       "      <th>0</th>\n",
       "      <td>A</td>\n",
       "      <td>0.050715</td>\n",
       "      <td>933.589744</td>\n",
       "    </tr>\n",
       "    <tr>\n",
       "      <th>1</th>\n",
       "      <td>B</td>\n",
       "      <td>0.046156</td>\n",
       "      <td>1257.878981</td>\n",
       "    </tr>\n",
       "  </tbody>\n",
       "</table>\n",
       "</div>"
      ],
      "text/plain": [
       "  grp        CR    avg_check\n",
       "0   A  0.050715   933.589744\n",
       "1   B  0.046156  1257.878981"
      ]
     },
     "execution_count": 639,
     "metadata": {},
     "output_type": "execute_result"
    }
   ],
   "source": [
    "# Проверим работу функций\n",
    "metrics_counter(groups, group_add, active_studs, checks)"
   ]
  },
  {
   "cell_type": "code",
   "execution_count": 640,
   "id": "24211089-4408-423f-9caf-a1d0091db2f3",
   "metadata": {},
   "outputs": [
    {
     "data": {
      "image/png": "[encoded data removed]",
      "text/plain": [
       "<Figure size 432x288 with 1 Axes>"
      ]
     },
     "metadata": {
      "needs_background": "light"
     },
     "output_type": "display_data"
    },
    {
     "data": {
      "image/png": "[encoded data removed]",
      "text/plain": [
       "<Figure size 432x288 with 1 Axes>"
      ]
     },
     "metadata": {
      "needs_background": "light"
     },
     "output_type": "display_data"
    }
   ],
   "source": [
    "metrics_graph_builder(groups, group_add, active_studs, checks)"
   ]
  },
  {
   "cell_type": "code",
   "execution_count": null,
   "id": "be0073a7-a92c-40c6-97d3-853d73493080",
   "metadata": {},
   "outputs": [],
   "source": []
  },
  {
   "cell_type": "code",
   "execution_count": null,
   "id": "2cc8e9d2-3ce4-4e88-a7b9-8420dea45a29",
   "metadata": {},
   "outputs": [],
   "source": []
  },
  {
   "cell_type": "code",
   "execution_count": null,
   "id": "f25e9331-68b4-42d3-86f4-e36b63cb8613",
   "metadata": {},
   "outputs": [],
   "source": []
  }
 ],
 "metadata": {
  "kernelspec": {
   "display_name": "Python 3 (ipykernel)",
   "language": "python",
   "name": "python3"
  },
  "language_info": {
   "codemirror_mode": {
    "name": "ipython",
    "version": 3
   },
   "file_extension": ".py",
   "mimetype": "text/x-python",
   "name": "python",
   "nbconvert_exporter": "python",
   "pygments_lexer": "ipython3",
   "version": "3.9.7"
  },
  "toc-autonumbering": false
 },
 "nbformat": 4,
 "nbformat_minor": 5
}
