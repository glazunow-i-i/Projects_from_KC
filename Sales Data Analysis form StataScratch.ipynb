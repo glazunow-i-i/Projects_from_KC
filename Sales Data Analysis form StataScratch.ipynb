{
 "cells": [
  {
   "cell_type": "code",
   "execution_count": 481,
   "id": "96a768c4",
   "metadata": {},
   "outputs": [],
   "source": [
    "import pandas as pd\n",
    "import numpy as np\n",
    "import os\n",
    "from zipfile import ZipFile\n",
    "from datetime import datetime\n",
    "import seaborn as sns\n",
    "import matplotlib.pylab as plt\n",
    "from scipy import stats"
   ]
  },
  {
   "cell_type": "markdown",
   "id": "42c415e5",
   "metadata": {},
   "source": [
    "### Data import"
   ]
  },
  {
   "cell_type": "code",
   "execution_count": 482,
   "id": "bee697c0",
   "metadata": {},
   "outputs": [],
   "source": [
    "# Zip-file import\n",
    "zip_file = ZipFile('datasets.zip')\n",
    "\n",
    "# Making a dictionary with all dfs in the zip-file\n",
    "dfs = {text_file.filename: pd.read_csv(zip_file.open(text_file.filename))\n",
    "       for text_file in zip_file.infolist()\n",
    "       if text_file.filename.endswith('.csv')}\n",
    "\n",
    "# Making an empty df\n",
    "df = pd.DataFrame(columns=['sale_time', 'purchaser_gender'])\n",
    "\n",
    "# Concatenating all dfs to the one df that will be used in the data analysis\n",
    "for csv in dfs:\n",
    "    df = pd.concat([df, dfs[csv]])"
   ]
  },
  {
   "cell_type": "code",
   "execution_count": 483,
   "id": "0a72eb41",
   "metadata": {},
   "outputs": [
    {
     "data": {
      "text/html": [
       "<div>\n",
       "<style scoped>\n",
       "    .dataframe tbody tr th:only-of-type {\n",
       "        vertical-align: middle;\n",
       "    }\n",
       "\n",
       "    .dataframe tbody tr th {\n",
       "        vertical-align: top;\n",
       "    }\n",
       "\n",
       "    .dataframe thead th {\n",
       "        text-align: right;\n",
       "    }\n",
       "</style>\n",
       "<table border=\"1\" class=\"dataframe\">\n",
       "  <thead>\n",
       "    <tr style=\"text-align: right;\">\n",
       "      <th></th>\n",
       "      <th>sale_time</th>\n",
       "      <th>purchaser_gender</th>\n",
       "    </tr>\n",
       "  </thead>\n",
       "  <tbody>\n",
       "    <tr>\n",
       "      <th>0</th>\n",
       "      <td>2012-10-15 01:22:12</td>\n",
       "      <td>male</td>\n",
       "    </tr>\n",
       "    <tr>\n",
       "      <th>1</th>\n",
       "      <td>2012-10-15 01:26:36</td>\n",
       "      <td>male</td>\n",
       "    </tr>\n",
       "    <tr>\n",
       "      <th>2</th>\n",
       "      <td>2012-10-15 01:40:15</td>\n",
       "      <td>female</td>\n",
       "    </tr>\n",
       "    <tr>\n",
       "      <th>3</th>\n",
       "      <td>2012-10-15 01:55:55</td>\n",
       "      <td>female</td>\n",
       "    </tr>\n",
       "    <tr>\n",
       "      <th>4</th>\n",
       "      <td>2012-10-15 02:00:33</td>\n",
       "      <td>female</td>\n",
       "    </tr>\n",
       "  </tbody>\n",
       "</table>\n",
       "</div>"
      ],
      "text/plain": [
       "             sale_time purchaser_gender\n",
       "0  2012-10-15 01:22:12             male\n",
       "1  2012-10-15 01:26:36             male\n",
       "2  2012-10-15 01:40:15           female\n",
       "3  2012-10-15 01:55:55           female\n",
       "4  2012-10-15 02:00:33           female"
      ]
     },
     "execution_count": 483,
     "metadata": {},
     "output_type": "execute_result"
    }
   ],
   "source": [
    "# Let's have a look to the combined df\n",
    "df.head()"
   ]
  },
  {
   "cell_type": "code",
   "execution_count": 484,
   "id": "2d7d0d61",
   "metadata": {},
   "outputs": [
    {
     "data": {
      "text/plain": [
       "sale_time           object\n",
       "purchaser_gender    object\n",
       "dtype: object"
      ]
     },
     "execution_count": 484,
     "metadata": {},
     "output_type": "execute_result"
    }
   ],
   "source": [
    "df.dtypes"
   ]
  },
  {
   "cell_type": "code",
   "execution_count": 485,
   "id": "8126873e",
   "metadata": {},
   "outputs": [],
   "source": [
    "# Change sale_time to datetime data type\n",
    "df['sale_time'] = pd.to_datetime(df['sale_time'])"
   ]
  },
  {
   "cell_type": "code",
   "execution_count": 486,
   "id": "b19a67cc",
   "metadata": {},
   "outputs": [
    {
     "data": {
      "text/plain": [
       "sale_time           datetime64[ns]\n",
       "purchaser_gender            object\n",
       "dtype: object"
      ]
     },
     "execution_count": 486,
     "metadata": {},
     "output_type": "execute_result"
    }
   ],
   "source": [
    "# Checking datatypes\n",
    "df.dtypes"
   ]
  },
  {
   "cell_type": "code",
   "execution_count": 487,
   "id": "44dbb12f",
   "metadata": {},
   "outputs": [],
   "source": [
    "# Also let's take a week number from the date and year in order to group by weeks by year\n",
    "df['year'] = df['sale_time'].dt.isocalendar().year\n",
    "df['week_num'] = df['sale_time'].dt.isocalendar().week\n",
    "df['month'] = df['sale_time'].dt.month\n",
    "df['day'] = df['sale_time'].dt.day\n",
    "df = df.astype({'year': 'int32', 'week_num': 'int32', 'month': 'int32', 'day': 'int32'})"
   ]
  },
  {
   "cell_type": "code",
   "execution_count": 488,
   "id": "8195a049",
   "metadata": {},
   "outputs": [
    {
     "data": {
      "text/html": [
       "<div>\n",
       "<style scoped>\n",
       "    .dataframe tbody tr th:only-of-type {\n",
       "        vertical-align: middle;\n",
       "    }\n",
       "\n",
       "    .dataframe tbody tr th {\n",
       "        vertical-align: top;\n",
       "    }\n",
       "\n",
       "    .dataframe thead th {\n",
       "        text-align: right;\n",
       "    }\n",
       "</style>\n",
       "<table border=\"1\" class=\"dataframe\">\n",
       "  <thead>\n",
       "    <tr style=\"text-align: right;\">\n",
       "      <th></th>\n",
       "      <th>sale_time</th>\n",
       "      <th>purchaser_gender</th>\n",
       "      <th>year</th>\n",
       "      <th>week_num</th>\n",
       "      <th>month</th>\n",
       "      <th>day</th>\n",
       "    </tr>\n",
       "  </thead>\n",
       "  <tbody>\n",
       "    <tr>\n",
       "      <th>0</th>\n",
       "      <td>2012-10-15 01:22:12</td>\n",
       "      <td>male</td>\n",
       "      <td>2012</td>\n",
       "      <td>42</td>\n",
       "      <td>10</td>\n",
       "      <td>15</td>\n",
       "    </tr>\n",
       "    <tr>\n",
       "      <th>1</th>\n",
       "      <td>2012-10-15 01:26:36</td>\n",
       "      <td>male</td>\n",
       "      <td>2012</td>\n",
       "      <td>42</td>\n",
       "      <td>10</td>\n",
       "      <td>15</td>\n",
       "    </tr>\n",
       "    <tr>\n",
       "      <th>2</th>\n",
       "      <td>2012-10-15 01:40:15</td>\n",
       "      <td>female</td>\n",
       "      <td>2012</td>\n",
       "      <td>42</td>\n",
       "      <td>10</td>\n",
       "      <td>15</td>\n",
       "    </tr>\n",
       "    <tr>\n",
       "      <th>3</th>\n",
       "      <td>2012-10-15 01:55:55</td>\n",
       "      <td>female</td>\n",
       "      <td>2012</td>\n",
       "      <td>42</td>\n",
       "      <td>10</td>\n",
       "      <td>15</td>\n",
       "    </tr>\n",
       "    <tr>\n",
       "      <th>4</th>\n",
       "      <td>2012-10-15 02:00:33</td>\n",
       "      <td>female</td>\n",
       "      <td>2012</td>\n",
       "      <td>42</td>\n",
       "      <td>10</td>\n",
       "      <td>15</td>\n",
       "    </tr>\n",
       "  </tbody>\n",
       "</table>\n",
       "</div>"
      ],
      "text/plain": [
       "            sale_time purchaser_gender  year  week_num  month  day\n",
       "0 2012-10-15 01:22:12             male  2012        42     10   15\n",
       "1 2012-10-15 01:26:36             male  2012        42     10   15\n",
       "2 2012-10-15 01:40:15           female  2012        42     10   15\n",
       "3 2012-10-15 01:55:55           female  2012        42     10   15\n",
       "4 2012-10-15 02:00:33           female  2012        42     10   15"
      ]
     },
     "execution_count": 488,
     "metadata": {},
     "output_type": "execute_result"
    }
   ],
   "source": [
    "df.head()"
   ]
  },
  {
   "cell_type": "markdown",
   "id": "77f15b24",
   "metadata": {},
   "source": [
    "### 1. Plot daily sales for all 50 weeks"
   ]
  },
  {
   "cell_type": "code",
   "execution_count": 489,
   "id": "e72bd148",
   "metadata": {},
   "outputs": [],
   "source": [
    "sales_by_weeks = df.groupby(['year', 'week_num'], as_index=False) \\\n",
    "                   .sale_time.count() \\\n",
    "                   .rename(columns={'sale_time': 'sales_amount'})"
   ]
  },
  {
   "cell_type": "code",
   "execution_count": 490,
   "id": "8919b8a4",
   "metadata": {},
   "outputs": [
    {
     "data": {
      "text/html": [
       "<div>\n",
       "<style scoped>\n",
       "    .dataframe tbody tr th:only-of-type {\n",
       "        vertical-align: middle;\n",
       "    }\n",
       "\n",
       "    .dataframe tbody tr th {\n",
       "        vertical-align: top;\n",
       "    }\n",
       "\n",
       "    .dataframe thead th {\n",
       "        text-align: right;\n",
       "    }\n",
       "</style>\n",
       "<table border=\"1\" class=\"dataframe\">\n",
       "  <thead>\n",
       "    <tr style=\"text-align: right;\">\n",
       "      <th></th>\n",
       "      <th>year</th>\n",
       "      <th>week_num</th>\n",
       "      <th>sales_amount</th>\n",
       "    </tr>\n",
       "  </thead>\n",
       "  <tbody>\n",
       "    <tr>\n",
       "      <th>0</th>\n",
       "      <td>2012</td>\n",
       "      <td>40</td>\n",
       "      <td>3545</td>\n",
       "    </tr>\n",
       "    <tr>\n",
       "      <th>1</th>\n",
       "      <td>2012</td>\n",
       "      <td>41</td>\n",
       "      <td>3440</td>\n",
       "    </tr>\n",
       "    <tr>\n",
       "      <th>2</th>\n",
       "      <td>2012</td>\n",
       "      <td>42</td>\n",
       "      <td>3451</td>\n",
       "    </tr>\n",
       "    <tr>\n",
       "      <th>3</th>\n",
       "      <td>2012</td>\n",
       "      <td>43</td>\n",
       "      <td>3463</td>\n",
       "    </tr>\n",
       "    <tr>\n",
       "      <th>4</th>\n",
       "      <td>2012</td>\n",
       "      <td>44</td>\n",
       "      <td>3696</td>\n",
       "    </tr>\n",
       "  </tbody>\n",
       "</table>\n",
       "</div>"
      ],
      "text/plain": [
       "   year  week_num  sales_amount\n",
       "0  2012        40          3545\n",
       "1  2012        41          3440\n",
       "2  2012        42          3451\n",
       "3  2012        43          3463\n",
       "4  2012        44          3696"
      ]
     },
     "execution_count": 490,
     "metadata": {},
     "output_type": "execute_result"
    }
   ],
   "source": [
    "# Let's take a look at our dataframe\n",
    "sales_by_weeks.head()"
   ]
  },
  {
   "cell_type": "code",
   "execution_count": 491,
   "id": "22f20e1a",
   "metadata": {},
   "outputs": [
    {
     "data": {
      "text/plain": [
       "Text(0.5, 0, 'Week number')"
      ]
     },
     "execution_count": 491,
     "metadata": {},
     "output_type": "execute_result"
    },
    {
     "data": {
      "image/png": "[encoded data removed]",
      "text/plain": [
       "<Figure size 1152x576 with 1 Axes>"
      ]
     },
     "metadata": {
      "needs_background": "light"
     },
     "output_type": "display_data"
    }
   ],
   "source": [
    "# And plot it!\n",
    "plt.figure(figsize=(16,8))\n",
    "plt.title('Sales by weeks\\n')\n",
    "\n",
    "sns.barplot(data=sales_by_weeks,\n",
    "            x='week_num',\n",
    "            y='sales_amount',\n",
    "            order=sales_by_weeks['week_num'])\n",
    "\n",
    "# plt.locator_params(axis='x', nbins=25)\n",
    "plt.xlabel(\"Week number\")"
   ]
  },
  {
   "cell_type": "markdown",
   "id": "1c1b4934",
   "metadata": {},
   "source": [
    "### 2. It looks like there has been a sudden change in daily sales. What date did it occur?"
   ]
  },
  {
   "cell_type": "code",
   "execution_count": 492,
   "id": "b6967e0b",
   "metadata": {},
   "outputs": [
    {
     "data": {
      "text/html": [
       "<div>\n",
       "<style scoped>\n",
       "    .dataframe tbody tr th:only-of-type {\n",
       "        vertical-align: middle;\n",
       "    }\n",
       "\n",
       "    .dataframe tbody tr th {\n",
       "        vertical-align: top;\n",
       "    }\n",
       "\n",
       "    .dataframe thead th {\n",
       "        text-align: right;\n",
       "    }\n",
       "</style>\n",
       "<table border=\"1\" class=\"dataframe\">\n",
       "  <thead>\n",
       "    <tr style=\"text-align: right;\">\n",
       "      <th></th>\n",
       "      <th>year</th>\n",
       "      <th>week_num</th>\n",
       "      <th>month</th>\n",
       "      <th>day</th>\n",
       "      <th>sale_time</th>\n",
       "    </tr>\n",
       "  </thead>\n",
       "  <tbody>\n",
       "    <tr>\n",
       "      <th>0</th>\n",
       "      <td>2013</td>\n",
       "      <td>17</td>\n",
       "      <td>4</td>\n",
       "      <td>22</td>\n",
       "      <td>540</td>\n",
       "    </tr>\n",
       "    <tr>\n",
       "      <th>1</th>\n",
       "      <td>2013</td>\n",
       "      <td>17</td>\n",
       "      <td>4</td>\n",
       "      <td>23</td>\n",
       "      <td>472</td>\n",
       "    </tr>\n",
       "    <tr>\n",
       "      <th>2</th>\n",
       "      <td>2013</td>\n",
       "      <td>17</td>\n",
       "      <td>4</td>\n",
       "      <td>24</td>\n",
       "      <td>487</td>\n",
       "    </tr>\n",
       "    <tr>\n",
       "      <th>3</th>\n",
       "      <td>2013</td>\n",
       "      <td>17</td>\n",
       "      <td>4</td>\n",
       "      <td>25</td>\n",
       "      <td>498</td>\n",
       "    </tr>\n",
       "    <tr>\n",
       "      <th>4</th>\n",
       "      <td>2013</td>\n",
       "      <td>17</td>\n",
       "      <td>4</td>\n",
       "      <td>26</td>\n",
       "      <td>480</td>\n",
       "    </tr>\n",
       "    <tr>\n",
       "      <th>5</th>\n",
       "      <td>2013</td>\n",
       "      <td>17</td>\n",
       "      <td>4</td>\n",
       "      <td>27</td>\n",
       "      <td>489</td>\n",
       "    </tr>\n",
       "    <tr>\n",
       "      <th>6</th>\n",
       "      <td>2013</td>\n",
       "      <td>17</td>\n",
       "      <td>4</td>\n",
       "      <td>28</td>\n",
       "      <td>458</td>\n",
       "    </tr>\n",
       "    <tr>\n",
       "      <th>7</th>\n",
       "      <td>2013</td>\n",
       "      <td>18</td>\n",
       "      <td>4</td>\n",
       "      <td>29</td>\n",
       "      <td>732</td>\n",
       "    </tr>\n",
       "    <tr>\n",
       "      <th>8</th>\n",
       "      <td>2013</td>\n",
       "      <td>18</td>\n",
       "      <td>4</td>\n",
       "      <td>30</td>\n",
       "      <td>732</td>\n",
       "    </tr>\n",
       "    <tr>\n",
       "      <th>9</th>\n",
       "      <td>2013</td>\n",
       "      <td>18</td>\n",
       "      <td>5</td>\n",
       "      <td>1</td>\n",
       "      <td>709</td>\n",
       "    </tr>\n",
       "    <tr>\n",
       "      <th>10</th>\n",
       "      <td>2013</td>\n",
       "      <td>18</td>\n",
       "      <td>5</td>\n",
       "      <td>2</td>\n",
       "      <td>744</td>\n",
       "    </tr>\n",
       "    <tr>\n",
       "      <th>11</th>\n",
       "      <td>2013</td>\n",
       "      <td>18</td>\n",
       "      <td>5</td>\n",
       "      <td>3</td>\n",
       "      <td>647</td>\n",
       "    </tr>\n",
       "    <tr>\n",
       "      <th>12</th>\n",
       "      <td>2013</td>\n",
       "      <td>18</td>\n",
       "      <td>5</td>\n",
       "      <td>4</td>\n",
       "      <td>707</td>\n",
       "    </tr>\n",
       "    <tr>\n",
       "      <th>13</th>\n",
       "      <td>2013</td>\n",
       "      <td>18</td>\n",
       "      <td>5</td>\n",
       "      <td>5</td>\n",
       "      <td>728</td>\n",
       "    </tr>\n",
       "  </tbody>\n",
       "</table>\n",
       "</div>"
      ],
      "text/plain": [
       "    year  week_num  month  day  sale_time\n",
       "0   2013        17      4   22        540\n",
       "1   2013        17      4   23        472\n",
       "2   2013        17      4   24        487\n",
       "3   2013        17      4   25        498\n",
       "4   2013        17      4   26        480\n",
       "5   2013        17      4   27        489\n",
       "6   2013        17      4   28        458\n",
       "7   2013        18      4   29        732\n",
       "8   2013        18      4   30        732\n",
       "9   2013        18      5    1        709\n",
       "10  2013        18      5    2        744\n",
       "11  2013        18      5    3        647\n",
       "12  2013        18      5    4        707\n",
       "13  2013        18      5    5        728"
      ]
     },
     "execution_count": 492,
     "metadata": {},
     "output_type": "execute_result"
    }
   ],
   "source": [
    "# let's look at those two weeks where the biggest change occured\n",
    "change_17_18 = df.query('week_num == [17, 18]').groupby(['year', 'week_num', 'month', 'day'], as_index=False) \\\n",
    "    .sale_time.count() \\\n",
    "    .sort_values(['month', 'day'])\n",
    "change_17_18"
   ]
  },
  {
   "cell_type": "code",
   "execution_count": 493,
   "id": "d5514e67",
   "metadata": {},
   "outputs": [],
   "source": [
    "# Count the difference in order to find the biggest change\n",
    "change_17_18['abs_change'] = change_17_18['sale_time'].diff().apply(abs)"
   ]
  },
  {
   "cell_type": "code",
   "execution_count": 494,
   "id": "1a739749",
   "metadata": {},
   "outputs": [
    {
     "name": "stdout",
     "output_type": "stream",
     "text": [
      "Date of the biggest change: 29-4-2013 (max abs diff: 274.0)\n"
     ]
    }
   ],
   "source": [
    "max_diff = change_17_18.sort_values('abs_change', ascending=False).head(1)\n",
    "\n",
    "print(f'Date of the biggest change: {max_diff.iloc[0, 3]}-{max_diff.iloc[0, 2]}-{max_diff.iloc[0, 0]} (max abs diff: {max_diff.iloc[0, 5]})')"
   ]
  },
  {
   "cell_type": "markdown",
   "id": "ac4baa2c",
   "metadata": {},
   "source": [
    "### 3. Is the change in daily sales at the date you selected statistically significant? If so, what is the p-value?"
   ]
  },
  {
   "cell_type": "code",
   "execution_count": 495,
   "id": "d11f5d81",
   "metadata": {},
   "outputs": [],
   "source": [
    "df['date'] = df['sale_time'].dt.date"
   ]
  },
  {
   "cell_type": "code",
   "execution_count": 496,
   "id": "7fcfa359",
   "metadata": {},
   "outputs": [
    {
     "data": {
      "text/html": [
       "<div>\n",
       "<style scoped>\n",
       "    .dataframe tbody tr th:only-of-type {\n",
       "        vertical-align: middle;\n",
       "    }\n",
       "\n",
       "    .dataframe tbody tr th {\n",
       "        vertical-align: top;\n",
       "    }\n",
       "\n",
       "    .dataframe thead th {\n",
       "        text-align: right;\n",
       "    }\n",
       "</style>\n",
       "<table border=\"1\" class=\"dataframe\">\n",
       "  <thead>\n",
       "    <tr style=\"text-align: right;\">\n",
       "      <th></th>\n",
       "      <th>date</th>\n",
       "      <th>sale_time</th>\n",
       "    </tr>\n",
       "  </thead>\n",
       "  <tbody>\n",
       "    <tr>\n",
       "      <th>0</th>\n",
       "      <td>2012-10-01</td>\n",
       "      <td>514</td>\n",
       "    </tr>\n",
       "    <tr>\n",
       "      <th>1</th>\n",
       "      <td>2012-10-02</td>\n",
       "      <td>482</td>\n",
       "    </tr>\n",
       "    <tr>\n",
       "      <th>2</th>\n",
       "      <td>2012-10-03</td>\n",
       "      <td>499</td>\n",
       "    </tr>\n",
       "    <tr>\n",
       "      <th>3</th>\n",
       "      <td>2012-10-04</td>\n",
       "      <td>546</td>\n",
       "    </tr>\n",
       "    <tr>\n",
       "      <th>4</th>\n",
       "      <td>2012-10-05</td>\n",
       "      <td>476</td>\n",
       "    </tr>\n",
       "  </tbody>\n",
       "</table>\n",
       "</div>"
      ],
      "text/plain": [
       "         date  sale_time\n",
       "0  2012-10-01        514\n",
       "1  2012-10-02        482\n",
       "2  2012-10-03        499\n",
       "3  2012-10-04        546\n",
       "4  2012-10-05        476"
      ]
     },
     "execution_count": 496,
     "metadata": {},
     "output_type": "execute_result"
    }
   ],
   "source": [
    "sales_per_day = df.groupby('date', as_index=False) \\\n",
    "    .sale_time.count()\n",
    "sales_per_day.head()"
   ]
  },
  {
   "cell_type": "code",
   "execution_count": 497,
   "id": "c347fab5",
   "metadata": {},
   "outputs": [],
   "source": [
    "#count diff for the whole dataset\n",
    "sales_per_day['diff'] = sales_per_day['sale_time'].diff().apply(abs)"
   ]
  },
  {
   "cell_type": "code",
   "execution_count": 498,
   "id": "929625d9",
   "metadata": {},
   "outputs": [
    {
     "name": "stdout",
     "output_type": "stream",
     "text": [
      "P-value: 3.8957725020358616e-290\n"
     ]
    }
   ],
   "source": [
    "#then count the p-value for our max change in order to see the p-value\n",
    "print(f'P-value: {stats.ttest_1samp(sales_per_day[\"diff\"].dropna(), sales_per_day[\"diff\"].max())[1]}')"
   ]
  },
  {
   "cell_type": "markdown",
   "id": "dc3b7c87",
   "metadata": {},
   "source": [
    "### 4. Does the data suggest that the change in daily sales is due to a shift in the proportion of male-vs-female customers? Please use plots to support your answer (a rigorous statistical analysis is not necessary)."
   ]
  },
  {
   "cell_type": "code",
   "execution_count": 499,
   "id": "39ab1e1d",
   "metadata": {},
   "outputs": [
    {
     "data": {
      "text/html": [
       "<div>\n",
       "<style scoped>\n",
       "    .dataframe tbody tr th:only-of-type {\n",
       "        vertical-align: middle;\n",
       "    }\n",
       "\n",
       "    .dataframe tbody tr th {\n",
       "        vertical-align: top;\n",
       "    }\n",
       "\n",
       "    .dataframe thead th {\n",
       "        text-align: right;\n",
       "    }\n",
       "</style>\n",
       "<table border=\"1\" class=\"dataframe\">\n",
       "  <thead>\n",
       "    <tr style=\"text-align: right;\">\n",
       "      <th>purchaser_gender</th>\n",
       "      <th>date</th>\n",
       "      <th>female</th>\n",
       "      <th>male</th>\n",
       "    </tr>\n",
       "  </thead>\n",
       "  <tbody>\n",
       "    <tr>\n",
       "      <th>0</th>\n",
       "      <td>2012-10-01</td>\n",
       "      <td>413</td>\n",
       "      <td>101</td>\n",
       "    </tr>\n",
       "    <tr>\n",
       "      <th>1</th>\n",
       "      <td>2012-10-02</td>\n",
       "      <td>379</td>\n",
       "      <td>103</td>\n",
       "    </tr>\n",
       "    <tr>\n",
       "      <th>2</th>\n",
       "      <td>2012-10-03</td>\n",
       "      <td>386</td>\n",
       "      <td>113</td>\n",
       "    </tr>\n",
       "    <tr>\n",
       "      <th>3</th>\n",
       "      <td>2012-10-04</td>\n",
       "      <td>432</td>\n",
       "      <td>114</td>\n",
       "    </tr>\n",
       "    <tr>\n",
       "      <th>4</th>\n",
       "      <td>2012-10-05</td>\n",
       "      <td>368</td>\n",
       "      <td>108</td>\n",
       "    </tr>\n",
       "    <tr>\n",
       "      <th>...</th>\n",
       "      <td>...</td>\n",
       "      <td>...</td>\n",
       "      <td>...</td>\n",
       "    </tr>\n",
       "    <tr>\n",
       "      <th>345</th>\n",
       "      <td>2013-09-11</td>\n",
       "      <td>224</td>\n",
       "      <td>495</td>\n",
       "    </tr>\n",
       "    <tr>\n",
       "      <th>346</th>\n",
       "      <td>2013-09-12</td>\n",
       "      <td>225</td>\n",
       "      <td>510</td>\n",
       "    </tr>\n",
       "    <tr>\n",
       "      <th>347</th>\n",
       "      <td>2013-09-13</td>\n",
       "      <td>206</td>\n",
       "      <td>537</td>\n",
       "    </tr>\n",
       "    <tr>\n",
       "      <th>348</th>\n",
       "      <td>2013-09-14</td>\n",
       "      <td>193</td>\n",
       "      <td>462</td>\n",
       "    </tr>\n",
       "    <tr>\n",
       "      <th>349</th>\n",
       "      <td>2013-09-15</td>\n",
       "      <td>230</td>\n",
       "      <td>522</td>\n",
       "    </tr>\n",
       "  </tbody>\n",
       "</table>\n",
       "<p>350 rows × 3 columns</p>\n",
       "</div>"
      ],
      "text/plain": [
       "purchaser_gender        date  female  male\n",
       "0                 2012-10-01     413   101\n",
       "1                 2012-10-02     379   103\n",
       "2                 2012-10-03     386   113\n",
       "3                 2012-10-04     432   114\n",
       "4                 2012-10-05     368   108\n",
       "..                       ...     ...   ...\n",
       "345               2013-09-11     224   495\n",
       "346               2013-09-12     225   510\n",
       "347               2013-09-13     206   537\n",
       "348               2013-09-14     193   462\n",
       "349               2013-09-15     230   522\n",
       "\n",
       "[350 rows x 3 columns]"
      ]
     },
     "execution_count": 499,
     "metadata": {},
     "output_type": "execute_result"
    }
   ],
   "source": [
    "# In order to see the proportion - we should group our data by date and gender\n",
    "gender_count = df.groupby(['date', 'purchaser_gender'], as_index=False) \\\n",
    "                    .sale_time.count() \\\n",
    "                    .pivot(index='date', columns='purchaser_gender', values='sale_time').reset_index()\n",
    "\n",
    "gender_count"
   ]
  },
  {
   "cell_type": "code",
   "execution_count": 500,
   "id": "646f2d18",
   "metadata": {},
   "outputs": [],
   "source": [
    "# Then we make another column which will show us th edifference between females and males customers\n",
    "gender_count['female_male_ratio'] = gender_count['female'] / gender_count['male']\n",
    "gender_count['all_purchases'] = gender_count['female'] + gender_count['male']"
   ]
  },
  {
   "cell_type": "code",
   "execution_count": 501,
   "id": "18670310",
   "metadata": {},
   "outputs": [
    {
     "data": {
      "text/plain": [
       "<AxesSubplot:xlabel='date', ylabel='all_purchases'>"
      ]
     },
     "execution_count": 501,
     "metadata": {},
     "output_type": "execute_result"
    },
    {
     "data": {
      "image/png": "[encoded data removed]",
      "text/plain": [
       "<Figure size 1080x720 with 2 Axes>"
      ]
     },
     "metadata": {
      "needs_background": "light"
     },
     "output_type": "display_data"
    }
   ],
   "source": [
    "# And plot it!\n",
    "fig, ax = plt.subplots(nrows=2, ncols=1, figsize=(15, 10))\n",
    "\n",
    "sns.lineplot(data=gender_count,\n",
    "             x='date', y='female_male_ratio',\n",
    "             ax=ax[0])\n",
    "sns.lineplot(data=gender_count,\n",
    "             x='date', y='all_purchases',\n",
    "             ax=ax[1])"
   ]
  },
  {
   "cell_type": "markdown",
   "id": "25c9e4f2",
   "metadata": {},
   "source": [
    "We see on the graph that first dates characterised by the bigger amount of female customers, than the situation changed simmetrically.  \n",
    "What we also that there is no such big change in the female/male ratio, that we see on the overall purchases graph"
   ]
  },
  {
   "cell_type": "markdown",
   "id": "d2921b1c",
   "metadata": {},
   "source": [
    "### 5. Assume a given day is divided into four dayparts:\n",
    "#### - night (12:00AM - 6:00AM),\n",
    "#### - morning (6:00AM - 12:00PM),\n",
    "#### - afternoon (12:00PM - 6:00PM),\n",
    "#### - evening (6:00PM - 12:00AM).\n",
    "#### What is the percentage of sales in each daypart over all 50 weeks?"
   ]
  },
  {
   "cell_type": "code",
   "execution_count": 502,
   "id": "638e14b0",
   "metadata": {},
   "outputs": [],
   "source": [
    "df['hour'] = df.sale_time.dt.hour"
   ]
  },
  {
   "cell_type": "code",
   "execution_count": 503,
   "id": "a1919d3a",
   "metadata": {},
   "outputs": [
    {
     "data": {
      "text/html": [
       "<div>\n",
       "<style scoped>\n",
       "    .dataframe tbody tr th:only-of-type {\n",
       "        vertical-align: middle;\n",
       "    }\n",
       "\n",
       "    .dataframe tbody tr th {\n",
       "        vertical-align: top;\n",
       "    }\n",
       "\n",
       "    .dataframe thead th {\n",
       "        text-align: right;\n",
       "    }\n",
       "</style>\n",
       "<table border=\"1\" class=\"dataframe\">\n",
       "  <thead>\n",
       "    <tr style=\"text-align: right;\">\n",
       "      <th></th>\n",
       "      <th>sale_time</th>\n",
       "      <th>purchaser_gender</th>\n",
       "      <th>year</th>\n",
       "      <th>week_num</th>\n",
       "      <th>month</th>\n",
       "      <th>day</th>\n",
       "      <th>date</th>\n",
       "      <th>hour</th>\n",
       "    </tr>\n",
       "  </thead>\n",
       "  <tbody>\n",
       "    <tr>\n",
       "      <th>0</th>\n",
       "      <td>2012-10-15 01:22:12</td>\n",
       "      <td>male</td>\n",
       "      <td>2012</td>\n",
       "      <td>42</td>\n",
       "      <td>10</td>\n",
       "      <td>15</td>\n",
       "      <td>2012-10-15</td>\n",
       "      <td>1</td>\n",
       "    </tr>\n",
       "    <tr>\n",
       "      <th>1</th>\n",
       "      <td>2012-10-15 01:26:36</td>\n",
       "      <td>male</td>\n",
       "      <td>2012</td>\n",
       "      <td>42</td>\n",
       "      <td>10</td>\n",
       "      <td>15</td>\n",
       "      <td>2012-10-15</td>\n",
       "      <td>1</td>\n",
       "    </tr>\n",
       "    <tr>\n",
       "      <th>2</th>\n",
       "      <td>2012-10-15 01:40:15</td>\n",
       "      <td>female</td>\n",
       "      <td>2012</td>\n",
       "      <td>42</td>\n",
       "      <td>10</td>\n",
       "      <td>15</td>\n",
       "      <td>2012-10-15</td>\n",
       "      <td>1</td>\n",
       "    </tr>\n",
       "    <tr>\n",
       "      <th>3</th>\n",
       "      <td>2012-10-15 01:55:55</td>\n",
       "      <td>female</td>\n",
       "      <td>2012</td>\n",
       "      <td>42</td>\n",
       "      <td>10</td>\n",
       "      <td>15</td>\n",
       "      <td>2012-10-15</td>\n",
       "      <td>1</td>\n",
       "    </tr>\n",
       "    <tr>\n",
       "      <th>4</th>\n",
       "      <td>2012-10-15 02:00:33</td>\n",
       "      <td>female</td>\n",
       "      <td>2012</td>\n",
       "      <td>42</td>\n",
       "      <td>10</td>\n",
       "      <td>15</td>\n",
       "      <td>2012-10-15</td>\n",
       "      <td>2</td>\n",
       "    </tr>\n",
       "  </tbody>\n",
       "</table>\n",
       "</div>"
      ],
      "text/plain": [
       "            sale_time purchaser_gender  year  week_num  month  day  \\\n",
       "0 2012-10-15 01:22:12             male  2012        42     10   15   \n",
       "1 2012-10-15 01:26:36             male  2012        42     10   15   \n",
       "2 2012-10-15 01:40:15           female  2012        42     10   15   \n",
       "3 2012-10-15 01:55:55           female  2012        42     10   15   \n",
       "4 2012-10-15 02:00:33           female  2012        42     10   15   \n",
       "\n",
       "         date  hour  \n",
       "0  2012-10-15     1  \n",
       "1  2012-10-15     1  \n",
       "2  2012-10-15     1  \n",
       "3  2012-10-15     1  \n",
       "4  2012-10-15     2  "
      ]
     },
     "execution_count": 503,
     "metadata": {},
     "output_type": "execute_result"
    }
   ],
   "source": [
    "df.head()"
   ]
  },
  {
   "cell_type": "code",
   "execution_count": 504,
   "id": "5d1abfef",
   "metadata": {},
   "outputs": [],
   "source": [
    "def time_bins(x):\n",
    "    if x < 6:\n",
    "        return 'night'\n",
    "    elif x >= 6 and x < 12:\n",
    "        return 'morning'\n",
    "    elif x >= 12 and x < 18:\n",
    "        return 'afternoon'\n",
    "    else:\n",
    "        return 'evening'"
   ]
  },
  {
   "cell_type": "code",
   "execution_count": 505,
   "id": "c37c6cdf",
   "metadata": {},
   "outputs": [],
   "source": [
    "df['day_period'] = df['hour'].apply(time_bins)"
   ]
  },
  {
   "cell_type": "code",
   "execution_count": 506,
   "id": "3b15a7d0",
   "metadata": {},
   "outputs": [
    {
     "data": {
      "text/html": [
       "<div>\n",
       "<style scoped>\n",
       "    .dataframe tbody tr th:only-of-type {\n",
       "        vertical-align: middle;\n",
       "    }\n",
       "\n",
       "    .dataframe tbody tr th {\n",
       "        vertical-align: top;\n",
       "    }\n",
       "\n",
       "    .dataframe thead th {\n",
       "        text-align: right;\n",
       "    }\n",
       "</style>\n",
       "<table border=\"1\" class=\"dataframe\">\n",
       "  <thead>\n",
       "    <tr style=\"text-align: right;\">\n",
       "      <th></th>\n",
       "      <th>sale_time</th>\n",
       "      <th>purchaser_gender</th>\n",
       "      <th>year</th>\n",
       "      <th>week_num</th>\n",
       "      <th>month</th>\n",
       "      <th>day</th>\n",
       "      <th>date</th>\n",
       "      <th>hour</th>\n",
       "      <th>day_period</th>\n",
       "    </tr>\n",
       "  </thead>\n",
       "  <tbody>\n",
       "    <tr>\n",
       "      <th>0</th>\n",
       "      <td>2012-10-15 01:22:12</td>\n",
       "      <td>male</td>\n",
       "      <td>2012</td>\n",
       "      <td>42</td>\n",
       "      <td>10</td>\n",
       "      <td>15</td>\n",
       "      <td>2012-10-15</td>\n",
       "      <td>1</td>\n",
       "      <td>night</td>\n",
       "    </tr>\n",
       "    <tr>\n",
       "      <th>1</th>\n",
       "      <td>2012-10-15 01:26:36</td>\n",
       "      <td>male</td>\n",
       "      <td>2012</td>\n",
       "      <td>42</td>\n",
       "      <td>10</td>\n",
       "      <td>15</td>\n",
       "      <td>2012-10-15</td>\n",
       "      <td>1</td>\n",
       "      <td>night</td>\n",
       "    </tr>\n",
       "    <tr>\n",
       "      <th>2</th>\n",
       "      <td>2012-10-15 01:40:15</td>\n",
       "      <td>female</td>\n",
       "      <td>2012</td>\n",
       "      <td>42</td>\n",
       "      <td>10</td>\n",
       "      <td>15</td>\n",
       "      <td>2012-10-15</td>\n",
       "      <td>1</td>\n",
       "      <td>night</td>\n",
       "    </tr>\n",
       "    <tr>\n",
       "      <th>3</th>\n",
       "      <td>2012-10-15 01:55:55</td>\n",
       "      <td>female</td>\n",
       "      <td>2012</td>\n",
       "      <td>42</td>\n",
       "      <td>10</td>\n",
       "      <td>15</td>\n",
       "      <td>2012-10-15</td>\n",
       "      <td>1</td>\n",
       "      <td>night</td>\n",
       "    </tr>\n",
       "    <tr>\n",
       "      <th>4</th>\n",
       "      <td>2012-10-15 02:00:33</td>\n",
       "      <td>female</td>\n",
       "      <td>2012</td>\n",
       "      <td>42</td>\n",
       "      <td>10</td>\n",
       "      <td>15</td>\n",
       "      <td>2012-10-15</td>\n",
       "      <td>2</td>\n",
       "      <td>night</td>\n",
       "    </tr>\n",
       "  </tbody>\n",
       "</table>\n",
       "</div>"
      ],
      "text/plain": [
       "            sale_time purchaser_gender  year  week_num  month  day  \\\n",
       "0 2012-10-15 01:22:12             male  2012        42     10   15   \n",
       "1 2012-10-15 01:26:36             male  2012        42     10   15   \n",
       "2 2012-10-15 01:40:15           female  2012        42     10   15   \n",
       "3 2012-10-15 01:55:55           female  2012        42     10   15   \n",
       "4 2012-10-15 02:00:33           female  2012        42     10   15   \n",
       "\n",
       "         date  hour day_period  \n",
       "0  2012-10-15     1      night  \n",
       "1  2012-10-15     1      night  \n",
       "2  2012-10-15     1      night  \n",
       "3  2012-10-15     1      night  \n",
       "4  2012-10-15     2      night  "
      ]
     },
     "execution_count": 506,
     "metadata": {},
     "output_type": "execute_result"
    }
   ],
   "source": [
    "df.head()"
   ]
  },
  {
   "cell_type": "code",
   "execution_count": 507,
   "id": "70be1686",
   "metadata": {},
   "outputs": [
    {
     "data": {
      "text/plain": [
       "afternoon    0.394134\n",
       "morning      0.307690\n",
       "evening      0.208585\n",
       "night        0.089591\n",
       "Name: day_period, dtype: float64"
      ]
     },
     "execution_count": 507,
     "metadata": {},
     "output_type": "execute_result"
    }
   ],
   "source": [
    "df['day_period'].value_counts(normalize=True)"
   ]
  }
 ],
 "metadata": {
  "kernelspec": {
   "display_name": "Python 3 (ipykernel)",
   "language": "python",
   "name": "python3"
  },
  "language_info": {
   "codemirror_mode": {
    "name": "ipython",
    "version": 3
   },
   "file_extension": ".py",
   "mimetype": "text/x-python",
   "name": "python",
   "nbconvert_exporter": "python",
   "pygments_lexer": "ipython3",
   "version": "3.9.12"
  }
 },
 "nbformat": 4,
 "nbformat_minor": 5
}
